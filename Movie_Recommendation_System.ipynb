{
  "nbformat": 4,
  "nbformat_minor": 0,
  "metadata": {
    "colab": {
      "provenance": []
    },
    "kernelspec": {
      "name": "python3",
      "display_name": "Python 3"
    },
    "language_info": {
      "name": "python"
    }
  },
  "cells": [
    {
      "cell_type": "code",
      "execution_count": null,
      "metadata": {
        "id": "VqIWAs2d7YB3"
      },
      "outputs": [],
      "source": [
        "#IMPORT LIBRARY\n",
        "import pandas as pd\n",
        "import numpy as np"
      ]
    },
    {
      "cell_type": "code",
      "source": [
        "#Import data\n",
        "df=pd.read_csv(\"/content/Movies Recommendation.csv\")\n",
        "df.head()"
      ],
      "metadata": {
        "colab": {
          "base_uri": "https://localhost:8080/",
          "height": 672
        },
        "id": "GlkWh6bZ8Eto",
        "outputId": "0ad66d91-489c-4573-9d19-5971a702460e"
      },
      "execution_count": null,
      "outputs": [
        {
          "output_type": "execute_result",
          "data": {
            "text/plain": [
              "   Movie_ID      Movie_Title                       Movie_Genre Movie_Language  \\\n",
              "0         1       Four Rooms                      Crime Comedy             en   \n",
              "1         2        Star Wars  Adventure Action Science Fiction             en   \n",
              "2         3     Finding Nemo                  Animation Family             en   \n",
              "3         4     Forrest Gump              Comedy Drama Romance             en   \n",
              "4         5  American Beauty                             Drama             en   \n",
              "\n",
              "   Movie_Budget  Movie_Popularity Movie_Release_Date  Movie_Revenue  \\\n",
              "0       4000000         22.876230         09-12-1995        4300000   \n",
              "1      11000000        126.393695         25-05-1977      775398007   \n",
              "2      94000000         85.688789         30-05-2003      940335536   \n",
              "3      55000000        138.133331         06-07-1994      677945399   \n",
              "4      15000000         80.878605         15-09-1999      356296601   \n",
              "\n",
              "   Movie_Runtime  Movie_Vote  ...  \\\n",
              "0           98.0         6.5  ...   \n",
              "1          121.0         8.1  ...   \n",
              "2          100.0         7.6  ...   \n",
              "3          142.0         8.2  ...   \n",
              "4          122.0         7.9  ...   \n",
              "\n",
              "                                      Movie_Homepage  \\\n",
              "0                                                NaN   \n",
              "1  http://www.starwars.com/films/star-wars-episod...   \n",
              "2              http://movies.disney.com/finding-nemo   \n",
              "3                                                NaN   \n",
              "4                      http://www.dreamworks.com/ab/   \n",
              "\n",
              "                                      Movie_Keywords  \\\n",
              "0          hotel new year's eve witch bet hotel room   \n",
              "1        android galaxy hermit death star lightsaber   \n",
              "2  father son relationship harbor underwater fish...   \n",
              "3  vietnam veteran hippie mentally disabled runni...   \n",
              "4  male nudity female nudity adultery midlife cri...   \n",
              "\n",
              "                                      Movie_Overview  \\\n",
              "0  It's Ted the Bellhop's first night on the job....   \n",
              "1  Princess Leia is captured and held hostage by ...   \n",
              "2  Nemo, an adventurous young clownfish, is unexp...   \n",
              "3  A man with a low IQ has accomplished great thi...   \n",
              "4  Lester Burnham, a depressed suburban father in...   \n",
              "\n",
              "                              Movie_Production_House  \\\n",
              "0  [{\"name\": \"Miramax Films\", \"id\": 14}, {\"name\":...   \n",
              "1  [{\"name\": \"Lucasfilm\", \"id\": 1}, {\"name\": \"Twe...   \n",
              "2     [{\"name\": \"Pixar Animation Studios\", \"id\": 3}]   \n",
              "3          [{\"name\": \"Paramount Pictures\", \"id\": 4}]   \n",
              "4  [{\"name\": \"DreamWorks SKG\", \"id\": 27}, {\"name\"...   \n",
              "\n",
              "                            Movie_Production_Country  \\\n",
              "0  [{\"iso_3166_1\": \"US\", \"name\": \"United States o...   \n",
              "1  [{\"iso_3166_1\": \"US\", \"name\": \"United States o...   \n",
              "2  [{\"iso_3166_1\": \"US\", \"name\": \"United States o...   \n",
              "3  [{\"iso_3166_1\": \"US\", \"name\": \"United States o...   \n",
              "4  [{\"iso_3166_1\": \"US\", \"name\": \"United States o...   \n",
              "\n",
              "                      Movie_Spoken_Language  \\\n",
              "0  [{\"iso_639_1\": \"en\", \"name\": \"English\"}]   \n",
              "1  [{\"iso_639_1\": \"en\", \"name\": \"English\"}]   \n",
              "2  [{\"iso_639_1\": \"en\", \"name\": \"English\"}]   \n",
              "3  [{\"iso_639_1\": \"en\", \"name\": \"English\"}]   \n",
              "4  [{\"iso_639_1\": \"en\", \"name\": \"English\"}]   \n",
              "\n",
              "                                       Movie_Tagline  \\\n",
              "0  Twelve outrageous guests. Four scandalous requ...   \n",
              "1       A long time ago in a galaxy far, far away...   \n",
              "2  There are 3.7 trillion fish in the ocean, they...   \n",
              "3  The world will never be the same, once you've ...   \n",
              "4                                       Look closer.   \n",
              "\n",
              "                                          Movie_Cast  \\\n",
              "0  Tim Roth Antonio Banderas Jennifer Beals Madon...   \n",
              "1  Mark Hamill Harrison Ford Carrie Fisher Peter ...   \n",
              "2  Albert Brooks Ellen DeGeneres Alexander Gould ...   \n",
              "3  Tom Hanks Robin Wright Gary Sinise Mykelti Wil...   \n",
              "4  Kevin Spacey Annette Bening Thora Birch Wes Be...   \n",
              "\n",
              "                                          Movie_Crew   Movie_Director  \n",
              "0  [{'name': 'Allison Anders', 'gender': 1, 'depa...   Allison Anders  \n",
              "1  [{'name': 'George Lucas', 'gender': 2, 'depart...     George Lucas  \n",
              "2  [{'name': 'Andrew Stanton', 'gender': 2, 'depa...   Andrew Stanton  \n",
              "3  [{'name': 'Alan Silvestri', 'gender': 2, 'depa...  Robert Zemeckis  \n",
              "4  [{'name': 'Thomas Newman', 'gender': 2, 'depar...       Sam Mendes  \n",
              "\n",
              "[5 rows x 21 columns]"
            ],
            "text/html": [
              "\n",
              "  <div id=\"df-e52d4542-ee9d-44ba-b189-6b5ec790ed07\" class=\"colab-df-container\">\n",
              "    <div>\n",
              "<style scoped>\n",
              "    .dataframe tbody tr th:only-of-type {\n",
              "        vertical-align: middle;\n",
              "    }\n",
              "\n",
              "    .dataframe tbody tr th {\n",
              "        vertical-align: top;\n",
              "    }\n",
              "\n",
              "    .dataframe thead th {\n",
              "        text-align: right;\n",
              "    }\n",
              "</style>\n",
              "<table border=\"1\" class=\"dataframe\">\n",
              "  <thead>\n",
              "    <tr style=\"text-align: right;\">\n",
              "      <th></th>\n",
              "      <th>Movie_ID</th>\n",
              "      <th>Movie_Title</th>\n",
              "      <th>Movie_Genre</th>\n",
              "      <th>Movie_Language</th>\n",
              "      <th>Movie_Budget</th>\n",
              "      <th>Movie_Popularity</th>\n",
              "      <th>Movie_Release_Date</th>\n",
              "      <th>Movie_Revenue</th>\n",
              "      <th>Movie_Runtime</th>\n",
              "      <th>Movie_Vote</th>\n",
              "      <th>...</th>\n",
              "      <th>Movie_Homepage</th>\n",
              "      <th>Movie_Keywords</th>\n",
              "      <th>Movie_Overview</th>\n",
              "      <th>Movie_Production_House</th>\n",
              "      <th>Movie_Production_Country</th>\n",
              "      <th>Movie_Spoken_Language</th>\n",
              "      <th>Movie_Tagline</th>\n",
              "      <th>Movie_Cast</th>\n",
              "      <th>Movie_Crew</th>\n",
              "      <th>Movie_Director</th>\n",
              "    </tr>\n",
              "  </thead>\n",
              "  <tbody>\n",
              "    <tr>\n",
              "      <th>0</th>\n",
              "      <td>1</td>\n",
              "      <td>Four Rooms</td>\n",
              "      <td>Crime Comedy</td>\n",
              "      <td>en</td>\n",
              "      <td>4000000</td>\n",
              "      <td>22.876230</td>\n",
              "      <td>09-12-1995</td>\n",
              "      <td>4300000</td>\n",
              "      <td>98.0</td>\n",
              "      <td>6.5</td>\n",
              "      <td>...</td>\n",
              "      <td>NaN</td>\n",
              "      <td>hotel new year's eve witch bet hotel room</td>\n",
              "      <td>It's Ted the Bellhop's first night on the job....</td>\n",
              "      <td>[{\"name\": \"Miramax Films\", \"id\": 14}, {\"name\":...</td>\n",
              "      <td>[{\"iso_3166_1\": \"US\", \"name\": \"United States o...</td>\n",
              "      <td>[{\"iso_639_1\": \"en\", \"name\": \"English\"}]</td>\n",
              "      <td>Twelve outrageous guests. Four scandalous requ...</td>\n",
              "      <td>Tim Roth Antonio Banderas Jennifer Beals Madon...</td>\n",
              "      <td>[{'name': 'Allison Anders', 'gender': 1, 'depa...</td>\n",
              "      <td>Allison Anders</td>\n",
              "    </tr>\n",
              "    <tr>\n",
              "      <th>1</th>\n",
              "      <td>2</td>\n",
              "      <td>Star Wars</td>\n",
              "      <td>Adventure Action Science Fiction</td>\n",
              "      <td>en</td>\n",
              "      <td>11000000</td>\n",
              "      <td>126.393695</td>\n",
              "      <td>25-05-1977</td>\n",
              "      <td>775398007</td>\n",
              "      <td>121.0</td>\n",
              "      <td>8.1</td>\n",
              "      <td>...</td>\n",
              "      <td>http://www.starwars.com/films/star-wars-episod...</td>\n",
              "      <td>android galaxy hermit death star lightsaber</td>\n",
              "      <td>Princess Leia is captured and held hostage by ...</td>\n",
              "      <td>[{\"name\": \"Lucasfilm\", \"id\": 1}, {\"name\": \"Twe...</td>\n",
              "      <td>[{\"iso_3166_1\": \"US\", \"name\": \"United States o...</td>\n",
              "      <td>[{\"iso_639_1\": \"en\", \"name\": \"English\"}]</td>\n",
              "      <td>A long time ago in a galaxy far, far away...</td>\n",
              "      <td>Mark Hamill Harrison Ford Carrie Fisher Peter ...</td>\n",
              "      <td>[{'name': 'George Lucas', 'gender': 2, 'depart...</td>\n",
              "      <td>George Lucas</td>\n",
              "    </tr>\n",
              "    <tr>\n",
              "      <th>2</th>\n",
              "      <td>3</td>\n",
              "      <td>Finding Nemo</td>\n",
              "      <td>Animation Family</td>\n",
              "      <td>en</td>\n",
              "      <td>94000000</td>\n",
              "      <td>85.688789</td>\n",
              "      <td>30-05-2003</td>\n",
              "      <td>940335536</td>\n",
              "      <td>100.0</td>\n",
              "      <td>7.6</td>\n",
              "      <td>...</td>\n",
              "      <td>http://movies.disney.com/finding-nemo</td>\n",
              "      <td>father son relationship harbor underwater fish...</td>\n",
              "      <td>Nemo, an adventurous young clownfish, is unexp...</td>\n",
              "      <td>[{\"name\": \"Pixar Animation Studios\", \"id\": 3}]</td>\n",
              "      <td>[{\"iso_3166_1\": \"US\", \"name\": \"United States o...</td>\n",
              "      <td>[{\"iso_639_1\": \"en\", \"name\": \"English\"}]</td>\n",
              "      <td>There are 3.7 trillion fish in the ocean, they...</td>\n",
              "      <td>Albert Brooks Ellen DeGeneres Alexander Gould ...</td>\n",
              "      <td>[{'name': 'Andrew Stanton', 'gender': 2, 'depa...</td>\n",
              "      <td>Andrew Stanton</td>\n",
              "    </tr>\n",
              "    <tr>\n",
              "      <th>3</th>\n",
              "      <td>4</td>\n",
              "      <td>Forrest Gump</td>\n",
              "      <td>Comedy Drama Romance</td>\n",
              "      <td>en</td>\n",
              "      <td>55000000</td>\n",
              "      <td>138.133331</td>\n",
              "      <td>06-07-1994</td>\n",
              "      <td>677945399</td>\n",
              "      <td>142.0</td>\n",
              "      <td>8.2</td>\n",
              "      <td>...</td>\n",
              "      <td>NaN</td>\n",
              "      <td>vietnam veteran hippie mentally disabled runni...</td>\n",
              "      <td>A man with a low IQ has accomplished great thi...</td>\n",
              "      <td>[{\"name\": \"Paramount Pictures\", \"id\": 4}]</td>\n",
              "      <td>[{\"iso_3166_1\": \"US\", \"name\": \"United States o...</td>\n",
              "      <td>[{\"iso_639_1\": \"en\", \"name\": \"English\"}]</td>\n",
              "      <td>The world will never be the same, once you've ...</td>\n",
              "      <td>Tom Hanks Robin Wright Gary Sinise Mykelti Wil...</td>\n",
              "      <td>[{'name': 'Alan Silvestri', 'gender': 2, 'depa...</td>\n",
              "      <td>Robert Zemeckis</td>\n",
              "    </tr>\n",
              "    <tr>\n",
              "      <th>4</th>\n",
              "      <td>5</td>\n",
              "      <td>American Beauty</td>\n",
              "      <td>Drama</td>\n",
              "      <td>en</td>\n",
              "      <td>15000000</td>\n",
              "      <td>80.878605</td>\n",
              "      <td>15-09-1999</td>\n",
              "      <td>356296601</td>\n",
              "      <td>122.0</td>\n",
              "      <td>7.9</td>\n",
              "      <td>...</td>\n",
              "      <td>http://www.dreamworks.com/ab/</td>\n",
              "      <td>male nudity female nudity adultery midlife cri...</td>\n",
              "      <td>Lester Burnham, a depressed suburban father in...</td>\n",
              "      <td>[{\"name\": \"DreamWorks SKG\", \"id\": 27}, {\"name\"...</td>\n",
              "      <td>[{\"iso_3166_1\": \"US\", \"name\": \"United States o...</td>\n",
              "      <td>[{\"iso_639_1\": \"en\", \"name\": \"English\"}]</td>\n",
              "      <td>Look closer.</td>\n",
              "      <td>Kevin Spacey Annette Bening Thora Birch Wes Be...</td>\n",
              "      <td>[{'name': 'Thomas Newman', 'gender': 2, 'depar...</td>\n",
              "      <td>Sam Mendes</td>\n",
              "    </tr>\n",
              "  </tbody>\n",
              "</table>\n",
              "<p>5 rows × 21 columns</p>\n",
              "</div>\n",
              "    <div class=\"colab-df-buttons\">\n",
              "\n",
              "  <div class=\"colab-df-container\">\n",
              "    <button class=\"colab-df-convert\" onclick=\"convertToInteractive('df-e52d4542-ee9d-44ba-b189-6b5ec790ed07')\"\n",
              "            title=\"Convert this dataframe to an interactive table.\"\n",
              "            style=\"display:none;\">\n",
              "\n",
              "  <svg xmlns=\"http://www.w3.org/2000/svg\" height=\"24px\" viewBox=\"0 -960 960 960\">\n",
              "    <path d=\"M120-120v-720h720v720H120Zm60-500h600v-160H180v160Zm220 220h160v-160H400v160Zm0 220h160v-160H400v160ZM180-400h160v-160H180v160Zm440 0h160v-160H620v160ZM180-180h160v-160H180v160Zm440 0h160v-160H620v160Z\"/>\n",
              "  </svg>\n",
              "    </button>\n",
              "\n",
              "  <style>\n",
              "    .colab-df-container {\n",
              "      display:flex;\n",
              "      gap: 12px;\n",
              "    }\n",
              "\n",
              "    .colab-df-convert {\n",
              "      background-color: #E8F0FE;\n",
              "      border: none;\n",
              "      border-radius: 50%;\n",
              "      cursor: pointer;\n",
              "      display: none;\n",
              "      fill: #1967D2;\n",
              "      height: 32px;\n",
              "      padding: 0 0 0 0;\n",
              "      width: 32px;\n",
              "    }\n",
              "\n",
              "    .colab-df-convert:hover {\n",
              "      background-color: #E2EBFA;\n",
              "      box-shadow: 0px 1px 2px rgba(60, 64, 67, 0.3), 0px 1px 3px 1px rgba(60, 64, 67, 0.15);\n",
              "      fill: #174EA6;\n",
              "    }\n",
              "\n",
              "    .colab-df-buttons div {\n",
              "      margin-bottom: 4px;\n",
              "    }\n",
              "\n",
              "    [theme=dark] .colab-df-convert {\n",
              "      background-color: #3B4455;\n",
              "      fill: #D2E3FC;\n",
              "    }\n",
              "\n",
              "    [theme=dark] .colab-df-convert:hover {\n",
              "      background-color: #434B5C;\n",
              "      box-shadow: 0px 1px 3px 1px rgba(0, 0, 0, 0.15);\n",
              "      filter: drop-shadow(0px 1px 2px rgba(0, 0, 0, 0.3));\n",
              "      fill: #FFFFFF;\n",
              "    }\n",
              "  </style>\n",
              "\n",
              "    <script>\n",
              "      const buttonEl =\n",
              "        document.querySelector('#df-e52d4542-ee9d-44ba-b189-6b5ec790ed07 button.colab-df-convert');\n",
              "      buttonEl.style.display =\n",
              "        google.colab.kernel.accessAllowed ? 'block' : 'none';\n",
              "\n",
              "      async function convertToInteractive(key) {\n",
              "        const element = document.querySelector('#df-e52d4542-ee9d-44ba-b189-6b5ec790ed07');\n",
              "        const dataTable =\n",
              "          await google.colab.kernel.invokeFunction('convertToInteractive',\n",
              "                                                    [key], {});\n",
              "        if (!dataTable) return;\n",
              "\n",
              "        const docLinkHtml = 'Like what you see? Visit the ' +\n",
              "          '<a target=\"_blank\" href=https://colab.research.google.com/notebooks/data_table.ipynb>data table notebook</a>'\n",
              "          + ' to learn more about interactive tables.';\n",
              "        element.innerHTML = '';\n",
              "        dataTable['output_type'] = 'display_data';\n",
              "        await google.colab.output.renderOutput(dataTable, element);\n",
              "        const docLink = document.createElement('div');\n",
              "        docLink.innerHTML = docLinkHtml;\n",
              "        element.appendChild(docLink);\n",
              "      }\n",
              "    </script>\n",
              "  </div>\n",
              "\n",
              "\n",
              "<div id=\"df-48d4ba18-a3ea-41ad-9292-cc978f890b48\">\n",
              "  <button class=\"colab-df-quickchart\" onclick=\"quickchart('df-48d4ba18-a3ea-41ad-9292-cc978f890b48')\"\n",
              "            title=\"Suggest charts\"\n",
              "            style=\"display:none;\">\n",
              "\n",
              "<svg xmlns=\"http://www.w3.org/2000/svg\" height=\"24px\"viewBox=\"0 0 24 24\"\n",
              "     width=\"24px\">\n",
              "    <g>\n",
              "        <path d=\"M19 3H5c-1.1 0-2 .9-2 2v14c0 1.1.9 2 2 2h14c1.1 0 2-.9 2-2V5c0-1.1-.9-2-2-2zM9 17H7v-7h2v7zm4 0h-2V7h2v10zm4 0h-2v-4h2v4z\"/>\n",
              "    </g>\n",
              "</svg>\n",
              "  </button>\n",
              "\n",
              "<style>\n",
              "  .colab-df-quickchart {\n",
              "      --bg-color: #E8F0FE;\n",
              "      --fill-color: #1967D2;\n",
              "      --hover-bg-color: #E2EBFA;\n",
              "      --hover-fill-color: #174EA6;\n",
              "      --disabled-fill-color: #AAA;\n",
              "      --disabled-bg-color: #DDD;\n",
              "  }\n",
              "\n",
              "  [theme=dark] .colab-df-quickchart {\n",
              "      --bg-color: #3B4455;\n",
              "      --fill-color: #D2E3FC;\n",
              "      --hover-bg-color: #434B5C;\n",
              "      --hover-fill-color: #FFFFFF;\n",
              "      --disabled-bg-color: #3B4455;\n",
              "      --disabled-fill-color: #666;\n",
              "  }\n",
              "\n",
              "  .colab-df-quickchart {\n",
              "    background-color: var(--bg-color);\n",
              "    border: none;\n",
              "    border-radius: 50%;\n",
              "    cursor: pointer;\n",
              "    display: none;\n",
              "    fill: var(--fill-color);\n",
              "    height: 32px;\n",
              "    padding: 0;\n",
              "    width: 32px;\n",
              "  }\n",
              "\n",
              "  .colab-df-quickchart:hover {\n",
              "    background-color: var(--hover-bg-color);\n",
              "    box-shadow: 0 1px 2px rgba(60, 64, 67, 0.3), 0 1px 3px 1px rgba(60, 64, 67, 0.15);\n",
              "    fill: var(--button-hover-fill-color);\n",
              "  }\n",
              "\n",
              "  .colab-df-quickchart-complete:disabled,\n",
              "  .colab-df-quickchart-complete:disabled:hover {\n",
              "    background-color: var(--disabled-bg-color);\n",
              "    fill: var(--disabled-fill-color);\n",
              "    box-shadow: none;\n",
              "  }\n",
              "\n",
              "  .colab-df-spinner {\n",
              "    border: 2px solid var(--fill-color);\n",
              "    border-color: transparent;\n",
              "    border-bottom-color: var(--fill-color);\n",
              "    animation:\n",
              "      spin 1s steps(1) infinite;\n",
              "  }\n",
              "\n",
              "  @keyframes spin {\n",
              "    0% {\n",
              "      border-color: transparent;\n",
              "      border-bottom-color: var(--fill-color);\n",
              "      border-left-color: var(--fill-color);\n",
              "    }\n",
              "    20% {\n",
              "      border-color: transparent;\n",
              "      border-left-color: var(--fill-color);\n",
              "      border-top-color: var(--fill-color);\n",
              "    }\n",
              "    30% {\n",
              "      border-color: transparent;\n",
              "      border-left-color: var(--fill-color);\n",
              "      border-top-color: var(--fill-color);\n",
              "      border-right-color: var(--fill-color);\n",
              "    }\n",
              "    40% {\n",
              "      border-color: transparent;\n",
              "      border-right-color: var(--fill-color);\n",
              "      border-top-color: var(--fill-color);\n",
              "    }\n",
              "    60% {\n",
              "      border-color: transparent;\n",
              "      border-right-color: var(--fill-color);\n",
              "    }\n",
              "    80% {\n",
              "      border-color: transparent;\n",
              "      border-right-color: var(--fill-color);\n",
              "      border-bottom-color: var(--fill-color);\n",
              "    }\n",
              "    90% {\n",
              "      border-color: transparent;\n",
              "      border-bottom-color: var(--fill-color);\n",
              "    }\n",
              "  }\n",
              "</style>\n",
              "\n",
              "  <script>\n",
              "    async function quickchart(key) {\n",
              "      const quickchartButtonEl =\n",
              "        document.querySelector('#' + key + ' button');\n",
              "      quickchartButtonEl.disabled = true;  // To prevent multiple clicks.\n",
              "      quickchartButtonEl.classList.add('colab-df-spinner');\n",
              "      try {\n",
              "        const charts = await google.colab.kernel.invokeFunction(\n",
              "            'suggestCharts', [key], {});\n",
              "      } catch (error) {\n",
              "        console.error('Error during call to suggestCharts:', error);\n",
              "      }\n",
              "      quickchartButtonEl.classList.remove('colab-df-spinner');\n",
              "      quickchartButtonEl.classList.add('colab-df-quickchart-complete');\n",
              "    }\n",
              "    (() => {\n",
              "      let quickchartButtonEl =\n",
              "        document.querySelector('#df-48d4ba18-a3ea-41ad-9292-cc978f890b48 button');\n",
              "      quickchartButtonEl.style.display =\n",
              "        google.colab.kernel.accessAllowed ? 'block' : 'none';\n",
              "    })();\n",
              "  </script>\n",
              "</div>\n",
              "\n",
              "    </div>\n",
              "  </div>\n"
            ],
            "application/vnd.google.colaboratory.intrinsic+json": {
              "type": "dataframe",
              "variable_name": "df"
            }
          },
          "metadata": {},
          "execution_count": 4
        }
      ]
    },
    {
      "cell_type": "code",
      "source": [
        "#describe data\n",
        "df.info()\n"
      ],
      "metadata": {
        "colab": {
          "base_uri": "https://localhost:8080/"
        },
        "id": "1U7nmO7B9HC0",
        "outputId": "cdeeaa03-840a-4a26-8146-23f27f62a0f7"
      },
      "execution_count": null,
      "outputs": [
        {
          "output_type": "stream",
          "name": "stdout",
          "text": [
            "<class 'pandas.core.frame.DataFrame'>\n",
            "RangeIndex: 4745 entries, 0 to 4744\n",
            "Data columns (total 21 columns):\n",
            " #   Column                    Non-Null Count  Dtype  \n",
            "---  ------                    --------------  -----  \n",
            " 0   Movie_ID                  4745 non-null   int64  \n",
            " 1   Movie_Title               4745 non-null   object \n",
            " 2   Movie_Genre               4745 non-null   object \n",
            " 3   Movie_Language            4745 non-null   object \n",
            " 4   Movie_Budget              4745 non-null   int64  \n",
            " 5   Movie_Popularity          4745 non-null   float64\n",
            " 6   Movie_Release_Date        4745 non-null   object \n",
            " 7   Movie_Revenue             4745 non-null   int64  \n",
            " 8   Movie_Runtime             4744 non-null   float64\n",
            " 9   Movie_Vote                4745 non-null   float64\n",
            " 10  Movie_Vote_Count          4745 non-null   int64  \n",
            " 11  Movie_Homepage            1696 non-null   object \n",
            " 12  Movie_Keywords            4364 non-null   object \n",
            " 13  Movie_Overview            4743 non-null   object \n",
            " 14  Movie_Production_House    4745 non-null   object \n",
            " 15  Movie_Production_Country  4745 non-null   object \n",
            " 16  Movie_Spoken_Language     4745 non-null   object \n",
            " 17  Movie_Tagline             3934 non-null   object \n",
            " 18  Movie_Cast                4719 non-null   object \n",
            " 19  Movie_Crew                4744 non-null   object \n",
            " 20  Movie_Director            4723 non-null   object \n",
            "dtypes: float64(3), int64(4), object(14)\n",
            "memory usage: 778.6+ KB\n"
          ]
        }
      ]
    },
    {
      "cell_type": "code",
      "source": [
        "df.shape"
      ],
      "metadata": {
        "colab": {
          "base_uri": "https://localhost:8080/"
        },
        "id": "CuRfkUpJ-BIA",
        "outputId": "57d5dcb0-d129-44c6-dd30-1081e16f6819"
      },
      "execution_count": null,
      "outputs": [
        {
          "output_type": "execute_result",
          "data": {
            "text/plain": [
              "(4745, 21)"
            ]
          },
          "metadata": {},
          "execution_count": 7
        }
      ]
    },
    {
      "cell_type": "code",
      "source": [
        "df.columns"
      ],
      "metadata": {
        "colab": {
          "base_uri": "https://localhost:8080/"
        },
        "id": "CjOsKkDvDEf-",
        "outputId": "763b534c-d373-4add-d224-46b19ee42ba1"
      },
      "execution_count": null,
      "outputs": [
        {
          "output_type": "execute_result",
          "data": {
            "text/plain": [
              "Index(['Movie_ID', 'Movie_Title', 'Movie_Genre', 'Movie_Language',\n",
              "       'Movie_Budget', 'Movie_Popularity', 'Movie_Release_Date',\n",
              "       'Movie_Revenue', 'Movie_Runtime', 'Movie_Vote', 'Movie_Vote_Count',\n",
              "       'Movie_Homepage', 'Movie_Keywords', 'Movie_Overview',\n",
              "       'Movie_Production_House', 'Movie_Production_Country',\n",
              "       'Movie_Spoken_Language', 'Movie_Tagline', 'Movie_Cast', 'Movie_Crew',\n",
              "       'Movie_Director'],\n",
              "      dtype='object')"
            ]
          },
          "metadata": {},
          "execution_count": 8
        }
      ]
    },
    {
      "cell_type": "code",
      "source": [
        "df2=df[['Movie_Genre','Movie_Keywords','Movie_Tagline', 'Movie_Cast','Movie_Director']].fillna('')"
      ],
      "metadata": {
        "id": "TThlNhuWDc7t"
      },
      "execution_count": null,
      "outputs": []
    },
    {
      "cell_type": "code",
      "source": [
        "df2.shape"
      ],
      "metadata": {
        "colab": {
          "base_uri": "https://localhost:8080/"
        },
        "id": "8K_fEi7nD8ya",
        "outputId": "c4b5650e-0ea1-46f7-9373-9ee8605b2813"
      },
      "execution_count": null,
      "outputs": [
        {
          "output_type": "execute_result",
          "data": {
            "text/plain": [
              "(4745, 5)"
            ]
          },
          "metadata": {},
          "execution_count": 13
        }
      ]
    },
    {
      "cell_type": "code",
      "source": [
        "df2"
      ],
      "metadata": {
        "colab": {
          "base_uri": "https://localhost:8080/",
          "height": 754
        },
        "id": "gn3xblyyEBtv",
        "outputId": "1995b947-5f78-41c3-a31a-9ffaa30405e8"
      },
      "execution_count": null,
      "outputs": [
        {
          "output_type": "execute_result",
          "data": {
            "text/plain": [
              "                           Movie_Genre  \\\n",
              "0                         Crime Comedy   \n",
              "1     Adventure Action Science Fiction   \n",
              "2                     Animation Family   \n",
              "3                 Comedy Drama Romance   \n",
              "4                                Drama   \n",
              "...                                ...   \n",
              "4740                            Family   \n",
              "4741                    Romance Action   \n",
              "4742          Action Adventure Fantasy   \n",
              "4743                      Action Drama   \n",
              "4744                      Comedy Drama   \n",
              "\n",
              "                                         Movie_Keywords  \\\n",
              "0             hotel new year's eve witch bet hotel room   \n",
              "1           android galaxy hermit death star lightsaber   \n",
              "2     father son relationship harbor underwater fish...   \n",
              "3     vietnam veteran hippie mentally disabled runni...   \n",
              "4     male nudity female nudity adultery midlife cri...   \n",
              "...                                                 ...   \n",
              "4740                                                      \n",
              "4741                                     sport fighting   \n",
              "4742                                        monkey king   \n",
              "4743        new jersey martial arts sister sport murder   \n",
              "4744                pornography sex love teenager death   \n",
              "\n",
              "                                          Movie_Tagline  \\\n",
              "0     Twelve outrageous guests. Four scandalous requ...   \n",
              "1          A long time ago in a galaxy far, far away...   \n",
              "2     There are 3.7 trillion fish in the ocean, they...   \n",
              "3     The world will never be the same, once you've ...   \n",
              "4                                          Look closer.   \n",
              "...                                                 ...   \n",
              "4740                                                      \n",
              "4741                                It's all or nothing   \n",
              "4742                                                      \n",
              "4743                            One way in. No way out.   \n",
              "4744                                                      \n",
              "\n",
              "                                             Movie_Cast    Movie_Director  \n",
              "0     Tim Roth Antonio Banderas Jennifer Beals Madon...    Allison Anders  \n",
              "1     Mark Hamill Harrison Ford Carrie Fisher Peter ...      George Lucas  \n",
              "2     Albert Brooks Ellen DeGeneres Alexander Gould ...    Andrew Stanton  \n",
              "3     Tom Hanks Robin Wright Gary Sinise Mykelti Wil...   Robert Zemeckis  \n",
              "4     Kevin Spacey Annette Bening Thora Birch Wes Be...        Sam Mendes  \n",
              "...                                                 ...               ...  \n",
              "4740  Kevin Sorbo Sophie Bolen Derek Brandon Carrie ...  Joel Paul Reisig  \n",
              "4741  Jennifer Hale Evan Hannemann Tonya Kay Anna Ro...   Warren Sheppard  \n",
              "4742  Aaron Kwok Gong Li William Feng Xiao Shen Yang...        Soi Cheang  \n",
              "4743  Erin O'Brien Miesha Tate Holly Holm Cristiane ...          Rob Hawk  \n",
              "4744                                       Dario No\\u01                    \n",
              "\n",
              "[4745 rows x 5 columns]"
            ],
            "text/html": [
              "\n",
              "  <div id=\"df-5de201b4-e3d9-4908-bc3c-6e4f5678c3bc\" class=\"colab-df-container\">\n",
              "    <div>\n",
              "<style scoped>\n",
              "    .dataframe tbody tr th:only-of-type {\n",
              "        vertical-align: middle;\n",
              "    }\n",
              "\n",
              "    .dataframe tbody tr th {\n",
              "        vertical-align: top;\n",
              "    }\n",
              "\n",
              "    .dataframe thead th {\n",
              "        text-align: right;\n",
              "    }\n",
              "</style>\n",
              "<table border=\"1\" class=\"dataframe\">\n",
              "  <thead>\n",
              "    <tr style=\"text-align: right;\">\n",
              "      <th></th>\n",
              "      <th>Movie_Genre</th>\n",
              "      <th>Movie_Keywords</th>\n",
              "      <th>Movie_Tagline</th>\n",
              "      <th>Movie_Cast</th>\n",
              "      <th>Movie_Director</th>\n",
              "    </tr>\n",
              "  </thead>\n",
              "  <tbody>\n",
              "    <tr>\n",
              "      <th>0</th>\n",
              "      <td>Crime Comedy</td>\n",
              "      <td>hotel new year's eve witch bet hotel room</td>\n",
              "      <td>Twelve outrageous guests. Four scandalous requ...</td>\n",
              "      <td>Tim Roth Antonio Banderas Jennifer Beals Madon...</td>\n",
              "      <td>Allison Anders</td>\n",
              "    </tr>\n",
              "    <tr>\n",
              "      <th>1</th>\n",
              "      <td>Adventure Action Science Fiction</td>\n",
              "      <td>android galaxy hermit death star lightsaber</td>\n",
              "      <td>A long time ago in a galaxy far, far away...</td>\n",
              "      <td>Mark Hamill Harrison Ford Carrie Fisher Peter ...</td>\n",
              "      <td>George Lucas</td>\n",
              "    </tr>\n",
              "    <tr>\n",
              "      <th>2</th>\n",
              "      <td>Animation Family</td>\n",
              "      <td>father son relationship harbor underwater fish...</td>\n",
              "      <td>There are 3.7 trillion fish in the ocean, they...</td>\n",
              "      <td>Albert Brooks Ellen DeGeneres Alexander Gould ...</td>\n",
              "      <td>Andrew Stanton</td>\n",
              "    </tr>\n",
              "    <tr>\n",
              "      <th>3</th>\n",
              "      <td>Comedy Drama Romance</td>\n",
              "      <td>vietnam veteran hippie mentally disabled runni...</td>\n",
              "      <td>The world will never be the same, once you've ...</td>\n",
              "      <td>Tom Hanks Robin Wright Gary Sinise Mykelti Wil...</td>\n",
              "      <td>Robert Zemeckis</td>\n",
              "    </tr>\n",
              "    <tr>\n",
              "      <th>4</th>\n",
              "      <td>Drama</td>\n",
              "      <td>male nudity female nudity adultery midlife cri...</td>\n",
              "      <td>Look closer.</td>\n",
              "      <td>Kevin Spacey Annette Bening Thora Birch Wes Be...</td>\n",
              "      <td>Sam Mendes</td>\n",
              "    </tr>\n",
              "    <tr>\n",
              "      <th>...</th>\n",
              "      <td>...</td>\n",
              "      <td>...</td>\n",
              "      <td>...</td>\n",
              "      <td>...</td>\n",
              "      <td>...</td>\n",
              "    </tr>\n",
              "    <tr>\n",
              "      <th>4740</th>\n",
              "      <td>Family</td>\n",
              "      <td></td>\n",
              "      <td></td>\n",
              "      <td>Kevin Sorbo Sophie Bolen Derek Brandon Carrie ...</td>\n",
              "      <td>Joel Paul Reisig</td>\n",
              "    </tr>\n",
              "    <tr>\n",
              "      <th>4741</th>\n",
              "      <td>Romance Action</td>\n",
              "      <td>sport fighting</td>\n",
              "      <td>It's all or nothing</td>\n",
              "      <td>Jennifer Hale Evan Hannemann Tonya Kay Anna Ro...</td>\n",
              "      <td>Warren Sheppard</td>\n",
              "    </tr>\n",
              "    <tr>\n",
              "      <th>4742</th>\n",
              "      <td>Action Adventure Fantasy</td>\n",
              "      <td>monkey king</td>\n",
              "      <td></td>\n",
              "      <td>Aaron Kwok Gong Li William Feng Xiao Shen Yang...</td>\n",
              "      <td>Soi Cheang</td>\n",
              "    </tr>\n",
              "    <tr>\n",
              "      <th>4743</th>\n",
              "      <td>Action Drama</td>\n",
              "      <td>new jersey martial arts sister sport murder</td>\n",
              "      <td>One way in. No way out.</td>\n",
              "      <td>Erin O'Brien Miesha Tate Holly Holm Cristiane ...</td>\n",
              "      <td>Rob Hawk</td>\n",
              "    </tr>\n",
              "    <tr>\n",
              "      <th>4744</th>\n",
              "      <td>Comedy Drama</td>\n",
              "      <td>pornography sex love teenager death</td>\n",
              "      <td></td>\n",
              "      <td>Dario No\\u01</td>\n",
              "      <td></td>\n",
              "    </tr>\n",
              "  </tbody>\n",
              "</table>\n",
              "<p>4745 rows × 5 columns</p>\n",
              "</div>\n",
              "    <div class=\"colab-df-buttons\">\n",
              "\n",
              "  <div class=\"colab-df-container\">\n",
              "    <button class=\"colab-df-convert\" onclick=\"convertToInteractive('df-5de201b4-e3d9-4908-bc3c-6e4f5678c3bc')\"\n",
              "            title=\"Convert this dataframe to an interactive table.\"\n",
              "            style=\"display:none;\">\n",
              "\n",
              "  <svg xmlns=\"http://www.w3.org/2000/svg\" height=\"24px\" viewBox=\"0 -960 960 960\">\n",
              "    <path d=\"M120-120v-720h720v720H120Zm60-500h600v-160H180v160Zm220 220h160v-160H400v160Zm0 220h160v-160H400v160ZM180-400h160v-160H180v160Zm440 0h160v-160H620v160ZM180-180h160v-160H180v160Zm440 0h160v-160H620v160Z\"/>\n",
              "  </svg>\n",
              "    </button>\n",
              "\n",
              "  <style>\n",
              "    .colab-df-container {\n",
              "      display:flex;\n",
              "      gap: 12px;\n",
              "    }\n",
              "\n",
              "    .colab-df-convert {\n",
              "      background-color: #E8F0FE;\n",
              "      border: none;\n",
              "      border-radius: 50%;\n",
              "      cursor: pointer;\n",
              "      display: none;\n",
              "      fill: #1967D2;\n",
              "      height: 32px;\n",
              "      padding: 0 0 0 0;\n",
              "      width: 32px;\n",
              "    }\n",
              "\n",
              "    .colab-df-convert:hover {\n",
              "      background-color: #E2EBFA;\n",
              "      box-shadow: 0px 1px 2px rgba(60, 64, 67, 0.3), 0px 1px 3px 1px rgba(60, 64, 67, 0.15);\n",
              "      fill: #174EA6;\n",
              "    }\n",
              "\n",
              "    .colab-df-buttons div {\n",
              "      margin-bottom: 4px;\n",
              "    }\n",
              "\n",
              "    [theme=dark] .colab-df-convert {\n",
              "      background-color: #3B4455;\n",
              "      fill: #D2E3FC;\n",
              "    }\n",
              "\n",
              "    [theme=dark] .colab-df-convert:hover {\n",
              "      background-color: #434B5C;\n",
              "      box-shadow: 0px 1px 3px 1px rgba(0, 0, 0, 0.15);\n",
              "      filter: drop-shadow(0px 1px 2px rgba(0, 0, 0, 0.3));\n",
              "      fill: #FFFFFF;\n",
              "    }\n",
              "  </style>\n",
              "\n",
              "    <script>\n",
              "      const buttonEl =\n",
              "        document.querySelector('#df-5de201b4-e3d9-4908-bc3c-6e4f5678c3bc button.colab-df-convert');\n",
              "      buttonEl.style.display =\n",
              "        google.colab.kernel.accessAllowed ? 'block' : 'none';\n",
              "\n",
              "      async function convertToInteractive(key) {\n",
              "        const element = document.querySelector('#df-5de201b4-e3d9-4908-bc3c-6e4f5678c3bc');\n",
              "        const dataTable =\n",
              "          await google.colab.kernel.invokeFunction('convertToInteractive',\n",
              "                                                    [key], {});\n",
              "        if (!dataTable) return;\n",
              "\n",
              "        const docLinkHtml = 'Like what you see? Visit the ' +\n",
              "          '<a target=\"_blank\" href=https://colab.research.google.com/notebooks/data_table.ipynb>data table notebook</a>'\n",
              "          + ' to learn more about interactive tables.';\n",
              "        element.innerHTML = '';\n",
              "        dataTable['output_type'] = 'display_data';\n",
              "        await google.colab.output.renderOutput(dataTable, element);\n",
              "        const docLink = document.createElement('div');\n",
              "        docLink.innerHTML = docLinkHtml;\n",
              "        element.appendChild(docLink);\n",
              "      }\n",
              "    </script>\n",
              "  </div>\n",
              "\n",
              "\n",
              "<div id=\"df-d5e83c6c-7630-4bca-90ca-c5789f123f8b\">\n",
              "  <button class=\"colab-df-quickchart\" onclick=\"quickchart('df-d5e83c6c-7630-4bca-90ca-c5789f123f8b')\"\n",
              "            title=\"Suggest charts\"\n",
              "            style=\"display:none;\">\n",
              "\n",
              "<svg xmlns=\"http://www.w3.org/2000/svg\" height=\"24px\"viewBox=\"0 0 24 24\"\n",
              "     width=\"24px\">\n",
              "    <g>\n",
              "        <path d=\"M19 3H5c-1.1 0-2 .9-2 2v14c0 1.1.9 2 2 2h14c1.1 0 2-.9 2-2V5c0-1.1-.9-2-2-2zM9 17H7v-7h2v7zm4 0h-2V7h2v10zm4 0h-2v-4h2v4z\"/>\n",
              "    </g>\n",
              "</svg>\n",
              "  </button>\n",
              "\n",
              "<style>\n",
              "  .colab-df-quickchart {\n",
              "      --bg-color: #E8F0FE;\n",
              "      --fill-color: #1967D2;\n",
              "      --hover-bg-color: #E2EBFA;\n",
              "      --hover-fill-color: #174EA6;\n",
              "      --disabled-fill-color: #AAA;\n",
              "      --disabled-bg-color: #DDD;\n",
              "  }\n",
              "\n",
              "  [theme=dark] .colab-df-quickchart {\n",
              "      --bg-color: #3B4455;\n",
              "      --fill-color: #D2E3FC;\n",
              "      --hover-bg-color: #434B5C;\n",
              "      --hover-fill-color: #FFFFFF;\n",
              "      --disabled-bg-color: #3B4455;\n",
              "      --disabled-fill-color: #666;\n",
              "  }\n",
              "\n",
              "  .colab-df-quickchart {\n",
              "    background-color: var(--bg-color);\n",
              "    border: none;\n",
              "    border-radius: 50%;\n",
              "    cursor: pointer;\n",
              "    display: none;\n",
              "    fill: var(--fill-color);\n",
              "    height: 32px;\n",
              "    padding: 0;\n",
              "    width: 32px;\n",
              "  }\n",
              "\n",
              "  .colab-df-quickchart:hover {\n",
              "    background-color: var(--hover-bg-color);\n",
              "    box-shadow: 0 1px 2px rgba(60, 64, 67, 0.3), 0 1px 3px 1px rgba(60, 64, 67, 0.15);\n",
              "    fill: var(--button-hover-fill-color);\n",
              "  }\n",
              "\n",
              "  .colab-df-quickchart-complete:disabled,\n",
              "  .colab-df-quickchart-complete:disabled:hover {\n",
              "    background-color: var(--disabled-bg-color);\n",
              "    fill: var(--disabled-fill-color);\n",
              "    box-shadow: none;\n",
              "  }\n",
              "\n",
              "  .colab-df-spinner {\n",
              "    border: 2px solid var(--fill-color);\n",
              "    border-color: transparent;\n",
              "    border-bottom-color: var(--fill-color);\n",
              "    animation:\n",
              "      spin 1s steps(1) infinite;\n",
              "  }\n",
              "\n",
              "  @keyframes spin {\n",
              "    0% {\n",
              "      border-color: transparent;\n",
              "      border-bottom-color: var(--fill-color);\n",
              "      border-left-color: var(--fill-color);\n",
              "    }\n",
              "    20% {\n",
              "      border-color: transparent;\n",
              "      border-left-color: var(--fill-color);\n",
              "      border-top-color: var(--fill-color);\n",
              "    }\n",
              "    30% {\n",
              "      border-color: transparent;\n",
              "      border-left-color: var(--fill-color);\n",
              "      border-top-color: var(--fill-color);\n",
              "      border-right-color: var(--fill-color);\n",
              "    }\n",
              "    40% {\n",
              "      border-color: transparent;\n",
              "      border-right-color: var(--fill-color);\n",
              "      border-top-color: var(--fill-color);\n",
              "    }\n",
              "    60% {\n",
              "      border-color: transparent;\n",
              "      border-right-color: var(--fill-color);\n",
              "    }\n",
              "    80% {\n",
              "      border-color: transparent;\n",
              "      border-right-color: var(--fill-color);\n",
              "      border-bottom-color: var(--fill-color);\n",
              "    }\n",
              "    90% {\n",
              "      border-color: transparent;\n",
              "      border-bottom-color: var(--fill-color);\n",
              "    }\n",
              "  }\n",
              "</style>\n",
              "\n",
              "  <script>\n",
              "    async function quickchart(key) {\n",
              "      const quickchartButtonEl =\n",
              "        document.querySelector('#' + key + ' button');\n",
              "      quickchartButtonEl.disabled = true;  // To prevent multiple clicks.\n",
              "      quickchartButtonEl.classList.add('colab-df-spinner');\n",
              "      try {\n",
              "        const charts = await google.colab.kernel.invokeFunction(\n",
              "            'suggestCharts', [key], {});\n",
              "      } catch (error) {\n",
              "        console.error('Error during call to suggestCharts:', error);\n",
              "      }\n",
              "      quickchartButtonEl.classList.remove('colab-df-spinner');\n",
              "      quickchartButtonEl.classList.add('colab-df-quickchart-complete');\n",
              "    }\n",
              "    (() => {\n",
              "      let quickchartButtonEl =\n",
              "        document.querySelector('#df-d5e83c6c-7630-4bca-90ca-c5789f123f8b button');\n",
              "      quickchartButtonEl.style.display =\n",
              "        google.colab.kernel.accessAllowed ? 'block' : 'none';\n",
              "    })();\n",
              "  </script>\n",
              "</div>\n",
              "\n",
              "  <div id=\"id_ca34fa0f-4ab8-470e-8cf5-347d4da50e28\">\n",
              "    <style>\n",
              "      .colab-df-generate {\n",
              "        background-color: #E8F0FE;\n",
              "        border: none;\n",
              "        border-radius: 50%;\n",
              "        cursor: pointer;\n",
              "        display: none;\n",
              "        fill: #1967D2;\n",
              "        height: 32px;\n",
              "        padding: 0 0 0 0;\n",
              "        width: 32px;\n",
              "      }\n",
              "\n",
              "      .colab-df-generate:hover {\n",
              "        background-color: #E2EBFA;\n",
              "        box-shadow: 0px 1px 2px rgba(60, 64, 67, 0.3), 0px 1px 3px 1px rgba(60, 64, 67, 0.15);\n",
              "        fill: #174EA6;\n",
              "      }\n",
              "\n",
              "      [theme=dark] .colab-df-generate {\n",
              "        background-color: #3B4455;\n",
              "        fill: #D2E3FC;\n",
              "      }\n",
              "\n",
              "      [theme=dark] .colab-df-generate:hover {\n",
              "        background-color: #434B5C;\n",
              "        box-shadow: 0px 1px 3px 1px rgba(0, 0, 0, 0.15);\n",
              "        filter: drop-shadow(0px 1px 2px rgba(0, 0, 0, 0.3));\n",
              "        fill: #FFFFFF;\n",
              "      }\n",
              "    </style>\n",
              "    <button class=\"colab-df-generate\" onclick=\"generateWithVariable('df2')\"\n",
              "            title=\"Generate code using this dataframe.\"\n",
              "            style=\"display:none;\">\n",
              "\n",
              "  <svg xmlns=\"http://www.w3.org/2000/svg\" height=\"24px\"viewBox=\"0 0 24 24\"\n",
              "       width=\"24px\">\n",
              "    <path d=\"M7,19H8.4L18.45,9,17,7.55,7,17.6ZM5,21V16.75L18.45,3.32a2,2,0,0,1,2.83,0l1.4,1.43a1.91,1.91,0,0,1,.58,1.4,1.91,1.91,0,0,1-.58,1.4L9.25,21ZM18.45,9,17,7.55Zm-12,3A5.31,5.31,0,0,0,4.9,8.1,5.31,5.31,0,0,0,1,6.5,5.31,5.31,0,0,0,4.9,4.9,5.31,5.31,0,0,0,6.5,1,5.31,5.31,0,0,0,8.1,4.9,5.31,5.31,0,0,0,12,6.5,5.46,5.46,0,0,0,6.5,12Z\"/>\n",
              "  </svg>\n",
              "    </button>\n",
              "    <script>\n",
              "      (() => {\n",
              "      const buttonEl =\n",
              "        document.querySelector('#id_ca34fa0f-4ab8-470e-8cf5-347d4da50e28 button.colab-df-generate');\n",
              "      buttonEl.style.display =\n",
              "        google.colab.kernel.accessAllowed ? 'block' : 'none';\n",
              "\n",
              "      buttonEl.onclick = () => {\n",
              "        google.colab.notebook.generateWithVariable('df2');\n",
              "      }\n",
              "      })();\n",
              "    </script>\n",
              "  </div>\n",
              "\n",
              "    </div>\n",
              "  </div>\n"
            ],
            "application/vnd.google.colaboratory.intrinsic+json": {
              "type": "dataframe",
              "variable_name": "df2",
              "summary": "{\n  \"name\": \"df2\",\n  \"rows\": 4745,\n  \"fields\": [\n    {\n      \"column\": \"Movie_Genre\",\n      \"properties\": {\n        \"dtype\": \"category\",\n        \"num_unique_values\": 1162,\n        \"samples\": [\n          \"Action Adventure Thriller War\",\n          \"Adventure Science Fiction Action\",\n          \"Adventure Family Animation Action Comedy\"\n        ],\n        \"semantic_type\": \"\",\n        \"description\": \"\"\n      }\n    },\n    {\n      \"column\": \"Movie_Keywords\",\n      \"properties\": {\n        \"dtype\": \"string\",\n        \"num_unique_values\": 4195,\n        \"samples\": [\n          \"indian lead bollywood modern day adaptation pride & prejudice woman director\",\n          \"exorcism holy water religion and supernatural vomit christian\",\n          \"saving the world library cataclysm climate change greenhouse effect\"\n        ],\n        \"semantic_type\": \"\",\n        \"description\": \"\"\n      }\n    },\n    {\n      \"column\": \"Movie_Tagline\",\n      \"properties\": {\n        \"dtype\": \"string\",\n        \"num_unique_values\": 3920,\n        \"samples\": [\n          \"Everyone is looking for the next big hit\",\n          \"What went down on the way to the top.\",\n          \"Whatever Life Throws at You\"\n        ],\n        \"semantic_type\": \"\",\n        \"description\": \"\"\n      }\n    },\n    {\n      \"column\": \"Movie_Cast\",\n      \"properties\": {\n        \"dtype\": \"string\",\n        \"num_unique_values\": 4701,\n        \"samples\": [\n          \"LisaRaye McCoy N'Bushe Wright Monica Calhoun Clifton Powell Yasiin Bey\",\n          \"Nathan Lane Kelsey Grammer Shaun Fleming Debra Jo Rupp David Ogden Stiers\",\n          \"Dwayne Johnson AnnaSophia Robb Alexander Ludwig Carla Gugino Chris Marquette\"\n        ],\n        \"semantic_type\": \"\",\n        \"description\": \"\"\n      }\n    },\n    {\n      \"column\": \"Movie_Director\",\n      \"properties\": {\n        \"dtype\": \"category\",\n        \"num_unique_values\": 2319,\n        \"samples\": [\n          \"Steve James\",\n          \"Deepa Mehta\",\n          \"Joe Johnston\"\n        ],\n        \"semantic_type\": \"\",\n        \"description\": \"\"\n      }\n    }\n  ]\n}"
            }
          },
          "metadata": {},
          "execution_count": 14
        }
      ]
    },
    {
      "cell_type": "code",
      "source": [
        "x=df2[\"Movie_Genre\"]+\" \"+df2[\"Movie_Keywords\"]+\" \"+df2[\"Movie_Tagline\"]+\" \"+df2[\"Movie_Cast\"]+\" \"+df2[\"Movie_Director\"]"
      ],
      "metadata": {
        "id": "DKWImu-6EKBW"
      },
      "execution_count": null,
      "outputs": []
    },
    {
      "cell_type": "code",
      "source": [
        "x.shape"
      ],
      "metadata": {
        "colab": {
          "base_uri": "https://localhost:8080/"
        },
        "id": "UDixkyG7FEpe",
        "outputId": "d3a59e32-2715-44bd-944b-5df88fab401f"
      },
      "execution_count": null,
      "outputs": [
        {
          "output_type": "execute_result",
          "data": {
            "text/plain": [
              "(4745,)"
            ]
          },
          "metadata": {},
          "execution_count": 16
        }
      ]
    },
    {
      "cell_type": "code",
      "source": [
        "from sklearn.feature_extraction.text import TfidfVectorizer\n",
        "tfidf=TfidfVectorizer()\n",
        "x=tfidf.fit_transform(x)"
      ],
      "metadata": {
        "id": "cpnC0UdNFFZL"
      },
      "execution_count": null,
      "outputs": []
    },
    {
      "cell_type": "code",
      "source": [
        "x.shape"
      ],
      "metadata": {
        "colab": {
          "base_uri": "https://localhost:8080/"
        },
        "id": "y1OTyQE3FWHW",
        "outputId": "bdbc6b46-6bf2-46ec-8e74-aa1c3d8b1d53"
      },
      "execution_count": null,
      "outputs": [
        {
          "output_type": "execute_result",
          "data": {
            "text/plain": [
              "(4745, 17203)"
            ]
          },
          "metadata": {},
          "execution_count": 18
        }
      ]
    },
    {
      "cell_type": "code",
      "source": [
        "print(x)"
      ],
      "metadata": {
        "colab": {
          "base_uri": "https://localhost:8080/"
        },
        "id": "GM09wr0GFYIV",
        "outputId": "e1cfc05e-77b6-4789-edfe-bf1ebbb75933"
      },
      "execution_count": null,
      "outputs": [
        {
          "output_type": "stream",
          "name": "stdout",
          "text": [
            "  (0, 615)\t0.1632712824194313\n",
            "  (0, 490)\t0.14423680392660307\n",
            "  (0, 15369)\t0.14648517079787096\n",
            "  (0, 9650)\t0.142193130223804\n",
            "  (0, 9440)\t0.16591726887099265\n",
            "  (0, 1387)\t0.16891704089905768\n",
            "  (0, 7807)\t0.09792710071455489\n",
            "  (0, 1211)\t0.13943887888889464\n",
            "  (0, 726)\t0.13477427720876073\n",
            "  (0, 13058)\t0.14319173550558315\n",
            "  (0, 15312)\t0.10470980880592032\n",
            "  (0, 9025)\t0.0866154222822731\n",
            "  (0, 11133)\t0.06246248990938152\n",
            "  (0, 16721)\t0.17647586271465096\n",
            "  (0, 5601)\t0.08604665975602017\n",
            "  (0, 16683)\t0.10683253802660171\n",
            "  (0, 7886)\t0.1340829943642445\n",
            "  (0, 15176)\t0.09795767739699371\n",
            "  (0, 11213)\t0.07275310936504659\n",
            "  (0, 3869)\t0.11991601333950526\n",
            "  (0, 5488)\t0.11447246072383171\n",
            "  (0, 7054)\t0.19808719956680512\n",
            "  (0, 7437)\t0.1475034292936515\n",
            "  (0, 1492)\t0.1970602605332246\n",
            "  (0, 9183)\t0.15179562574219635\n",
            "  :\t:\n",
            "  (4743, 12907)\t0.1546298792904714\n",
            "  (4743, 16543)\t0.3265552034262896\n",
            "  (4743, 10618)\t0.13708395909295634\n",
            "  (4743, 7112)\t0.1943776984216012\n",
            "  (4743, 7823)\t0.2128620105437687\n",
            "  (4743, 897)\t0.16756469486738337\n",
            "  (4743, 9696)\t0.16814557588303744\n",
            "  (4743, 7114)\t0.20816113449752996\n",
            "  (4743, 10985)\t0.13096443975942376\n",
            "  (4743, 11319)\t0.14239084062340632\n",
            "  (4743, 4484)\t0.05270550047665578\n",
            "  (4743, 198)\t0.07364424027183794\n",
            "  (4743, 7437)\t0.10011533484862138\n",
            "  (4743, 11215)\t0.11216670934642824\n",
            "  (4743, 10872)\t0.11953803889544125\n",
            "  (4744, 15929)\t0.4926388115931352\n",
            "  (4744, 3810)\t0.4926388115931352\n",
            "  (4744, 12019)\t0.3968985395571964\n",
            "  (4744, 15074)\t0.319042931529366\n",
            "  (4744, 13709)\t0.25608172500243764\n",
            "  (4744, 9257)\t0.1976661472459687\n",
            "  (4744, 10985)\t0.24118732350153566\n",
            "  (4744, 4484)\t0.09706374201366988\n",
            "  (4744, 3903)\t0.2650867205246816\n",
            "  (4744, 3231)\t0.11306520103625699\n"
          ]
        }
      ]
    },
    {
      "cell_type": "code",
      "source": [
        "from sklearn.metrics.pairwise import cosine_similarity\n",
        "ss=cosine_similarity(x)\n",
        "ss\n"
      ],
      "metadata": {
        "colab": {
          "base_uri": "https://localhost:8080/"
        },
        "id": "PLAD_kVbFZyN",
        "outputId": "d86f99d3-f3c0-4794-bfa6-9f38e85cf0ea"
      },
      "execution_count": null,
      "outputs": [
        {
          "output_type": "execute_result",
          "data": {
            "text/plain": [
              "array([[1.        , 0.01352703, 0.03572132, ..., 0.        , 0.04508863,\n",
              "        0.00511362],\n",
              "       [0.01352703, 1.        , 0.00807812, ..., 0.01311262, 0.01414918,\n",
              "        0.03495221],\n",
              "       [0.03572132, 0.00807812, 1.        , ..., 0.        , 0.01988856,\n",
              "        0.        ],\n",
              "       ...,\n",
              "       [0.        , 0.01311262, 0.        , ..., 1.        , 0.00617422,\n",
              "        0.        ],\n",
              "       [0.04508863, 0.01414918, 0.01988856, ..., 0.00617422, 1.        ,\n",
              "        0.03670276],\n",
              "       [0.00511362, 0.03495221, 0.        , ..., 0.        , 0.03670276,\n",
              "        1.        ]])"
            ]
          },
          "metadata": {},
          "execution_count": 20
        }
      ]
    },
    {
      "cell_type": "code",
      "source": [
        "ss.shape"
      ],
      "metadata": {
        "colab": {
          "base_uri": "https://localhost:8080/"
        },
        "id": "-MNsBpqNFuxS",
        "outputId": "73caebde-145d-41e3-a124-4fa06caea449"
      },
      "execution_count": null,
      "outputs": [
        {
          "output_type": "execute_result",
          "data": {
            "text/plain": [
              "(4745, 4745)"
            ]
          },
          "metadata": {},
          "execution_count": 21
        }
      ]
    },
    {
      "cell_type": "code",
      "source": [
        "fmn=input(\"Enter your favourite movie name: \")\n"
      ],
      "metadata": {
        "colab": {
          "base_uri": "https://localhost:8080/"
        },
        "id": "1jDB7HzrFwzm",
        "outputId": "394ee9f7-cac9-4b49-ed12-fbbe6997c4ed"
      },
      "execution_count": null,
      "outputs": [
        {
          "name": "stdout",
          "output_type": "stream",
          "text": [
            "Enter your favourite movie name: avatar\n"
          ]
        }
      ]
    },
    {
      "cell_type": "code",
      "source": [
        "mt=df[\"Movie_Title\"].tolist()"
      ],
      "metadata": {
        "id": "n8w_8-OtF_-5"
      },
      "execution_count": null,
      "outputs": []
    },
    {
      "cell_type": "code",
      "source": [
        "import difflib"
      ],
      "metadata": {
        "id": "Egj_JKLxGErA"
      },
      "execution_count": null,
      "outputs": []
    },
    {
      "cell_type": "code",
      "source": [
        "mr=difflib.get_close_matches(fmn,mt)\n",
        "print(mr)"
      ],
      "metadata": {
        "colab": {
          "base_uri": "https://localhost:8080/"
        },
        "id": "TVMfJlVNGHKZ",
        "outputId": "9ac4057e-937b-4509-b5c7-40076e99e1c0"
      },
      "execution_count": null,
      "outputs": [
        {
          "output_type": "stream",
          "name": "stdout",
          "text": [
            "['Avatar']\n"
          ]
        }
      ]
    },
    {
      "cell_type": "code",
      "source": [
        "cm=mr[0]\n",
        "print(cm)"
      ],
      "metadata": {
        "colab": {
          "base_uri": "https://localhost:8080/"
        },
        "id": "A2osyMcgGNX1",
        "outputId": "8c29006f-3f99-4f70-d218-026579a7f242"
      },
      "execution_count": null,
      "outputs": [
        {
          "output_type": "stream",
          "name": "stdout",
          "text": [
            "Avatar\n"
          ]
        }
      ]
    },
    {
      "cell_type": "code",
      "source": [
        "icm=df[df.Movie_Title==cm][\"Movie_ID\"].values[0]\n",
        "print(icm)"
      ],
      "metadata": {
        "colab": {
          "base_uri": "https://localhost:8080/"
        },
        "id": "mXaOC7Q2GSBI",
        "outputId": "55391b8c-1f62-4ea2-9f05-eb45fa133ef2"
      },
      "execution_count": null,
      "outputs": [
        {
          "output_type": "stream",
          "name": "stdout",
          "text": [
            "2692\n"
          ]
        }
      ]
    },
    {
      "cell_type": "code",
      "source": [
        "rs=list(enumerate(ss[icm]))\n",
        "print(rs)"
      ],
      "metadata": {
        "colab": {
          "base_uri": "https://localhost:8080/"
        },
        "id": "DQoUMlIZGk6j",
        "outputId": "cbaa0832-01d1-49fe-9561-1a542e0a8ff2"
      },
      "execution_count": null,
      "outputs": [
        {
          "output_type": "stream",
          "name": "stdout",
          "text": [
            "[(0, 0.009796981613338793), (1, 0.0), (2, 0.0), (3, 0.007997107993253032), (4, 0.002676741641980565), (5, 0.00963825583944798), (6, 0.004964719261560631), (7, 0.012842321967569775), (8, 0.0027548823624813415), (9, 0.006075828686028814), (10, 0.007537423456081893), (11, 0.00262691743252904), (12, 0.0027090912444646884), (13, 0.012893884047922351), (14, 0.0), (15, 0.022544796281678263), (16, 0.005960607396343428), (17, 0.0), (18, 0.0136398218304528), (19, 0.008781565216679353), (20, 0.0026530044838657067), (21, 0.015207879186632103), (22, 0.00651832757149033), (23, 0.002643338847549239), (24, 0.0016566604493134796), (25, 0.025589723291916434), (26, 0.002482161269760257), (27, 0.00479292508663117), (28, 0.0), (29, 0.02327785196922086), (30, 0.004649969542452416), (31, 0.006725984912835914), (32, 0.007979921821539176), (33, 0.018605640536154905), (34, 0.007434320846824846), (35, 0.0060581174852089), (36, 0.0), (37, 0.0), (38, 0.00808057228173493), (39, 0.004631570917264915), (40, 0.015293432174639965), (41, 0.0028228785300201923), (42, 0.007232963783437152), (43, 0.014847454548641024), (44, 0.039582344171476144), (45, 0.089947198332921), (46, 0.018547051033490754), (47, 0.010372687769670128), (48, 0.015672512094267187), (49, 0.0), (50, 0.00698490872994317), (51, 0.014964986703006987), (52, 0.013601017036324756), (53, 0.0), (54, 0.0), (55, 0.0), (56, 0.006683765336270742), (57, 0.010828881788109694), (58, 0.0), (59, 0.0), (60, 0.007786714716505551), (61, 0.017651744752614357), (62, 0.10152665206204751), (63, 0.007244055113148642), (64, 0.0), (65, 0.031675277513364755), (66, 0.0025319641992466576), (67, 0.04504364120351444), (68, 0.02258498965948051), (69, 0.005066246182114847), (70, 0.01278154582543412), (71, 0.0025984840570045745), (72, 0.011333707476618868), (73, 0.0), (74, 0.0026982144928071384), (75, 0.012885305033690187), (76, 0.00376433795048116), (77, 0.0034772026648120066), (78, 0.009397173042042612), (79, 0.009072835937894489), (80, 0.004226653112371987), (81, 0.007005469126899119), (82, 0.011888758793597232), (83, 0.0184945068000899), (84, 0.061814555894527945), (85, 0.015559370053410708), (86, 0.011728603509756354), (87, 0.013707663052449769), (88, 0.022291987297888994), (89, 0.0401301038088309), (90, 0.004511519636707322), (91, 0.0), (92, 0.002232618336926285), (93, 0.004418840794536373), (94, 0.004236879074695134), (95, 0.004745728592617813), (96, 0.00889323376086285), (97, 0.0022261570565011457), (98, 0.002484167579450015), (99, 0.010103765252940159), (100, 0.0), (101, 0.0), (102, 0.005041378147581851), (103, 0.002197240088507873), (104, 0.009160524632407404), (105, 0.009530571920108795), (106, 0.017499523290402556), (107, 0.00810857444908497), (108, 0.038693031284992845), (109, 0.03847368263833917), (110, 0.08354323099328953), (111, 0.00892652849967147), (112, 0.02846426486213116), (113, 0.007483142206035116), (114, 0.002538529703522522), (115, 0.0025935634194844443), (116, 0.02422455473027956), (117, 0.0), (118, 0.004734899919912577), (119, 0.008929709861920392), (120, 0.009910858572807142), (121, 0.0023305896955008332), (122, 0.0065135506239126385), (123, 0.018243806992217435), (124, 0.02497703239174684), (125, 0.012799040057793632), (126, 0.03800833713100517), (127, 0.0024699179651755127), (128, 0.0051160805784799005), (129, 0.0017714031834387028), (130, 0.011921686412233897), (131, 0.006651001998013721), (132, 0.0022489233751096915), (133, 0.0), (134, 0.0), (135, 0.004610470717121074), (136, 0.0023424495548269647), (137, 0.052430166499670375), (138, 0.032187891564504655), (139, 0.007933445288131169), (140, 0.0023763682528973773), (141, 0.0), (142, 0.019234914268851877), (143, 0.00741615918411162), (144, 0.017344402213265653), (145, 0.019124724304349174), (146, 0.0), (147, 0.017987684232949316), (148, 0.010592853023454203), (149, 0.011742977701382253), (150, 0.0), (151, 0.0), (152, 0.004481005108434727), (153, 0.0), (154, 0.0023807592788333437), (155, 0.023511977859393886), (156, 0.007393986197594439), (157, 0.0024160234301880503), (158, 0.002275452524008866), (159, 0.007123778523079957), (160, 0.018291112302343874), (161, 0.04347804285220291), (162, 0.007766178335216814), (163, 0.0), (164, 0.008661448052102437), (165, 0.0021927344127994504), (166, 0.03235644848285247), (167, 0.02657046759097547), (168, 0.0051602298144695575), (169, 0.002492517470650274), (170, 0.010589499701051034), (171, 0.0), (172, 0.041678577306492305), (173, 0.016947978378097556), (174, 0.030526845516824115), (175, 0.023321422378524293), (176, 0.02717745479341814), (177, 0.005596950944960781), (178, 0.002668530036377302), (179, 0.03069409884195326), (180, 0.007556834962923359), (181, 0.014048277399763354), (182, 0.009175522474944355), (183, 0.008346125441528043), (184, 0.002233209283994238), (185, 0.03979621570245424), (186, 0.0), (187, 0.004046897371282231), (188, 0.0), (189, 0.004778037309534107), (190, 0.012137959407541189), (191, 0.004116864511359973), (192, 0.0027439371429135782), (193, 0.029200922635355144), (194, 0.0020354459671143156), (195, 0.0021322832417998744), (196, 0.0021305863785471453), (197, 0.008594295146554711), (198, 0.002573554944527777), (199, 0.018957131127700436), (200, 0.006317612284159944), (201, 0.012191232776562365), (202, 0.0016645800267318322), (203, 0.016915963968354934), (204, 0.01867884835243996), (205, 0.0), (206, 0.010188050919793117), (207, 0.013196790626604865), (208, 0.014563209218146918), (209, 0.016321948018268514), (210, 0.038863942658209964), (211, 0.002650940633362236), (212, 0.01673124567064086), (213, 0.049324498420713875), (214, 0.0), (215, 0.002491004989601789), (216, 0.009953561598687195), (217, 0.006891872915791567), (218, 0.016319483031300437), (219, 0.0), (220, 0.004878515423597653), (221, 0.0024110756229565686), (222, 0.017851806735216157), (223, 0.0), (224, 0.007349437831956891), (225, 0.0), (226, 0.002536599277109085), (227, 0.04927592359939896), (228, 0.0019211881568034367), (229, 0.0023642047472585363), (230, 0.006394183591997741), (231, 0.013769602503951543), (232, 0.0070692550800929045), (233, 0.004554319062353291), (234, 0.003970290020150292), (235, 0.0028635868753648145), (236, 0.013360872331166493), (237, 0.0), (238, 0.007291188590068063), (239, 0.004894324651534151), (240, 0.026399204642534625), (241, 0.028452248655104498), (242, 0.00788120907353944), (243, 0.009657222445256606), (244, 0.011433562483077721), (245, 0.0), (246, 0.0026975603892470516), (247, 0.0025069090213806844), (248, 0.0060727978581684465), (249, 0.002224439493005172), (250, 0.02959843649563048), (251, 0.013863899958965784), (252, 0.013878223628423772), (253, 0.002773577805054222), (254, 0.06351792186485299), (255, 0.007486732501968535), (256, 0.007179195469234028), (257, 0.021778088664440965), (258, 0.0), (259, 0.0), (260, 0.004376980797247938), (261, 0.022318497948069324), (262, 0.0026650822096615013), (263, 0.0062096503096037365), (264, 0.0), (265, 0.0), (266, 0.010552101880806235), (267, 0.002149729923654874), (268, 0.0022622689471257095), (269, 0.024699056641269212), (270, 0.010050121101333496), (271, 0.010510425555897603), (272, 0.0), (273, 0.01084831181524637), (274, 0.011032674184075124), (275, 0.0), (276, 0.013409334585356562), (277, 0.04305064381583757), (278, 0.002184104183515913), (279, 0.016736244768887455), (280, 0.016132477132760233), (281, 0.010848075832229591), (282, 0.05875196700925494), (283, 0.006661676802997868), (284, 0.02720451333224011), (285, 0.008700387002079727), (286, 0.002176132846889634), (287, 0.015176965047278217), (288, 0.00949344318404714), (289, 0.003700920582472791), (290, 0.0037631302042346474), (291, 0.010642936225538899), (292, 0.051057549588513045), (293, 0.0018028034339156937), (294, 0.0036728324699961995), (295, 0.0037629948416696896), (296, 0.015192093275576237), (297, 0.0), (298, 0.0), (299, 0.0), (300, 0.006255311189467946), (301, 0.006945480470166515), (302, 0.0), (303, 0.005003316178676498), (304, 0.01077454770727581), (305, 0.004605511226088799), (306, 0.004251437521853927), (307, 0.008537904786678596), (308, 0.0028367450061546236), (309, 0.007240060633334055), (310, 0.004433187267054585), (311, 0.0066383304861760565), (312, 0.0), (313, 0.01158567200014175), (314, 0.003868235587378317), (315, 0.004626817623714663), (316, 0.004274333807183495), (317, 0.013719022319111845), (318, 0.0027715067971310317), (319, 0.0), (320, 0.004835654378988935), (321, 0.010847677834047907), (322, 0.01100045713088964), (323, 0.004127232358143418), (324, 0.0023383171388262638), (325, 0.0023971329669548003), (326, 0.0031069751504844817), (327, 0.01002933278719706), (328, 0.0437535854925882), (329, 0.019677041959864888), (330, 0.019898569909788), (331, 0.0), (332, 0.013286734631298912), (333, 0.010394788913270295), (334, 0.03308671002834045), (335, 0.0), (336, 0.0047061107193377095), (337, 0.0), (338, 0.0), (339, 0.0), (340, 0.007054454927644087), (341, 0.012038591888767169), (342, 0.017619774146498134), (343, 0.015785350428848342), (344, 0.0), (345, 0.02480001791561122), (346, 0.009044873946597174), (347, 0.0046300764338442785), (348, 0.0025113104924149956), (349, 0.0024598247797449693), (350, 0.007785315841595126), (351, 0.0019334419217725484), (352, 0.0), (353, 0.009244338896377099), (354, 0.010221782418269777), (355, 0.0023373127821983805), (356, 0.013079526632593522), (357, 0.0021890560062665996), (358, 0.015238334088786595), (359, 0.0023261003098852436), (360, 0.0413982012177673), (361, 0.0), (362, 0.0), (363, 0.0071697769894684725), (364, 0.018110222493602175), (365, 0.0), (366, 0.0), (367, 0.006774029439661603), (368, 0.008490354505391602), (369, 0.005413255679377677), (370, 0.014199205386873116), (371, 0.028244274348689483), (372, 0.0023636643993710776), (373, 0.0024036927688715235), (374, 0.015457492889934511), (375, 0.0045601837895567435), (376, 0.0), (377, 0.0026131335872377616), (378, 0.002547502954853662), (379, 0.0), (380, 0.0053008539547485896), (381, 0.026082023841211298), (382, 0.0), (383, 0.019459801378545895), (384, 0.04854327887952616), (385, 0.007829920738268294), (386, 0.006835781567345975), (387, 0.03251258828532381), (388, 0.002394727438242496), (389, 0.004593360550753845), (390, 0.0), (391, 0.0), (392, 0.0), (393, 0.0), (394, 0.0), (395, 0.002721670169642964), (396, 0.009233506596306125), (397, 0.004216780370272854), (398, 0.02198432582231442), (399, 0.0023504957998513256), (400, 0.0025134137573267564), (401, 0.0), (402, 0.011097623051714321), (403, 0.007714785911349826), (404, 0.0), (405, 0.0), (406, 0.013994859753134442), (407, 0.01257012626674743), (408, 0.04269230942501844), (409, 0.01704609317635359), (410, 0.0023596789735116), (411, 0.0), (412, 0.045039153971020825), (413, 0.007010885912789829), (414, 0.004929556296587875), (415, 0.0), (416, 0.0023222832726237587), (417, 0.010853522322267203), (418, 0.01236270178253285), (419, 0.0028570526526054516), (420, 0.004961516237789198), (421, 0.027488166175988874), (422, 0.006680971767429374), (423, 0.0), (424, 0.05838467404545623), (425, 0.005234247839026053), (426, 0.004315974965897642), (427, 0.0), (428, 0.027930650078162828), (429, 0.014906644712299992), (430, 0.02846447748683493), (431, 0.0029916929067447676), (432, 0.002157657264687222), (433, 0.016584446874689435), (434, 0.009082596196851896), (435, 0.009475620875335315), (436, 0.008001691155987683), (437, 0.014867071096612986), (438, 0.04303814011148979), (439, 0.0), (440, 0.0), (441, 0.007520067470572614), (442, 0.021280864730314066), (443, 0.008271233831428223), (444, 0.0028264749994890742), (445, 0.007791401958306554), (446, 0.008879566454402799), (447, 0.014770905624835382), (448, 0.0029275063187594263), (449, 0.008231929174795026), (450, 0.015606596256576233), (451, 0.004634435162359304), (452, 0.01179943331873401), (453, 0.0019326474421960758), (454, 0.0), (455, 0.042127828390863084), (456, 0.002687538342591896), (457, 0.0023284358369388197), (458, 0.01587156705892892), (459, 0.026034903744157525), (460, 0.00459290083608793), (461, 0.008375549928733171), (462, 0.03224405240511866), (463, 0.019266983852841233), (464, 0.008990029161015017), (465, 0.028291151538174762), (466, 0.002507820947995172), (467, 0.004548848376064198), (468, 0.010440431909199202), (469, 0.0038132926137805848), (470, 0.01446715797992778), (471, 0.0023686714575239802), (472, 0.009366890414647645), (473, 0.0022948006566341607), (474, 0.0074313641118422405), (475, 0.0031819709139851863), (476, 0.0027848025826004686), (477, 0.005236791608852772), (478, 0.0028699830621739873), (479, 0.04998579808851724), (480, 0.0022256741378938547), (481, 0.015467891696707654), (482, 0.014316584640512164), (483, 0.010145671596559835), (484, 0.0), (485, 0.010297574687415217), (486, 0.0), (487, 0.002428406858278738), (488, 0.0024536204693736768), (489, 0.003035003299923228), (490, 0.0025119861491244206), (491, 0.0), (492, 0.0), (493, 0.007592772684387614), (494, 0.007104036636032505), (495, 0.0022436501850380355), (496, 0.013373206066230041), (497, 0.0062863597682323155), (498, 0.0), (499, 0.0027590538992814323), (500, 0.011394497218686675), (501, 0.01049346549468245), (502, 0.014891727633342521), (503, 0.006874508250378905), (504, 0.002552171968345235), (505, 0.002409860804709301), (506, 0.0), (507, 0.0023817580694799004), (508, 0.0029160571205629816), (509, 0.007331504852344902), (510, 0.014287753575662076), (511, 0.01616126445407767), (512, 0.005484474988787779), (513, 0.005016136655076276), (514, 0.005004131956061587), (515, 0.022491269117159318), (516, 0.0), (517, 0.0), (518, 0.002973674575950578), (519, 0.04911152149764066), (520, 0.0), (521, 0.006320921575312854), (522, 0.026690650842468036), (523, 0.011753066508973682), (524, 0.0023273653490786883), (525, 0.0), (526, 0.0031901146513899988), (527, 0.012398000215908166), (528, 0.0), (529, 0.0), (530, 0.029725332627896225), (531, 0.0), (532, 0.010851016588073158), (533, 0.015998085887351347), (534, 0.014048470591087447), (535, 0.0), (536, 0.0), (537, 0.01272707477911138), (538, 0.010831241143572609), (539, 0.006917888383839167), (540, 0.03444177292410351), (541, 0.0024539730340713065), (542, 0.00997027128853363), (543, 0.014814029523171752), (544, 0.009752382891532208), (545, 0.013475913721575503), (546, 0.0), (547, 0.03204696454598055), (548, 0.0), (549, 0.0), (550, 0.005095999494393042), (551, 0.01627021784594489), (552, 0.0), (553, 0.01867597244437439), (554, 0.0), (555, 0.010799404163306539), (556, 0.0), (557, 0.0), (558, 0.008859862587734382), (559, 0.004110884657843901), (560, 0.01171756560166473), (561, 0.004840275825407747), (562, 0.005423956377582744), (563, 0.006448537109309245), (564, 0.0026575926501915797), (565, 0.0), (566, 0.01907477823169036), (567, 0.0), (568, 0.006089286720586349), (569, 0.0), (570, 0.0), (571, 0.005512137972587133), (572, 0.0), (573, 0.0), (574, 0.0), (575, 0.0), (576, 0.0028596038516995317), (577, 0.0), (578, 0.03327323351559381), (579, 0.0025715525135902783), (580, 0.007471709519292272), (581, 0.006440623294100469), (582, 0.007734235517491508), (583, 0.0059523268083488045), (584, 0.014715024464895329), (585, 0.0), (586, 0.01598027532120472), (587, 0.002789886116416595), (588, 0.002636254639449983), (589, 0.002351024857100662), (590, 0.06274709881953815), (591, 0.0), (592, 0.0), (593, 0.026976840684273563), (594, 0.0022674929028694032), (595, 0.005071160168153301), (596, 0.0028423730737058817), (597, 0.008180806529631482), (598, 0.002363565437478464), (599, 0.0), (600, 0.006908846662246733), (601, 0.0), (602, 0.0), (603, 0.0), (604, 0.013076571684608952), (605, 0.002232372251118264), (606, 0.007384808677526398), (607, 0.0019547708570014292), (608, 0.006482377813252725), (609, 0.012430953903926914), (610, 0.0), (611, 0.004075734376969202), (612, 0.0026894607070615576), (613, 0.02209324069730629), (614, 0.002908759553428204), (615, 0.043621690086467595), (616, 0.00758575567871859), (617, 0.006036684608339063), (618, 0.02975496799655694), (619, 0.004591959269492988), (620, 0.015049724506489556), (621, 0.00988712539495825), (622, 0.015104744792857647), (623, 0.002694635646709245), (624, 0.0023203182763109446), (625, 0.003970557643251554), (626, 0.0021496208099635416), (627, 0.003435264934354816), (628, 0.08332070529724933), (629, 0.029009247055593032), (630, 0.0), (631, 0.009358661913482951), (632, 0.038488793541322966), (633, 0.004519475706894791), (634, 0.004532680211581933), (635, 0.01220617309786859), (636, 0.0072224000853762516), (637, 0.0442081126926849), (638, 0.016476056759203096), (639, 0.0038947786530188757), (640, 0.003861475702886053), (641, 0.022155182481535682), (642, 0.006176613445581014), (643, 0.020145029677731716), (644, 0.006793292922773635), (645, 0.002071384581917924), (646, 0.0024393309064953475), (647, 0.0022258641397515386), (648, 0.012271180578800892), (649, 0.0), (650, 0.0), (651, 0.00878415262511154), (652, 0.014542738981110071), (653, 0.012372060246746626), (654, 0.012311539092010201), (655, 0.0023689655920833257), (656, 0.0), (657, 0.02452437618330673), (658, 0.0), (659, 0.002362329935265262), (660, 0.007463735683908493), (661, 0.004328658170343762), (662, 0.0), (663, 0.0), (664, 0.012223088674110738), (665, 0.0), (666, 0.005192916916736786), (667, 0.012286104503385265), (668, 0.009245498243877926), (669, 0.019121161747665386), (670, 0.02769223934077789), (671, 0.006779284976622661), (672, 0.021724885986515667), (673, 0.042768886050760374), (674, 0.0), (675, 0.06177010770110783), (676, 0.013789034938689259), (677, 0.016809710725308576), (678, 0.012730036866505671), (679, 0.0), (680, 0.0026973687100152756), (681, 0.0), (682, 0.04302630596067404), (683, 0.010847480037885375), (684, 0.011865654919800508), (685, 0.004740331772362674), (686, 0.0), (687, 0.005119907755328597), (688, 0.007916226552052373), (689, 0.018231533357974346), (690, 0.004292793619524335), (691, 0.022316372649233387), (692, 0.015774579372189776), (693, 0.02833355779478424), (694, 0.035160949641727605), (695, 0.010758531685120067), (696, 0.007197917543387684), (697, 0.009135742741585467), (698, 0.002399978866891759), (699, 0.0), (700, 0.0), (701, 0.015867988715952915), (702, 0.0), (703, 0.0022533785415212526), (704, 0.0), (705, 0.008058382427588379), (706, 0.02287454311064825), (707, 0.002132432189026508), (708, 0.0), (709, 0.0), (710, 0.035757634101586604), (711, 0.0), (712, 0.0022409023928180822), (713, 0.0), (714, 0.0), (715, 0.010043018154726972), (716, 0.0074907847301011275), (717, 0.0026455274045580615), (718, 0.0), (719, 0.011019949667660038), (720, 0.0), (721, 0.03334151462965552), (722, 0.0022792362183650084), (723, 0.0039059379039646388), (724, 0.0), (725, 0.0), (726, 0.0), (727, 0.007026234360940121), (728, 0.00771304399258807), (729, 0.007974587137633216), (730, 0.0), (731, 0.002425622093351474), (732, 0.012245356724918428), (733, 0.012307242588655903), (734, 0.008525059555155146), (735, 0.0034640042169773676), (736, 0.0), (737, 0.010263160178236447), (738, 0.0037999799609455946), (739, 0.0028939023980349256), (740, 0.0017018213370374963), (741, 0.0), (742, 0.012885972398732242), (743, 0.0073487278788488125), (744, 0.006609967475879832), (745, 0.0065377069603310516), (746, 0.0), (747, 0.0), (748, 0.0069663989132718205), (749, 0.002538544168171133), (750, 0.007285575794450024), (751, 0.0), (752, 0.0068710298232129464), (753, 0.013548631194627167), (754, 0.0), (755, 0.0024654230993874796), (756, 0.0040518019330569935), (757, 0.018165423174592476), (758, 0.006616144585585), (759, 0.002309599346717978), (760, 0.013408336364095594), (761, 0.0508285790273824), (762, 0.01538102141779048), (763, 0.020681787122443097), (764, 0.0), (765, 0.0048764779837910995), (766, 0.028625940355529827), (767, 0.0024054854967863947), (768, 0.0188900377891976), (769, 0.007057932204094798), (770, 0.0), (771, 0.0), (772, 0.0), (773, 0.0), (774, 0.03651997208577027), (775, 0.01357015106995594), (776, 0.016899383089977953), (777, 0.0030491647165416056), (778, 0.006756890149853826), (779, 0.01977037387882501), (780, 0.0), (781, 0.0), (782, 0.00871591914209748), (783, 0.002672313319062457), (784, 0.0), (785, 0.0), (786, 0.0), (787, 0.03022303017031258), (788, 0.036760314985837955), (789, 0.0), (790, 0.011324243202864747), (791, 0.002725285163784151), (792, 0.010217993036751718), (793, 0.00479206751559909), (794, 0.016933125165673465), (795, 0.016708440329217655), (796, 0.017476602179081768), (797, 0.0), (798, 0.0024206810442454524), (799, 0.013859500469833873), (800, 0.012327985614356418), (801, 0.010705053482157896), (802, 0.005048705993091666), (803, 0.004120749244755375), (804, 0.006432151087480164), (805, 0.0023457801424878037), (806, 0.009913120172480248), (807, 0.0), (808, 0.017881644042709106), (809, 0.011477609916852906), (810, 0.004311155498916548), (811, 0.004678327852827551), (812, 0.031336393447694295), (813, 0.002849105215319255), (814, 0.013489980277231382), (815, 0.002266018599761226), (816, 0.007821359528543213), (817, 0.008808280646156496), (818, 0.03438028284825401), (819, 0.0), (820, 0.0), (821, 0.006012683683407), (822, 0.0), (823, 0.031701209395892174), (824, 0.02454968439731717), (825, 0.011334368646659734), (826, 0.0026952306476138903), (827, 0.011075392837348614), (828, 0.009074769852004751), (829, 0.013053770746690353), (830, 0.03447218802980162), (831, 0.005048184162858082), (832, 0.026089581874481724), (833, 0.012764157734855727), (834, 0.0065119420287227505), (835, 0.006207877394789377), (836, 0.028156845263927196), (837, 0.0), (838, 0.008464021982241068), (839, 0.0), (840, 0.0), (841, 0.0), (842, 0.014291458873743466), (843, 0.007486189014961045), (844, 0.012542704801488343), (845, 0.0074848994243793526), (846, 0.0), (847, 0.010432831856716033), (848, 0.002558335629817354), (849, 0.004611546765731095), (850, 0.009266801822032393), (851, 0.008417710120769969), (852, 0.02630991812168816), (853, 0.016071745602322253), (854, 0.002420816736573535), (855, 0.005268833017991668), (856, 0.0022639689762435117), (857, 0.0028014856502936642), (858, 0.017854279409873546), (859, 0.0), (860, 0.01648085694014185), (861, 0.006145991358806023), (862, 0.006161657592980232), (863, 0.006535946681235271), (864, 0.03184477035106504), (865, 0.0026045768521409615), (866, 0.013223434738891017), (867, 0.015441016900024992), (868, 0.006638899940989039), (869, 0.0072508557336399245), (870, 0.02032340402580657), (871, 0.0026060850095206097), (872, 0.002715804026445225), (873, 0.05063102425270344), (874, 0.03547571526350707), (875, 0.012827623820681684), (876, 0.016234553138689458), (877, 0.05122308670788916), (878, 0.013433954026071757), (879, 0.014832977632559818), (880, 0.007048206014578614), (881, 0.0), (882, 0.0), (883, 0.0024235283745257657), (884, 0.0026392059365777467), (885, 0.023723540007517023), (886, 0.0023782622791622306), (887, 0.0027582005945398025), (888, 0.015750572797146083), (889, 0.0032650157214999193), (890, 0.0026452272671233065), (891, 0.004860406633660755), (892, 0.0), (893, 0.004159799306080647), (894, 0.009519371967849662), (895, 0.014595388543942461), (896, 0.015530110972064897), (897, 0.009171838437299639), (898, 0.004152735070219333), (899, 0.014444196138282928), (900, 0.012820134993702766), (901, 0.002100697967033013), (902, 0.00473376716889423), (903, 0.02727735135124536), (904, 0.04503970060953623), (905, 0.013519610726395136), (906, 0.013076079499594127), (907, 0.002332915792841503), (908, 0.007225590894706429), (909, 0.0), (910, 0.006546638800804234), (911, 0.03584319199206949), (912, 0.0), (913, 0.0), (914, 0.0), (915, 0.01124212438208787), (916, 0.01691306594657793), (917, 0.021814681914966112), (918, 0.012095103477523829), (919, 0.00468830883586947), (920, 0.0), (921, 0.008470253671344206), (922, 0.0028462569273355696), (923, 0.006884245334551804), (924, 0.007925138452989304), (925, 0.00291682267944577), (926, 0.0), (927, 0.004526085282660265), (928, 0.012190960148370684), (929, 0.015186467747299637), (930, 0.007591041097740895), (931, 0.011678257654732106), (932, 0.004124162315226605), (933, 0.002590408999035621), (934, 0.014278496759262438), (935, 0.03207136131779402), (936, 0.012340917090680876), (937, 0.01661883689727911), (938, 0.0), (939, 0.009062742973754225), (940, 0.006370875107449393), (941, 0.002375773973422763), (942, 0.024032056007085054), (943, 0.0), (944, 0.0023601645401541698), (945, 0.0), (946, 0.0), (947, 0.019185785811865315), (948, 0.008904873483619328), (949, 0.010825131322341074), (950, 0.0), (951, 0.0021407326120379626), (952, 0.029017689819727445), (953, 0.005756421937673414), (954, 0.0), (955, 0.0), (956, 0.0), (957, 0.014304065962921983), (958, 0.006001242336893325), (959, 0.002464126464317279), (960, 0.0), (961, 0.0), (962, 0.008630367134002066), (963, 0.012822809301372917), (964, 0.0), (965, 0.0), (966, 0.008593232317089673), (967, 0.024832449943942708), (968, 0.018366321025631068), (969, 0.0025885953978610618), (970, 0.009443064597665212), (971, 0.0), (972, 0.0), (973, 0.0024989770659083195), (974, 0.004316587566507271), (975, 0.002374875757921391), (976, 0.028484482826471213), (977, 0.0), (978, 0.0), (979, 0.009880605014547891), (980, 0.007390758591485795), (981, 0.006433122719372889), (982, 0.0), (983, 0.0), (984, 0.0024131963981660156), (985, 0.0029021897722316453), (986, 0.014210547484897234), (987, 0.002630964823617919), (988, 0.014126015959790423), (989, 0.01398976691747144), (990, 0.0), (991, 0.007671707417662748), (992, 0.004936555922330533), (993, 0.0025553723997118537), (994, 0.009759028935574112), (995, 0.0), (996, 0.006510843401355896), (997, 0.0041492847671873116), (998, 0.00287605804692296), (999, 0.0028736437545156565), (1000, 0.012793106936864543), (1001, 0.006814830769050293), (1002, 0.0024161775720232424), (1003, 0.020394908334746668), (1004, 0.0022736545295731613), (1005, 0.012360662781627394), (1006, 0.009510464560173036), (1007, 0.0026706150154975706), (1008, 0.0), (1009, 0.012167002079235639), (1010, 0.0), (1011, 0.0), (1012, 0.011074925889428863), (1013, 0.0), (1014, 0.007606813285263285), (1015, 0.022470561250936317), (1016, 0.0), (1017, 0.02019930874846458), (1018, 0.015914672438168194), (1019, 0.011044469127513154), (1020, 0.008730904025170023), (1021, 0.05669835756694562), (1022, 0.0), (1023, 0.04613746414551378), (1024, 0.03707246832686424), (1025, 0.0), (1026, 0.002487416098025906), (1027, 0.0024257725522204994), (1028, 0.0), (1029, 0.0), (1030, 0.05056886785679773), (1031, 0.0), (1032, 0.0023960828902630502), (1033, 0.021295294641675906), (1034, 0.0024292445411459632), (1035, 0.013817354574393571), (1036, 0.0023922197198893397), (1037, 0.007403077602170547), (1038, 0.0), (1039, 0.0), (1040, 0.001981316411836354), (1041, 0.006712424321140881), (1042, 0.0021186051150904237), (1043, 0.030181605276857072), (1044, 0.00692778447852), (1045, 0.01572662866933425), (1046, 0.028756049497348737), (1047, 0.012175010134990828), (1048, 0.009458923196348598), (1049, 0.0030079851920682887), (1050, 0.008185957305042927), (1051, 0.0), (1052, 0.019491294049343792), (1053, 0.011302564982493428), (1054, 0.011022032539787436), (1055, 0.0), (1056, 0.0), (1057, 0.02342831382819066), (1058, 0.014325519692824223), (1059, 0.026093806988502388), (1060, 0.025505005823395932), (1061, 0.010520534144671842), (1062, 0.0), (1063, 0.032385199431001634), (1064, 0.017230645221849306), (1065, 0.006535417822450328), (1066, 0.0), (1067, 0.0), (1068, 0.031065593454121826), (1069, 0.00734435916995532), (1070, 0.08104539733967192), (1071, 0.007631289944179729), (1072, 0.0025123687547433933), (1073, 0.0), (1074, 0.018305360576873098), (1075, 0.009588708775157105), (1076, 0.006817050957055292), (1077, 0.009295071052046409), (1078, 0.008002482878636816), (1079, 0.0023327880786218258), (1080, 0.0022829221154272643), (1081, 0.0), (1082, 0.0045313321856508895), (1083, 0.007440544890376436), (1084, 0.0024856659397104394), (1085, 0.036231407936345314), (1086, 0.0), (1087, 0.009254192603329083), (1088, 0.0021678875188270792), (1089, 0.0), (1090, 0.011518535215805767), (1091, 0.0), (1092, 0.00974140122204855), (1093, 0.0), (1094, 0.006425650515851374), (1095, 0.027235519738763873), (1096, 0.008855266539414817), (1097, 0.0), (1098, 0.019870778838422178), (1099, 0.011854578731930202), (1100, 0.002494736489656506), (1101, 0.0), (1102, 0.05016363720499478), (1103, 0.0), (1104, 0.012301251197377563), (1105, 0.0), (1106, 0.0), (1107, 0.01323367868801878), (1108, 0.0), (1109, 0.0028120828069079875), (1110, 0.0024936419174172385), (1111, 0.006708581831446705), (1112, 0.017807183735969956), (1113, 0.0), (1114, 0.014430965687704226), (1115, 0.015074385061786336), (1116, 0.01444783910724221), (1117, 0.0024369263699172204), (1118, 0.05997079083324599), (1119, 0.015180428962742226), (1120, 0.00393414350639377), (1121, 0.003178550412505129), (1122, 0.002582520047964959), (1123, 0.006794508833770599), (1124, 0.009437500907882736), (1125, 0.006795899925823497), (1126, 0.0), (1127, 0.004536083472593736), (1128, 0.01336435452058339), (1129, 0.017752690532328634), (1130, 0.0), (1131, 0.002545261045808532), (1132, 0.020234969971151914), (1133, 0.0), (1134, 0.061441371833614616), (1135, 0.0), (1136, 0.00797426804800454), (1137, 0.027523014873073015), (1138, 0.007234267449168641), (1139, 0.0), (1140, 0.0076571239434726586), (1141, 0.022212404115024814), (1142, 0.0), (1143, 0.0), (1144, 0.007254404954515301), (1145, 0.0035078057323266088), (1146, 0.03191885178304421), (1147, 0.0), (1148, 0.05021717092561963), (1149, 0.0), (1150, 0.004974546585233512), (1151, 0.0), (1152, 0.014220337795852396), (1153, 0.0032352223242597916), (1154, 0.004113210419394421), (1155, 0.0), (1156, 0.0), (1157, 0.012049297746365756), (1158, 0.005154513012072216), (1159, 0.0), (1160, 0.009119963359362913), (1161, 0.0022898720956568306), (1162, 0.02707639685994193), (1163, 0.0025226243395743554), (1164, 0.0037519407836058443), (1165, 0.0), (1166, 0.0), (1167, 0.005055120343723598), (1168, 0.0030465706471702906), (1169, 0.0029691465010494153), (1170, 0.0025398060338109765), (1171, 0.0), (1172, 0.006562436771513315), (1173, 0.030394068718894066), (1174, 0.007305352979187167), (1175, 0.018031404996814136), (1176, 0.0025895187462490195), (1177, 0.006735199420404096), (1178, 0.0), (1179, 0.007149020172561967), (1180, 0.0), (1181, 0.024901981778303266), (1182, 0.009283153423297958), (1183, 0.013191743897794364), (1184, 0.016219651123329498), (1185, 0.012311303013640827), (1186, 0.023212244440689152), (1187, 0.0029800847636325505), (1188, 0.0075060905253613135), (1189, 0.0), (1190, 0.0), (1191, 0.007179441122049503), (1192, 0.014369482563577597), (1193, 0.0), (1194, 0.01191428433297665), (1195, 0.03158933903806574), (1196, 0.0), (1197, 0.0042424188202834666), (1198, 0.0), (1199, 0.0022379768555542356), (1200, 0.0), (1201, 0.0), (1202, 0.019072579808771323), (1203, 0.043277358669800675), (1204, 0.0025737664084751672), (1205, 0.026560298948963612), (1206, 0.008508026003351835), (1207, 0.0044080331322181865), (1208, 0.003234196268817834), (1209, 0.0021139732315619037), (1210, 0.0033547128103041156), (1211, 0.004372001995865972), (1212, 0.0), (1213, 0.006213181810609136), (1214, 0.005929913929160048), (1215, 0.011724166588900194), (1216, 0.01621104074370097), (1217, 0.0022021070982795655), (1218, 0.0), (1219, 0.0022753515686569346), (1220, 0.012380518229453272), (1221, 0.0), (1222, 0.0), (1223, 0.00717904749535889), (1224, 0.014844885016772266), (1225, 0.007543263564234869), (1226, 0.018069641577764584), (1227, 0.0), (1228, 0.0), (1229, 0.007466060622115912), (1230, 0.011216093288531195), (1231, 0.006775709621544909), (1232, 0.014334781527881878), (1233, 0.0), (1234, 0.010175111310094832), (1235, 0.0), (1236, 0.03332249758301911), (1237, 0.012906699388708861), (1238, 0.006517587385582889), (1239, 0.013012430750029773), (1240, 0.0), (1241, 0.03525075392262764), (1242, 0.0), (1243, 0.055188203914809976), (1244, 0.0), (1245, 0.017327506032619202), (1246, 0.0), (1247, 0.002450152885629975), (1248, 0.043147237472991075), (1249, 0.011376113228742508), (1250, 0.006691915252540325), (1251, 0.0022443663407833167), (1252, 0.01409251840547697), (1253, 0.0), (1254, 0.016039727337030754), (1255, 0.013032234915533332), (1256, 0.0), (1257, 0.04457490432907123), (1258, 0.0), (1259, 0.010676822174748728), (1260, 0.007888729644288441), (1261, 0.04455311148535511), (1262, 0.011150498931780186), (1263, 0.0), (1264, 0.011574646560091589), (1265, 0.0), (1266, 0.01140583296429758), (1267, 0.006345548712105603), (1268, 0.0), (1269, 0.0), (1270, 0.021203180328723304), (1271, 0.0), (1272, 0.034778724664788284), (1273, 0.002414411792373698), (1274, 0.017579923264450483), (1275, 0.016410193934481662), (1276, 0.00871707602154927), (1277, 0.0018969310588431239), (1278, 0.014682830174818752), (1279, 0.009412228144621096), (1280, 0.004913913474765976), (1281, 0.004209158798174978), (1282, 0.007553863558447871), (1283, 0.023369828681387407), (1284, 0.0024679989688350845), (1285, 0.0), (1286, 0.0024871280909956614), (1287, 0.0), (1288, 0.0), (1289, 0.0), (1290, 0.01477597327219495), (1291, 0.0), (1292, 0.043672994313258315), (1293, 0.012621215853615706), (1294, 0.0026015522652949276), (1295, 0.0), (1296, 0.0), (1297, 0.0), (1298, 0.002516697972541326), (1299, 0.0), (1300, 0.009881491877523334), (1301, 0.00221571535496737), (1302, 0.04452892839426341), (1303, 0.011467492215850958), (1304, 0.0025353182907724738), (1305, 0.002096777487839328), (1306, 0.006634365348775323), (1307, 0.006178629666845839), (1308, 0.008350618235533572), (1309, 0.0039424444573518125), (1310, 0.011852079170255915), (1311, 0.03393915710442626), (1312, 0.007681642671111493), (1313, 0.0024998462055378632), (1314, 0.02655756157801402), (1315, 0.0), (1316, 0.005907101420132071), (1317, 0.013105284463965295), (1318, 0.002262569606739555), (1319, 0.002488874171897395), (1320, 0.039753697743366886), (1321, 0.0), (1322, 0.0), (1323, 0.0), (1324, 0.0027054030101357797), (1325, 0.015417086457288592), (1326, 0.0), (1327, 0.006241956257486742), (1328, 0.0), (1329, 0.006479543888064386), (1330, 0.0069388725731180205), (1331, 0.01406167285917336), (1332, 0.005140411881590919), (1333, 0.0), (1334, 0.00986324519041503), (1335, 0.01436279426066658), (1336, 0.0), (1337, 0.01451609677244842), (1338, 0.009451461834874667), (1339, 0.010211716556191124), (1340, 0.002154331203020268), (1341, 0.07731502775667545), (1342, 0.012806112930901671), (1343, 0.013892322964010212), (1344, 0.005718614154553434), (1345, 0.0065509234136658274), (1346, 0.0), (1347, 0.004457083374857694), (1348, 0.010180341522569936), (1349, 0.002856336492611465), (1350, 0.0024710817116524275), (1351, 0.024866830881528922), (1352, 0.0021545498267255955), (1353, 0.0), (1354, 0.0), (1355, 0.00259803299312561), (1356, 0.006052483806988759), (1357, 0.0023377820309473506), (1358, 0.041812317301982455), (1359, 0.009781048101860711), (1360, 0.01294604696300482), (1361, 0.015583228296433908), (1362, 0.022483935171508398), (1363, 0.02870444523959934), (1364, 0.0026341460616542286), (1365, 0.017777801589342657), (1366, 0.002287843379732015), (1367, 0.03304496524201888), (1368, 0.0), (1369, 0.04025641791528251), (1370, 0.002187315567338388), (1371, 0.00785476878586192), (1372, 0.0023793019051377975), (1373, 0.0), (1374, 0.0065703979358204025), (1375, 0.0067966755276919226), (1376, 0.012469452752460966), (1377, 0.01677025271512457), (1378, 0.0025326043326421746), (1379, 0.03404074098216097), (1380, 0.0048667537768168675), (1381, 0.005295429100893553), (1382, 0.009394666719229502), (1383, 0.08423026733085655), (1384, 0.017702288061531304), (1385, 0.020794032505355158), (1386, 0.018824693808587353), (1387, 0.008674700708754566), (1388, 0.007103144655635525), (1389, 0.034455720633597246), (1390, 0.0), (1391, 0.00513700339089759), (1392, 0.002255522421723931), (1393, 0.041783110998250834), (1394, 0.0022473423039682293), (1395, 0.003713463768279834), (1396, 0.01169181890915234), (1397, 0.021075846567508664), (1398, 0.028211514391801532), (1399, 0.0), (1400, 0.007532366431275542), (1401, 0.013865306689357827), (1402, 0.002659678104236848), (1403, 0.017082069502477974), (1404, 0.0023980629552325322), (1405, 0.028764267403243098), (1406, 0.011414962111835805), (1407, 0.011880022375210636), (1408, 0.0024670669993922824), (1409, 0.0027140336500665815), (1410, 0.0025640412312170767), (1411, 0.0025069034552865337), (1412, 0.02361095427287364), (1413, 0.013921756374045458), (1414, 0.006378689811214356), (1415, 0.0020785227263602304), (1416, 0.002423149860994398), (1417, 0.016228190293936552), (1418, 0.010093786032414474), (1419, 0.011701428428308602), (1420, 0.011133953926417165), (1421, 0.006893122370013268), (1422, 0.0024696150201178983), (1423, 0.002251440915332381), (1424, 0.0), (1425, 0.006676870511132637), (1426, 0.004888162035669361), (1427, 0.0020794930512143517), (1428, 0.004373432751383414), (1429, 0.008597107840202496), (1430, 0.026521965288658095), (1431, 0.004724570253248521), (1432, 0.01217415295120262), (1433, 0.006653350630099636), (1434, 0.0023160233197884136), (1435, 0.004717297161558464), (1436, 0.012362613201968664), (1437, 0.0), (1438, 0.009517090049951249), (1439, 0.002656260786139867), (1440, 0.009757624766932113), (1441, 0.0), (1442, 0.00959174767270821), (1443, 0.018309167107389033), (1444, 0.0), (1445, 0.016028486523149983), (1446, 0.008721911352812743), (1447, 0.0), (1448, 0.006607972586302011), (1449, 0.0048567509820071205), (1450, 0.0021852331208486917), (1451, 0.004334338509405417), (1452, 0.004877359195952701), (1453, 0.005282731020389084), (1454, 0.007852213638625736), (1455, 0.011670073283642852), (1456, 0.0023537329412126017), (1457, 0.0), (1458, 0.0039055769361765864), (1459, 0.0), (1460, 0.0), (1461, 0.013790205145146138), (1462, 0.006559379435809105), (1463, 0.002445981592010511), (1464, 0.032414937393954624), (1465, 0.013580526866648492), (1466, 0.0), (1467, 0.0), (1468, 0.0), (1469, 0.004777222258029788), (1470, 0.0), (1471, 0.020277995741890452), (1472, 0.00722852555399992), (1473, 0.0), (1474, 0.00282888053195296), (1475, 0.009488240122750407), (1476, 0.0025688617653708335), (1477, 0.008389642724935635), (1478, 0.01361754036888441), (1479, 0.002781640642271239), (1480, 0.004289132524474602), (1481, 0.013766732698652808), (1482, 0.028578001088361962), (1483, 0.014112867447640398), (1484, 0.00756472117620993), (1485, 0.0), (1486, 0.007228702332912397), (1487, 0.0), (1488, 0.007169423447060775), (1489, 0.00803375784700023), (1490, 0.0), (1491, 0.0), (1492, 0.021705902184523146), (1493, 0.017081294005876317), (1494, 0.009377709318111702), (1495, 0.0), (1496, 0.0), (1497, 0.002894466647830362), (1498, 0.00794991520444433), (1499, 0.03078796781829658), (1500, 0.027286419616464677), (1501, 0.00655759657071266), (1502, 0.004872631630776047), (1503, 0.002300180884628672), (1504, 0.007003687571046612), (1505, 0.02197050267310463), (1506, 0.042254593835010124), (1507, 0.00809760155733676), (1508, 0.0), (1509, 0.014200706395057328), (1510, 0.020469862179212272), (1511, 0.0), (1512, 0.015440958578402999), (1513, 0.010007501420534796), (1514, 0.008418482393049084), (1515, 0.022043187660484652), (1516, 0.0026125824448267427), (1517, 0.0), (1518, 0.0027310385532398336), (1519, 0.012684399910031985), (1520, 0.0), (1521, 0.0), (1522, 0.0), (1523, 0.015816572285116102), (1524, 0.0), (1525, 0.0), (1526, 0.006274003215171162), (1527, 0.03943528315575597), (1528, 0.0023041059904820855), (1529, 0.0), (1530, 0.024223449886980202), (1531, 0.004874341339683662), (1532, 0.0), (1533, 0.0025734777254873106), (1534, 0.0), (1535, 0.0), (1536, 0.007354539060145528), (1537, 0.007656077129804142), (1538, 0.008260199415924607), (1539, 0.008116451952548441), (1540, 0.008259447581692819), (1541, 0.0), (1542, 0.012099811546899257), (1543, 0.0023366999975278006), (1544, 0.0245610220468623), (1545, 0.0), (1546, 0.003969394968882899), (1547, 0.0029546316853414603), (1548, 0.0), (1549, 0.0), (1550, 0.0025012483099619695), (1551, 0.010987710922088334), (1552, 0.006275545469947418), (1553, 0.008033789222653284), (1554, 0.005080784613957381), (1555, 0.006656760608439849), (1556, 0.0), (1557, 0.0), (1558, 0.002357209001379595), (1559, 0.003993164338929318), (1560, 0.028132224299644164), (1561, 0.0), (1562, 0.00427392318208252), (1563, 0.0), (1564, 0.0), (1565, 0.0021467849203430315), (1566, 0.004614798722416453), (1567, 0.012354141205420974), (1568, 0.034068313376743056), (1569, 0.0), (1570, 0.0026678100046201142), (1571, 0.007525408685161009), (1572, 0.024718335843778628), (1573, 0.0045442556452648985), (1574, 0.002559719488794914), (1575, 0.0049402720917831305), (1576, 0.0036959244187825726), (1577, 0.0), (1578, 0.0), (1579, 0.017404901445329423), (1580, 0.0027992392654003877), (1581, 0.0), (1582, 0.009221523456452196), (1583, 0.007192468552321871), (1584, 0.0), (1585, 0.02293648228466717), (1586, 0.0), (1587, 0.00469672744462328), (1588, 0.0048207959603960415), (1589, 0.0), (1590, 0.004023404587507122), (1591, 0.013513364204441887), (1592, 0.0), (1593, 0.003069990078254939), (1594, 0.0028400322131227145), (1595, 0.012872260395145784), (1596, 0.0), (1597, 0.002443005489718847), (1598, 0.0025018825091160293), (1599, 0.0), (1600, 0.0), (1601, 0.0), (1602, 0.0), (1603, 0.0), (1604, 0.0), (1605, 0.002291870344734914), (1606, 0.0), (1607, 0.0), (1608, 0.006312322231655674), (1609, 0.016370869101929697), (1610, 0.0), (1611, 0.0), (1612, 0.009063572738125768), (1613, 0.0), (1614, 0.00493668620552214), (1615, 0.0), (1616, 0.002229374571767044), (1617, 0.0024763952966570585), (1618, 0.0), (1619, 0.00970031791261872), (1620, 0.008985568753898495), (1621, 0.014016903933175614), (1622, 0.004518256964439496), (1623, 0.004272864987382942), (1624, 0.0020630242562274725), (1625, 0.0022811505013303375), (1626, 0.0), (1627, 0.006087936410014649), (1628, 0.002320826522903085), (1629, 0.021459510807381482), (1630, 0.011067568044292774), (1631, 0.004377888998566407), (1632, 0.004424223908118782), (1633, 0.004408616695424004), (1634, 0.027258895128534088), (1635, 0.004525246200972134), (1636, 0.0), (1637, 0.0027210233734102445), (1638, 0.0), (1639, 0.0), (1640, 0.0), (1641, 0.0023522430840173733), (1642, 0.002347020293303283), (1643, 0.007507343111035561), (1644, 0.006558219399207338), (1645, 0.00244979079753445), (1646, 0.0), (1647, 0.09397406062370095), (1648, 0.029549214174915798), (1649, 0.0), (1650, 0.008433262341887753), (1651, 0.0), (1652, 0.03873100721176107), (1653, 0.006973088246151604), (1654, 0.012534464621006177), (1655, 0.01107237848640761), (1656, 0.0029084621817631016), (1657, 0.019721082466825853), (1658, 0.010077595187699491), (1659, 0.004918042940270682), (1660, 0.0026497734216442037), (1661, 0.004968686515388494), (1662, 0.010418192743409379), (1663, 0.002389764265772941), (1664, 0.006217144754900061), (1665, 0.013314389437300487), (1666, 0.002501345549205218), (1667, 0.013107596944278706), (1668, 0.0), (1669, 0.0), (1670, 0.0026697565882376497), (1671, 0.0206192933738156), (1672, 0.002321822921720919), (1673, 0.0), (1674, 0.007714058689548403), (1675, 0.040382022809972655), (1676, 0.03674021322449559), (1677, 0.0019958400865912516), (1678, 0.020666785599857074), (1679, 0.0), (1680, 0.012913243767867105), (1681, 0.012830286736852967), (1682, 0.014703242381677428), (1683, 0.002714677615683768), (1684, 0.00575055793968186), (1685, 0.009629242531014496), (1686, 0.0), (1687, 0.015081735964615803), (1688, 0.00928143257666984), (1689, 0.0), (1690, 0.00819994784902828), (1691, 0.0021644755139397574), (1692, 0.006496370588431404), (1693, 0.002382037821140943), (1694, 0.010374866789901967), (1695, 0.005314302952442836), (1696, 0.010962235095643324), (1697, 0.0), (1698, 0.0), (1699, 0.003990363923790213), (1700, 0.0), (1701, 0.00881578340736312), (1702, 0.034008139827259115), (1703, 0.002624923963088172), (1704, 0.0), (1705, 0.007574157609658028), (1706, 0.0025599800375612), (1707, 0.021597238418301398), (1708, 0.009776180982639635), (1709, 0.0), (1710, 0.008618318629058085), (1711, 0.00318094635836336), (1712, 0.0097301078750234), (1713, 0.041020671899656934), (1714, 0.012006402911116832), (1715, 0.005879131370930073), (1716, 0.01595037489709611), (1717, 0.0026123746356574488), (1718, 0.006880296291173353), (1719, 0.0022893323391152405), (1720, 0.026467149286430833), (1721, 0.02552235239513344), (1722, 0.00256172894547362), (1723, 0.010494108082849073), (1724, 0.004967450020591534), (1725, 0.0), (1726, 0.0), (1727, 0.009982369653129555), (1728, 0.0), (1729, 0.0), (1730, 0.008296334494406987), (1731, 0.0), (1732, 0.004931760665120943), (1733, 0.002781487388564062), (1734, 0.0), (1735, 0.0072931879361726295), (1736, 0.010060176008660389), (1737, 0.006997994725379615), (1738, 0.00671436553520446), (1739, 0.012789768581445503), (1740, 0.014509316792037602), (1741, 0.015462686401247374), (1742, 0.0023984157862719374), (1743, 0.00774789429512753), (1744, 0.002419940779810924), (1745, 0.0), (1746, 0.006127734638138645), (1747, 0.007083730626318676), (1748, 0.002970066728635172), (1749, 0.02480511994792635), (1750, 0.030240243280430297), (1751, 0.0), (1752, 0.03332449813462937), (1753, 0.003965939805057766), (1754, 0.010585100514761053), (1755, 0.0), (1756, 0.0), (1757, 0.021485551963652868), (1758, 0.0), (1759, 0.016893371371783046), (1760, 0.0066090480315779306), (1761, 0.011425186176325201), (1762, 0.008118340224504283), (1763, 0.024922529275398064), (1764, 0.0078854088072016), (1765, 0.002622720061140784), (1766, 0.0), (1767, 0.0), (1768, 0.002608378523987415), (1769, 0.0), (1770, 0.032771385520442245), (1771, 0.0), (1772, 0.004003850742863733), (1773, 0.01095316695761692), (1774, 0.015865515246025093), (1775, 0.0), (1776, 0.008460903842967776), (1777, 0.0), (1778, 0.0), (1779, 0.014602928431234612), (1780, 0.0016545691689785614), (1781, 0.009944112550091578), (1782, 0.00231993801855232), (1783, 0.0), (1784, 0.0041898743796854), (1785, 0.0), (1786, 0.0), (1787, 0.012434704368126336), (1788, 0.02903510623055766), (1789, 0.010787217763950288), (1790, 0.007827084651374954), (1791, 0.004912206344103636), (1792, 0.0029803126141638285), (1793, 0.00853129300327308), (1794, 0.0), (1795, 0.02958074708324387), (1796, 0.01297792205875304), (1797, 0.0061996173486110195), (1798, 0.009743543588090566), (1799, 0.01224388317207548), (1800, 0.0), (1801, 0.002130514942845812), (1802, 0.01306498494823754), (1803, 0.0), (1804, 0.0), (1805, 0.002763668575631345), (1806, 0.007720306303298781), (1807, 0.008927953865785473), (1808, 0.0022750176972205017), (1809, 0.04954397327921477), (1810, 0.0), (1811, 0.007092232191685494), (1812, 0.011942860980134935), (1813, 0.002462666521756918), (1814, 0.002335787386509294), (1815, 0.013510854252386417), (1816, 0.006375553346139509), (1817, 0.02075591301413741), (1818, 0.006222019095273654), (1819, 0.006661435827691112), (1820, 0.0), (1821, 0.04359832305996923), (1822, 0.0026770869586424566), (1823, 0.0), (1824, 0.0), (1825, 0.0), (1826, 0.0022938876537086845), (1827, 0.002294017968592749), (1828, 0.0021887129245835085), (1829, 0.0050214215439091416), (1830, 0.002247812567014709), (1831, 0.0025083117438891122), (1832, 0.011934965139874108), (1833, 0.007794692665268067), (1834, 0.0), (1835, 0.0), (1836, 0.0), (1837, 0.03238304025566916), (1838, 0.019932844204113915), (1839, 0.0), (1840, 0.004197542929010782), (1841, 0.006828251414365533), (1842, 0.0), (1843, 0.017770562175441325), (1844, 0.0), (1845, 0.027249147954393423), (1846, 0.004485379171908438), (1847, 0.02640241256673829), (1848, 0.0027306365456363775), (1849, 0.006462482310903227), (1850, 0.04145149655095294), (1851, 0.002640090997581997), (1852, 0.01102003380507131), (1853, 0.015054004221577797), (1854, 0.009173789783737793), (1855, 0.0), (1856, 0.0), (1857, 0.004541891771590281), (1858, 0.010751720761890682), (1859, 0.004865705511407602), (1860, 0.009360580676070512), (1861, 0.02131877762016997), (1862, 0.002841254961315221), (1863, 0.0056686954038999236), (1864, 0.013193084401855789), (1865, 0.023250067752187582), (1866, 0.007808839651500064), (1867, 0.006483908056539938), (1868, 0.030642884381441412), (1869, 0.0022957623990042613), (1870, 0.011734654398829283), (1871, 0.04117810558235283), (1872, 0.01808081310839883), (1873, 0.0111895254968085), (1874, 0.010385872140660828), (1875, 0.008358502421545963), (1876, 0.01379599888208545), (1877, 0.00242053698239348), (1878, 0.04803827033944935), (1879, 0.0), (1880, 0.01495531199979328), (1881, 0.004826771279841946), (1882, 0.002484739703781173), (1883, 0.0), (1884, 0.0023707492541289164), (1885, 0.030990357219027126), (1886, 0.06267527433946524), (1887, 0.0028750905203887302), (1888, 0.0), (1889, 0.0), (1890, 0.0028127175650408975), (1891, 0.0025143447213788576), (1892, 0.006493323473862622), (1893, 0.002675508291993454), (1894, 0.0), (1895, 0.014445517244159179), (1896, 0.0026887360657925764), (1897, 0.01487179981534745), (1898, 0.0), (1899, 0.0), (1900, 0.008885246843343523), (1901, 0.004728230182079872), (1902, 0.007511621986657138), (1903, 0.006139334676876918), (1904, 0.0048798898237699916), (1905, 0.0027658194310373205), (1906, 0.015387902547757253), (1907, 0.0027299135089475964), (1908, 0.006597058660502844), (1909, 0.0028778398463881927), (1910, 0.003898129947279306), (1911, 0.0068179749676884095), (1912, 0.0), (1913, 0.006478081222935035), (1914, 0.004336039859985765), (1915, 0.0), (1916, 0.0026728898223094583), (1917, 0.0), (1918, 0.007553253904010909), (1919, 0.014714288569561246), (1920, 0.008416393291015553), (1921, 0.0022670535336150608), (1922, 0.009699836884473633), (1923, 0.01066549945216278), (1924, 0.008169723171409184), (1925, 0.004028322242563564), (1926, 0.0), (1927, 0.019655374192736094), (1928, 0.0), (1929, 0.0024184782494503436), (1930, 0.004664307755741686), (1931, 0.007303881642716194), (1932, 0.0), (1933, 0.00449781905799969), (1934, 0.012247588796977519), (1935, 0.02276849164460441), (1936, 0.009302681428387834), (1937, 0.018423807541792105), (1938, 0.0), (1939, 0.0061240783210446586), (1940, 0.005392914450382175), (1941, 0.00552326632584621), (1942, 0.021140189029832737), (1943, 0.002208089103071816), (1944, 0.0), (1945, 0.013739036691346768), (1946, 0.0026065002142100823), (1947, 0.0029441328708469106), (1948, 0.008997263136735873), (1949, 0.01211487213294709), (1950, 0.007417321583712833), (1951, 0.009657608204026159), (1952, 0.004966888265409118), (1953, 0.004483108352975232), (1954, 0.0022463755588129856), (1955, 0.0), (1956, 0.0), (1957, 0.011031449138289618), (1958, 0.011929543334359), (1959, 0.00274425399902679), (1960, 0.007917618548496423), (1961, 0.0), (1962, 0.005139355179408205), (1963, 0.0), (1964, 0.006461932018111247), (1965, 0.0), (1966, 0.0), (1967, 0.013816819047309432), (1968, 0.00839731046782219), (1969, 0.0024475417708642476), (1970, 0.0529751430212702), (1971, 0.00814503858450332), (1972, 0.0), (1973, 0.029149856037272923), (1974, 0.0), (1975, 0.004859008890104321), (1976, 0.029548044879637046), (1977, 0.07510249355395597), (1978, 0.0), (1979, 0.0), (1980, 0.002275402646999944), (1981, 0.005905601624630257), (1982, 0.07246545884876746), (1983, 0.014815582451362424), (1984, 0.0), (1985, 0.021003261341417858), (1986, 0.013480473462846358), (1987, 0.006492217369211328), (1988, 0.01244308082472459), (1989, 0.011420811280725597), (1990, 0.028401093417823365), (1991, 0.035320921060665464), (1992, 0.01091861606725655), (1993, 0.004405774264202949), (1994, 0.0827109490798252), (1995, 0.002727713045573586), (1996, 0.022222626657847574), (1997, 0.023133731837790474), (1998, 0.004666130432436928), (1999, 0.024666794039962078), (2000, 0.012485339120542656), (2001, 0.0), (2002, 0.0), (2003, 0.0), (2004, 0.002384313826044642), (2005, 0.011805965533483618), (2006, 0.0), (2007, 0.0), (2008, 0.013339737952897826), (2009, 0.0), (2010, 0.001994179536478847), (2011, 0.025107847771103774), (2012, 0.04293737780048197), (2013, 0.026303873918422104), (2014, 0.0300701111600659), (2015, 0.004818206726118679), (2016, 0.009970003670534359), (2017, 0.0), (2018, 0.03561597404547902), (2019, 0.0), (2020, 0.024227010052696056), (2021, 0.0), (2022, 0.005204964180473137), (2023, 0.030133344036984946), (2024, 0.013620722151943532), (2025, 0.0), (2026, 0.05262754287379799), (2027, 0.0151132863694282), (2028, 0.0), (2029, 0.00938036398577857), (2030, 0.0), (2031, 0.006453175549998006), (2032, 0.0), (2033, 0.0), (2034, 0.0020898638111463536), (2035, 0.017831983493396465), (2036, 0.0), (2037, 0.02980722389909136), (2038, 0.0), (2039, 0.0021330734854514504), (2040, 0.022962723899347545), (2041, 0.0), (2042, 0.0), (2043, 0.0), (2044, 0.0049015110126798475), (2045, 0.013940220611371287), (2046, 0.0), (2047, 0.002241804973446067), (2048, 0.025084945147080963), (2049, 0.010034712612706463), (2050, 0.0), (2051, 0.010342584971408303), (2052, 0.012246467135060553), (2053, 0.014683633610573558), (2054, 0.0), (2055, 0.020606202454721435), (2056, 0.006326631766185276), (2057, 0.011322438659887146), (2058, 0.005918459692534257), (2059, 0.0), (2060, 0.002510932679959165), (2061, 0.007241705135923254), (2062, 0.010823346323355097), (2063, 0.0), (2064, 0.004832515951738518), (2065, 0.008631619735596691), (2066, 0.013146672116880777), (2067, 0.0025490750759160326), (2068, 0.0024106248382975456), (2069, 0.007026089574786771), (2070, 0.017780297717909434), (2071, 0.0), (2072, 0.0026288425067485803), (2073, 0.0025852567514258566), (2074, 0.009869798835889542), (2075, 0.009370535700295434), (2076, 0.008102917939281126), (2077, 0.008625860724926788), (2078, 0.0036696070702431087), (2079, 0.0), (2080, 0.009283747030182952), (2081, 0.0), (2082, 0.03135996692156871), (2083, 0.002654037184025995), (2084, 0.0049788491837118795), (2085, 0.0), (2086, 0.0), (2087, 0.008902153644669317), (2088, 0.007487775574889032), (2089, 0.00840149319139038), (2090, 0.0), (2091, 0.007249169116007209), (2092, 0.0), (2093, 0.017348952322346622), (2094, 0.025093711788850608), (2095, 0.006340811314014147), (2096, 0.022160287265363565), (2097, 0.010456809056156549), (2098, 0.005613029722686767), (2099, 0.0023707144762588135), (2100, 0.03144614723036946), (2101, 0.00718245717900571), (2102, 0.028452788619485456), (2103, 0.008863719986775525), (2104, 0.007637695154520428), (2105, 0.002701106904202922), (2106, 0.0), (2107, 0.0), (2108, 0.0028145629549200025), (2109, 0.034337791822416946), (2110, 0.01674581433881089), (2111, 0.0024844878809292406), (2112, 0.062176553776560874), (2113, 0.005137874544878056), (2114, 0.029484358899945898), (2115, 0.0), (2116, 0.009824688359344327), (2117, 0.0024314543604302104), (2118, 0.0), (2119, 0.016930161232074966), (2120, 0.0), (2121, 0.013057363840205059), (2122, 0.0331022167939126), (2123, 0.03393946785933292), (2124, 0.0), (2125, 0.0), (2126, 0.009910547393268552), (2127, 0.002129490448621263), (2128, 0.0), (2129, 0.002350430526196545), (2130, 0.004664657065509676), (2131, 0.002436261313572843), (2132, 0.0021179111619618832), (2133, 0.048930526804194956), (2134, 0.00283694991842722), (2135, 0.0), (2136, 0.0050008790876138005), (2137, 0.003595551485703433), (2138, 0.0), (2139, 0.004330646268013207), (2140, 0.0), (2141, 0.002420722389469275), (2142, 0.00295879144472796), (2143, 0.008702232252064426), (2144, 0.009182280671690189), (2145, 0.011662489191776277), (2146, 0.0021678833005469456), (2147, 0.032112474422921894), (2148, 0.002629402014420005), (2149, 0.01670067543577086), (2150, 0.0), (2151, 0.044872882338977765), (2152, 0.0), (2153, 0.0), (2154, 0.02662790523885777), (2155, 0.040044737213069774), (2156, 0.0058460872158321055), (2157, 0.022239438942608616), (2158, 0.008246658276082957), (2159, 0.0027971797880166327), (2160, 0.0061770878671140745), (2161, 0.016485415252143806), (2162, 0.01032027935523586), (2163, 0.0022635677605173155), (2164, 0.0), (2165, 0.0), (2166, 0.0023875531977041197), (2167, 0.01778542877768738), (2168, 0.0), (2169, 0.0025531203084402285), (2170, 0.0), (2171, 0.0), (2172, 0.0), (2173, 0.0240000168995126), (2174, 0.02060579514583427), (2175, 0.0060613995297080035), (2176, 0.002800583594301889), (2177, 0.013188916293094294), (2178, 0.011366214495142132), (2179, 0.0), (2180, 0.0), (2181, 0.0052380358446777325), (2182, 0.0), (2183, 0.0), (2184, 0.006643509282351941), (2185, 0.005881846769872645), (2186, 0.0), (2187, 0.03763613376592248), (2188, 0.008725871707208472), (2189, 0.0035608383249221076), (2190, 0.002734187763497613), (2191, 0.05053139660714176), (2192, 0.0025544184742126224), (2193, 0.009184186666602982), (2194, 0.0), (2195, 0.002530207829523784), (2196, 0.015038178492655319), (2197, 0.009455476819261895), (2198, 0.02838120711096072), (2199, 0.0033023661645080822), (2200, 0.0), (2201, 0.002359956451465977), (2202, 0.006182394941246958), (2203, 0.006008105786383101), (2204, 0.0), (2205, 0.006140055638516893), (2206, 0.011170225391750065), (2207, 0.016899021908106417), (2208, 0.0048908206027751915), (2209, 0.010133799883254604), (2210, 0.0216415063257075), (2211, 0.007617652091368712), (2212, 0.0361031251203935), (2213, 0.002262134394871934), (2214, 0.04835944003968451), (2215, 0.0), (2216, 0.013935125334220458), (2217, 0.0), (2218, 0.0), (2219, 0.0), (2220, 0.0), (2221, 0.028417725914983004), (2222, 0.0), (2223, 0.0028827640299131847), (2224, 0.013496964281488362), (2225, 0.0), (2226, 0.0024803189971477207), (2227, 0.0), (2228, 0.009150395048975524), (2229, 0.015543825550294814), (2230, 0.0026051380180711), (2231, 0.005099091382601142), (2232, 0.004507767083650593), (2233, 0.0), (2234, 0.0), (2235, 0.012008612779828187), (2236, 0.008259462631579312), (2237, 0.018472715676813904), (2238, 0.0), (2239, 0.006398111968218074), (2240, 0.002226084993827913), (2241, 0.0), (2242, 0.002411133741456318), (2243, 0.0), (2244, 0.007220552293273935), (2245, 0.004443299791427758), (2246, 0.004602480053510158), (2247, 0.0), (2248, 0.04144761671154862), (2249, 0.0), (2250, 0.009589308009403408), (2251, 0.003528931129185891), (2252, 0.012577240968152005), (2253, 0.0), (2254, 0.015262811415994816), (2255, 0.009226016145214068), (2256, 0.0), (2257, 0.0032661324501727733), (2258, 0.01663216753295949), (2259, 0.0), (2260, 0.0027131323571154835), (2261, 0.0), (2262, 0.0), (2263, 0.0), (2264, 0.008536883182110374), (2265, 0.008262907984926526), (2266, 0.0031228917350261446), (2267, 0.0), (2268, 0.0024500405300755877), (2269, 0.0029427674691634253), (2270, 0.002191715704766276), (2271, 0.0), (2272, 0.0), (2273, 0.005445358014824878), (2274, 0.0), (2275, 0.015822847179045637), (2276, 0.026015533133267068), (2277, 0.009226579302817405), (2278, 0.004681399687599573), (2279, 0.00936283819867074), (2280, 0.011575357077907432), (2281, 0.0), (2282, 0.0), (2283, 0.004917453834071954), (2284, 0.014299284748678191), (2285, 0.00818652009110156), (2286, 0.0032420696087378884), (2287, 0.0021162384248043587), (2288, 0.0026831308374061177), (2289, 0.0025190817392671066), (2290, 0.01565122000409934), (2291, 0.005625092402087647), (2292, 0.002583053086938867), (2293, 0.00276532248595497), (2294, 0.04799532990286212), (2295, 0.039811902895947326), (2296, 0.0), (2297, 0.0), (2298, 0.015138957411276445), (2299, 0.004056622113362604), (2300, 0.0), (2301, 0.020333923977728187), (2302, 0.002881478242586523), (2303, 0.008583848178416205), (2304, 0.007902515404218947), (2305, 0.0), (2306, 0.011517211095352076), (2307, 0.0), (2308, 0.03786394144202487), (2309, 0.00869441002923986), (2310, 0.003391827908156935), (2311, 0.0), (2312, 0.0), (2313, 0.0025754925045550674), (2314, 0.005076212937706028), (2315, 0.0), (2316, 0.036043143594210715), (2317, 0.0023473456852492703), (2318, 0.05695694425921295), (2319, 0.002625811919655668), (2320, 0.00294883588922323), (2321, 0.040956842295458255), (2322, 0.0), (2323, 0.0022892653985641435), (2324, 0.006546166653767278), (2325, 0.0), (2326, 0.003623283284563067), (2327, 0.0), (2328, 0.005663592685418085), (2329, 0.0), (2330, 0.004868824612496972), (2331, 0.0), (2332, 0.0), (2333, 0.0), (2334, 0.014640608959290523), (2335, 0.006623655924668327), (2336, 0.011616960805002453), (2337, 0.0), (2338, 0.002292011396407544), (2339, 0.0074572268487209815), (2340, 0.002543183801534866), (2341, 0.0), (2342, 0.0), (2343, 0.02758814672263756), (2344, 0.007165760467093298), (2345, 0.0), (2346, 0.010924260707113984), (2347, 0.01642897206442545), (2348, 0.006735528664241921), (2349, 0.0035111730054264777), (2350, 0.0032591878779827453), (2351, 0.0), (2352, 0.0), (2353, 0.015788347119573828), (2354, 0.0025394967746734096), (2355, 0.005962040724005924), (2356, 0.0028360582785950574), (2357, 0.0), (2358, 0.05824769141762538), (2359, 0.0021167652666150938), (2360, 0.0), (2361, 0.0026894582477769817), (2362, 0.019297690823971075), (2363, 0.008740383441643209), (2364, 0.0), (2365, 0.03250612488656705), (2366, 0.013598270719466418), (2367, 0.0024236891401093964), (2368, 0.0182834577827474), (2369, 0.0), (2370, 0.0026421681673811266), (2371, 0.035435642890861686), (2372, 0.0), (2373, 0.0), (2374, 0.04735288999556633), (2375, 0.036020711174183914), (2376, 0.015336036741432362), (2377, 0.0), (2378, 0.0029852276769483355), (2379, 0.0036600411214509562), (2380, 0.0), (2381, 0.0), (2382, 0.0021731191564474555), (2383, 0.012995068466772793), (2384, 0.0), (2385, 0.0026713514943111144), (2386, 0.0025886134963145433), (2387, 0.0025299049766839463), (2388, 0.00622899134789625), (2389, 0.0), (2390, 0.0027799404008817274), (2391, 0.002709126440830478), (2392, 0.003300747760801657), (2393, 0.0027073589488500567), (2394, 0.025679931175510467), (2395, 0.0), (2396, 0.002559719232594161), (2397, 0.002579902941133831), (2398, 0.0), (2399, 0.002341682120978594), (2400, 0.0028689587115184496), (2401, 0.0024651582710985952), (2402, 0.0022973325192624286), (2403, 0.010490791139527242), (2404, 0.0034498635913775585), (2405, 0.002638401024979246), (2406, 0.016707657478655515), (2407, 0.0035053570054155857), (2408, 0.024719086431338546), (2409, 0.0), (2410, 0.0027798225032133585), (2411, 0.0028723959519005994), (2412, 0.012348522532140895), (2413, 0.02992023880943228), (2414, 0.0), (2415, 0.0030781923061883594), (2416, 0.002498942248203721), (2417, 0.04895093310416284), (2418, 0.009647400026152459), (2419, 0.0026651204479563517), (2420, 0.0), (2421, 0.01139122392074543), (2422, 0.0024625506256862753), (2423, 0.0031963743563923025), (2424, 0.006410567825553075), (2425, 0.0032874678097511755), (2426, 0.005907112739157795), (2427, 0.008306926716449165), (2428, 0.007890224504974733), (2429, 0.010832458842337678), (2430, 0.0025732888609284635), (2431, 0.0), (2432, 0.004447715910027843), (2433, 0.0), (2434, 0.0030327101891109987), (2435, 0.0), (2436, 0.010173979328408597), (2437, 0.002879273504551976), (2438, 0.0031400106581977285), (2439, 0.005390288281066806), (2440, 0.020729817055115354), (2441, 0.00205358895373931), (2442, 0.0042905363933839315), (2443, 0.029792421606542455), (2444, 0.0072057616784892324), (2445, 0.0), (2446, 0.0023560208259790264), (2447, 0.012192230108947478), (2448, 0.0033132056543160207), (2449, 0.02197169919517949), (2450, 0.0), (2451, 0.0), (2452, 0.0), (2453, 0.0023313145440636827), (2454, 0.0030629103586015762), (2455, 0.0), (2456, 0.0), (2457, 0.002281296564221241), (2458, 0.0), (2459, 0.008702389662542463), (2460, 0.013367891102705505), (2461, 0.0024596918499305495), (2462, 0.0), (2463, 0.00894431484049082), (2464, 0.010527293658975766), (2465, 0.0), (2466, 0.0026051197677107217), (2467, 0.025516042678646513), (2468, 0.013655802599717156), (2469, 0.01913661924271743), (2470, 0.0), (2471, 0.0), (2472, 0.0), (2473, 0.008664923971154894), (2474, 0.012020836934382245), (2475, 0.002727998104533), (2476, 0.03243175552276065), (2477, 0.007724519723922784), (2478, 0.002912233035099831), (2479, 0.0), (2480, 0.01108202810630883), (2481, 0.028466891473348258), (2482, 0.002338177984377662), (2483, 0.0), (2484, 0.023898780473473095), (2485, 0.0), (2486, 0.013343163537112972), (2487, 0.028157253590139524), (2488, 0.0031005417934458213), (2489, 0.009792725320975831), (2490, 0.0036562275100431685), (2491, 0.0), (2492, 0.002552193609858092), (2493, 0.0), (2494, 0.009813230501958918), (2495, 0.0025367486150904995), (2496, 0.006687273843048959), (2497, 0.0), (2498, 0.0), (2499, 0.0), (2500, 0.0), (2501, 0.020048934754128854), (2502, 0.0022374808732399574), (2503, 0.006510362408982171), (2504, 0.0), (2505, 0.010107535687511111), (2506, 0.004628137848432687), (2507, 0.002755361327557064), (2508, 0.0), (2509, 0.002084826630846407), (2510, 0.007526778038465962), (2511, 0.0), (2512, 0.009535580260459066), (2513, 0.018265313679933403), (2514, 0.0), (2515, 0.0), (2516, 0.0), (2517, 0.031502703231921045), (2518, 0.0), (2519, 0.007293727802561642), (2520, 0.0021990446149611595), (2521, 0.0), (2522, 0.015157427458389414), (2523, 0.0), (2524, 0.019997863058861306), (2525, 0.0023885180864626366), (2526, 0.0020756302824938245), (2527, 0.0021817366301587556), (2528, 0.0023560444379801472), (2529, 0.003681855876849656), (2530, 0.04480992372665644), (2531, 0.0026437033531340193), (2532, 0.0), (2533, 0.002551480426871012), (2534, 0.0011293143803617971), (2535, 0.002807566602713779), (2536, 0.0), (2537, 0.003480177562619098), (2538, 0.06796421733333449), (2539, 0.0), (2540, 0.03725713978751216), (2541, 0.003914860193400711), (2542, 0.0), (2543, 0.0), (2544, 0.002951452319425168), (2545, 0.009482632816575742), (2546, 0.010001571995271498), (2547, 0.0), (2548, 0.0), (2549, 0.0), (2550, 0.04834706662773692), (2551, 0.0), (2552, 0.002371684420955791), (2553, 0.017425544985649292), (2554, 0.0025591316422471436), (2555, 0.011015960525030618), (2556, 0.0023512921079399), (2557, 0.0031452673598957124), (2558, 0.08264873511945119), (2559, 0.0033350421281434523), (2560, 0.02416187713985247), (2561, 0.002644083980362063), (2562, 0.0), (2563, 0.0075281637823284685), (2564, 0.0), (2565, 0.009656416748297364), (2566, 0.0), (2567, 0.005475956832695783), (2568, 0.011127055508012556), (2569, 0.0025039975383813395), (2570, 0.002984561570774713), (2571, 0.0024510918793794853), (2572, 0.008612634205067311), (2573, 0.0037821622259310564), (2574, 0.0), (2575, 0.0), (2576, 0.005220475305202086), (2577, 0.0), (2578, 0.0), (2579, 0.04816864459554241), (2580, 0.006385044780031433), (2581, 0.008835691424541091), (2582, 0.020094645774415373), (2583, 0.0), (2584, 0.0), (2585, 0.0028239371298665822), (2586, 0.0), (2587, 0.008073709118332615), (2588, 0.0), (2589, 0.0), (2590, 0.0), (2591, 0.0022759961602686193), (2592, 0.0028072087600682547), (2593, 0.002340400043443562), (2594, 0.0), (2595, 0.002751637388649263), (2596, 0.0), (2597, 0.0), (2598, 0.021279481787417745), (2599, 0.004987188835747639), (2600, 0.008921319707731933), (2601, 0.00949257608995971), (2602, 0.011801972664305826), (2603, 0.007640972585692147), (2604, 0.0), (2605, 0.0), (2606, 0.007199022199466542), (2607, 0.01862338141043206), (2608, 0.0), (2609, 0.0027055611367540885), (2610, 0.002680872923330148), (2611, 0.0021763729243614235), (2612, 0.0024489557294917965), (2613, 0.0029884271789779975), (2614, 0.029198451829886524), (2615, 0.0), (2616, 0.0), (2617, 0.012538614521246605), (2618, 0.01900243207477982), (2619, 0.0030551156720080787), (2620, 0.0), (2621, 0.031433292283094494), (2622, 0.03747271556073314), (2623, 0.002871721601539106), (2624, 0.0027758495254066825), (2625, 0.011040684982727686), (2626, 0.005057705187405454), (2627, 0.0), (2628, 0.003320790661906304), (2629, 0.0028792982310835886), (2630, 0.048984874281405244), (2631, 0.0), (2632, 0.013394692014031585), (2633, 0.009555622771409313), (2634, 0.002370291246227567), (2635, 0.008286813598432244), (2636, 0.0019044354247534322), (2637, 0.0), (2638, 0.023618288721605943), (2639, 0.015039175619136832), (2640, 0.00952150277367712), (2641, 0.0), (2642, 0.002444154979903761), (2643, 0.003280867004971939), (2644, 0.014594974854156815), (2645, 0.018303396857323746), (2646, 0.02135248228807775), (2647, 0.022778839298773272), (2648, 0.0), (2649, 0.023564082914690247), (2650, 0.018575287877240117), (2651, 0.0023987461831079335), (2652, 0.002564626813784429), (2653, 0.046964217410823184), (2654, 0.016859466097914978), (2655, 0.009475701278911711), (2656, 0.0), (2657, 0.0), (2658, 0.0), (2659, 0.0), (2660, 0.00428718385190048), (2661, 0.002723198863465484), (2662, 0.0), (2663, 0.0), (2664, 0.0027038699412838354), (2665, 0.00540577575092033), (2666, 0.0), (2667, 0.0), (2668, 0.021390628505623545), (2669, 0.0), (2670, 0.0), (2671, 0.0), (2672, 0.0), (2673, 0.0033738422172975833), (2674, 0.002324838501988096), (2675, 0.0), (2676, 0.0), (2677, 0.0), (2678, 0.004131637738624133), (2679, 0.0024004327867484803), (2680, 0.010712024089186535), (2681, 0.0), (2682, 0.004305164700303126), (2683, 0.005123491408098076), (2684, 0.0), (2685, 0.0), (2686, 0.0), (2687, 0.026018909657626252), (2688, 0.011265527134167569), (2689, 0.024517715475480206), (2690, 0.0), (2691, 0.006831101258545185), (2692, 1.0000000000000002), (2693, 0.0), (2694, 0.04365050056571247), (2695, 0.01423552025507414), (2696, 0.0029481538009263333), (2697, 0.011643978755252108), (2698, 0.008868188043115496), (2699, 0.02329338937624437), (2700, 0.005183547292063965), (2701, 0.0), (2702, 0.0028985744158802956), (2703, 0.0), (2704, 0.0), (2705, 0.002746742853782314), (2706, 0.029408908069207988), (2707, 0.0029772505050016567), (2708, 0.006691494739702764), (2709, 0.0), (2710, 0.02987919233563149), (2711, 0.004390528609083117), (2712, 0.016737479637954036), (2713, 0.02342615435544634), (2714, 0.007568180159531299), (2715, 0.0), (2716, 0.03602123655542101), (2717, 0.0), (2718, 0.023191325026327123), (2719, 0.0), (2720, 0.002973201766869646), (2721, 0.0022039694324709736), (2722, 0.0035586283027761786), (2723, 0.028357815225920235), (2724, 0.006354092660303779), (2725, 0.00271314574176188), (2726, 0.006779304874994202), (2727, 0.014052698157010754), (2728, 0.0023086942798758578), (2729, 0.0), (2730, 0.0), (2731, 0.00340514284677463), (2732, 0.006679942383222694), (2733, 0.00512572638858989), (2734, 0.0), (2735, 0.0023419918524975134), (2736, 0.01900080383501823), (2737, 0.0), (2738, 0.0029938675418817924), (2739, 0.010545810440657416), (2740, 0.010245569117388949), (2741, 0.00228405363782175), (2742, 0.016941099625005028), (2743, 0.00217467517757783), (2744, 0.009426311216030677), (2745, 0.04321761909752377), (2746, 0.002579131117706565), (2747, 0.002197349143774687), (2748, 0.0027577693875377356), (2749, 0.0), (2750, 0.0), (2751, 0.0318527794142965), (2752, 0.009190532785068607), (2753, 0.002231612098848259), (2754, 0.0), (2755, 0.002682404761416066), (2756, 0.0), (2757, 0.003881783413037973), (2758, 0.0021533468790771925), (2759, 0.010893348514974983), (2760, 0.018704125070143542), (2761, 0.025049066869800005), (2762, 0.02596492615637338), (2763, 0.0), (2764, 0.003614421124095596), (2765, 0.0024110129998482287), (2766, 0.00201264500296835), (2767, 0.019013808478300444), (2768, 0.020219587209554635), (2769, 0.010730947929042948), (2770, 0.0), (2771, 0.012062863711300543), (2772, 0.0030048324262653458), (2773, 0.0), (2774, 0.005243307761923613), (2775, 0.0034438391148148982), (2776, 0.002731520930853572), (2777, 0.021508056559974544), (2778, 0.008644338134629212), (2779, 0.0024215025361300764), (2780, 0.01210154147388889), (2781, 0.0), (2782, 0.02943853242736072), (2783, 0.0025531387815947845), (2784, 0.01453894503987075), (2785, 0.0), (2786, 0.0027151445687225383), (2787, 0.004387639112358658), (2788, 0.011897073796112687), (2789, 0.009292678914698529), (2790, 0.00485080709069151), (2791, 0.02769344380357608), (2792, 0.002682420777215974), (2793, 0.0), (2794, 0.0), (2795, 0.017963297820276093), (2796, 0.0029027417561925885), (2797, 0.0031043286006467706), (2798, 0.009242331279122627), (2799, 0.0), (2800, 0.0023942817695379523), (2801, 0.003958251209419109), (2802, 0.02689568016037816), (2803, 0.012481068536244061), (2804, 0.0), (2805, 0.013415100165055155), (2806, 0.0), (2807, 0.030089233120688005), (2808, 0.02014584443216503), (2809, 0.0053398060704116295), (2810, 0.0), (2811, 0.0), (2812, 0.008577206540756555), (2813, 0.0), (2814, 0.0), (2815, 0.014227905998651058), (2816, 0.006793407800475643), (2817, 0.0), (2818, 0.0), (2819, 0.004883838961976753), (2820, 0.009775193212275364), (2821, 0.002693011556486258), (2822, 0.021545209179329845), (2823, 0.017528368803303853), (2824, 0.0), (2825, 0.0069853741223374795), (2826, 0.002550125338833704), (2827, 0.0), (2828, 0.0), (2829, 0.0), (2830, 0.002823191101194051), (2831, 0.009110351005248606), (2832, 0.0033292163778013513), (2833, 0.00630330477759729), (2834, 0.003146960696434314), (2835, 0.0), (2836, 0.0), (2837, 0.0), (2838, 0.003242025586411955), (2839, 0.0), (2840, 0.007975700770592854), (2841, 0.019690807457939812), (2842, 0.0), (2843, 0.007290962702504882), (2844, 0.00751746430535343), (2845, 0.002334902154469411), (2846, 0.04034671521370084), (2847, 0.004551287024062676), (2848, 0.0030926975524480276), (2849, 0.010158410604134582), (2850, 0.0), (2851, 0.0), (2852, 0.0), (2853, 0.002523817251534716), (2854, 0.007939827335572488), (2855, 0.0), (2856, 0.0), (2857, 0.0031311665656706526), (2858, 0.0035955144498697857), (2859, 0.03891635966263398), (2860, 0.0), (2861, 0.0033626077732508124), (2862, 0.0023639397522633044), (2863, 0.0026154903727163697), (2864, 0.0), (2865, 0.0), (2866, 0.0), (2867, 0.019556740412120806), (2868, 0.03469706870498213), (2869, 0.040527915493325614), (2870, 0.003434971486186327), (2871, 0.01039170872997405), (2872, 0.002920201168524516), (2873, 0.007457003985811663), (2874, 0.012657328591652103), (2875, 0.0), (2876, 0.027736327200610734), (2877, 0.0), (2878, 0.002674048138740403), (2879, 0.008704759065204144), (2880, 0.0), (2881, 0.008098868247997573), (2882, 0.0027566379248489164), (2883, 0.0034327120780844786), (2884, 0.0029285040439907756), (2885, 0.01552422899650083), (2886, 0.00916790471674079), (2887, 0.029496455415403064), (2888, 0.002748029677008784), (2889, 0.0034919788207026406), (2890, 0.002799217276809293), (2891, 0.0), (2892, 0.002408074939200149), (2893, 0.043184681660686966), (2894, 0.002603352568522052), (2895, 0.003036436589103426), (2896, 0.0), (2897, 0.006755716920586252), (2898, 0.0), (2899, 0.006721646383489117), (2900, 0.002528632238991988), (2901, 0.0032561716718112663), (2902, 0.0018658462759865192), (2903, 0.10055526574880132), (2904, 0.002638209018481039), (2905, 0.0), (2906, 0.0), (2907, 0.0023527026702214173), (2908, 0.034708968938918686), (2909, 0.002473908557712475), (2910, 0.013917068898510222), (2911, 0.0026369783347910142), (2912, 0.026622610107018822), (2913, 0.011602770005487319), (2914, 0.0028660431187533517), (2915, 0.009897619323602653), (2916, 0.0028413937894003092), (2917, 0.01597556525355156), (2918, 0.011258011153934194), (2919, 0.014695168327369609), (2920, 0.026635740543669524), (2921, 0.0), (2922, 0.0), (2923, 0.003418182695568109), (2924, 0.0029412862990187633), (2925, 0.011420710294148772), (2926, 0.0026524939703034675), (2927, 0.0), (2928, 0.0), (2929, 0.009971153427657007), (2930, 0.0), (2931, 0.014631741859864211), (2932, 0.018806502100826086), (2933, 0.007729834245377657), (2934, 0.009678619783657357), (2935, 0.005829456386553241), (2936, 0.010304179501185763), (2937, 0.0036426039416414505), (2938, 0.0), (2939, 0.014544640084182906), (2940, 0.002710988899192846), (2941, 0.0), (2942, 0.007876027923174763), (2943, 0.00252764586179885), (2944, 0.05043339128710124), (2945, 0.0024826725253160784), (2946, 0.002496402664486173), (2947, 0.004729646641284114), (2948, 0.009208658253193116), (2949, 0.007640779158981592), (2950, 0.023725703541506302), (2951, 0.0), (2952, 0.0), (2953, 0.0026827343711233243), (2954, 0.0023161700049641686), (2955, 0.0), (2956, 0.0), (2957, 0.003103627430675118), (2958, 0.0), (2959, 0.004857782392036435), (2960, 0.004706488480954462), (2961, 0.0140005958639317), (2962, 0.006730298441182569), (2963, 0.012474222588663354), (2964, 0.009724184494161014), (2965, 0.002409536666966656), (2966, 0.0030837988884880488), (2967, 0.0), (2968, 0.0), (2969, 0.012993609415567129), (2970, 0.002704102184130514), (2971, 0.044152694943673736), (2972, 0.025925166178411476), (2973, 0.0), (2974, 0.002848086691420826), (2975, 0.007993584245708805), (2976, 0.0022721557261236544), (2977, 0.009319795905380002), (2978, 0.012708532735237492), (2979, 0.0), (2980, 0.008925441615324901), (2981, 0.03441052295305462), (2982, 0.0), (2983, 0.0), (2984, 0.004236246952475966), (2985, 0.05717181255304635), (2986, 0.003000645209538424), (2987, 0.0029283103845066704), (2988, 0.014145502647771969), (2989, 0.0035349558564713793), (2990, 0.0), (2991, 0.004673220526106927), (2992, 0.010421564621652113), (2993, 0.003041830720924062), (2994, 0.007118444015209564), (2995, 0.019953858559285588), (2996, 0.015653220376468824), (2997, 0.002397670011396849), (2998, 0.0038066964206415563), (2999, 0.0025222183658351474), (3000, 0.018297678033971154), (3001, 0.0), (3002, 0.0), (3003, 0.002818002624144479), (3004, 0.032472087613155044), (3005, 0.00466401135854948), (3006, 0.0), (3007, 0.0027094872651465124), (3008, 0.0073397458077296375), (3009, 0.0), (3010, 0.04757083242658175), (3011, 0.004454800183359448), (3012, 0.015943840947789865), (3013, 0.0028618109881197525), (3014, 0.0023948279096132016), (3015, 0.003214682215831236), (3016, 0.002604115264866454), (3017, 0.025901212664662915), (3018, 0.007386427540630165), (3019, 0.01655819136332383), (3020, 0.0030797137071707325), (3021, 0.0), (3022, 0.0053679796207178184), (3023, 0.0444678775038461), (3024, 0.0020984037986955116), (3025, 0.0), (3026, 0.0028030185670327857), (3027, 0.0022818677297344117), (3028, 0.026576674111781568), (3029, 0.0), (3030, 0.003436321263359603), (3031, 0.0030988771408304925), (3032, 0.008004328693054945), (3033, 0.00656143748150691), (3034, 0.0), (3035, 0.006807431678905792), (3036, 0.016991304688048502), (3037, 0.00267760215321646), (3038, 0.0), (3039, 0.007427536008294643), (3040, 0.0035400418325508922), (3041, 0.0), (3042, 0.0034369604876670974), (3043, 0.01609924997173131), (3044, 0.0027651044499033186), (3045, 0.03498962739208203), (3046, 0.008917635613385898), (3047, 0.0), (3048, 0.0), (3049, 0.005729618588111411), (3050, 0.0023241462043678825), (3051, 0.00361747632391704), (3052, 0.0034652712289531848), (3053, 0.07324196408860627), (3054, 0.0), (3055, 0.003451894890640579), (3056, 0.0021014618244941437), (3057, 0.0023798143619469785), (3058, 0.0), (3059, 0.0), (3060, 0.0), (3061, 0.0), (3062, 0.002812372324821853), (3063, 0.0), (3064, 0.002760217451031235), (3065, 0.011642121126649559), (3066, 0.006414762637107579), (3067, 0.008992111118019185), (3068, 0.02124646570138879), (3069, 0.002474230894392132), (3070, 0.010437542540002304), (3071, 0.00237601599549392), (3072, 0.002948473954987451), (3073, 0.0), (3074, 0.0031056679346515717), (3075, 0.002463781158329122), (3076, 0.012570396288145241), (3077, 0.0), (3078, 0.0), (3079, 0.004252652984856597), (3080, 0.0), (3081, 0.002985214844754427), (3082, 0.0), (3083, 0.020297585675397103), (3084, 0.0026905155922350237), (3085, 0.01743706174574969), (3086, 0.015361254253310842), (3087, 0.0), (3088, 0.0), (3089, 0.0), (3090, 0.0), (3091, 0.045008830465249935), (3092, 0.0), (3093, 0.0024965381936425893), (3094, 0.010651578599834304), (3095, 0.022318249289302736), (3096, 0.007911361948988737), (3097, 0.018395996101277304), (3098, 0.016819366246638677), (3099, 0.010394478110387998), (3100, 0.004310013838535995), (3101, 0.002802851524904621), (3102, 0.03450372438934699), (3103, 0.0), (3104, 0.0), (3105, 0.0), (3106, 0.0), (3107, 0.0), (3108, 0.012308208063925505), (3109, 0.0), (3110, 0.013141422149692168), (3111, 0.018842271761240443), (3112, 0.007688595532251619), (3113, 0.002587465618228187), (3114, 0.00606498079386409), (3115, 0.0), (3116, 0.002786539961295472), (3117, 0.005288227731095847), (3118, 0.010844068671167915), (3119, 0.013172316968556308), (3120, 0.008894725828620841), (3121, 0.0), (3122, 0.006819626325097828), (3123, 0.008722545226178173), (3124, 0.004790039825221754), (3125, 0.007186588679065197), (3126, 0.004418982142934435), (3127, 0.03655574403735), (3128, 0.003197556467756254), (3129, 0.01714442576883257), (3130, 0.0), (3131, 0.004937012546168667), (3132, 0.0), (3133, 0.004336950850863178), (3134, 0.004815628040906632), (3135, 0.004318220849563468), (3136, 0.004303556030469461), (3137, 0.03278736011951977), (3138, 0.0), (3139, 0.0035912325443885834), (3140, 0.0031924212400380792), (3141, 0.0), (3142, 0.009777308674117326), (3143, 0.004285766241948728), (3144, 0.01867432527931361), (3145, 0.0), (3146, 0.029581748259920684), (3147, 0.0023617537813022524), (3148, 0.0028722409890823333), (3149, 0.006822308911966008), (3150, 0.002653697806146215), (3151, 0.008669974746671173), (3152, 0.0071027895851825985), (3153, 0.02316239632785142), (3154, 0.02606670864309901), (3155, 0.00967248182007614), (3156, 0.02547317124216652), (3157, 0.03074070318222882), (3158, 0.005171786751314767), (3159, 0.003139654284933792), (3160, 0.004053078571106192), (3161, 0.004551462047176448), (3162, 0.0), (3163, 0.00502224911327732), (3164, 0.005559628748679904), (3165, 0.002913629933257914), (3166, 0.0035180428513534373), (3167, 0.026070198503299336), (3168, 0.005195674633993829), (3169, 0.0), (3170, 0.002413309137842201), (3171, 0.00914013531143543), (3172, 0.0), (3173, 0.0024983881046195845), (3174, 0.02742750536251068), (3175, 0.0), (3176, 0.0), (3177, 0.0), (3178, 0.004007261481661032), (3179, 0.0047377936162793345), (3180, 0.005133105575999054), (3181, 0.0), (3182, 0.0025840308040832476), (3183, 0.0027779954738236926), (3184, 0.0027242434011841054), (3185, 0.006999465790252705), (3186, 0.0028760320853788227), (3187, 0.00266948082772908), (3188, 0.0), (3189, 0.0), (3190, 0.0), (3191, 0.00475065479542049), (3192, 0.0078114513115353865), (3193, 0.0), (3194, 0.0023945194632242683), (3195, 0.0070354244604883525), (3196, 0.008019577245660025), (3197, 0.0), (3198, 0.002614214541108241), (3199, 0.001964295195754685), (3200, 0.002155274814662151), (3201, 0.0), (3202, 0.0), (3203, 0.04982546919749389), (3204, 0.0), (3205, 0.004883185563060337), (3206, 0.003069225620248232), (3207, 0.0), (3208, 0.0), (3209, 0.04043518838287551), (3210, 0.01434720668120536), (3211, 0.0021961053501467014), (3212, 0.0), (3213, 0.016721888740917297), (3214, 0.002421311038221518), (3215, 0.00934950394904934), (3216, 0.0025243551530955855), (3217, 0.0), (3218, 0.009702356456839313), (3219, 0.003314956099492906), (3220, 0.0024794105578830453), (3221, 0.0), (3222, 0.020911184984501514), (3223, 0.0), (3224, 0.0026411278800326098), (3225, 0.0025995873524024085), (3226, 0.016740092943739956), (3227, 0.00721006808168677), (3228, 0.01664434658132053), (3229, 0.0), (3230, 0.002925180822199736), (3231, 0.0), (3232, 0.010218542216494948), (3233, 0.007356031839988), (3234, 0.0027725923150484057), (3235, 0.0027043031068555512), (3236, 0.0), (3237, 0.008990717891901777), (3238, 0.0021828963013949217), (3239, 0.0031968063010481313), (3240, 0.01124354795543682), (3241, 0.002646504131270002), (3242, 0.002663228111287048), (3243, 0.0023759539749746866), (3244, 0.006012974412244662), (3245, 0.007145989735896199), (3246, 0.008726497275995037), (3247, 0.0041724248123209745), (3248, 0.06680084322472551), (3249, 0.04100368821252991), (3250, 0.0), (3251, 0.0), (3252, 0.0021136693207462415), (3253, 0.014932804705262514), (3254, 0.01992145935293708), (3255, 0.033847458400470376), (3256, 0.0076527764269407675), (3257, 0.00305653066726399), (3258, 0.002758001996271549), (3259, 0.007459101712155945), (3260, 0.0259316825788023), (3261, 0.0), (3262, 0.003263737628289622), (3263, 0.005026501616950384), (3264, 0.009607513562179421), (3265, 0.006765686351799119), (3266, 0.0), (3267, 0.008715313265991498), (3268, 0.0024211706395962664), (3269, 0.0027434347172961048), (3270, 0.0), (3271, 0.002741137774303041), (3272, 0.0), (3273, 0.002824318666566569), (3274, 0.0028583223988395265), (3275, 0.016598575513897304), (3276, 0.11901912949844339), (3277, 0.0), (3278, 0.002306751620420068), (3279, 0.017099173631765628), (3280, 0.036289820976512885), (3281, 0.0), (3282, 0.003288988897392127), (3283, 0.002583550517517805), (3284, 0.01857327474122048), (3285, 0.024972334163053698), (3286, 0.0), (3287, 0.0), (3288, 0.006423405122592901), (3289, 0.002599873267882632), (3290, 0.002608564054627594), (3291, 0.003408272713082332), (3292, 0.003310144977857053), (3293, 0.009092388104031672), (3294, 0.04624159334475741), (3295, 0.013959150129771055), (3296, 0.0028845147818241774), (3297, 0.010211230936847816), (3298, 0.002450563166143708), (3299, 0.015569344114479574), (3300, 0.0023839576953957014), (3301, 0.0019863632945185893), (3302, 0.0030907710431566362), (3303, 0.007268741989545284), (3304, 0.0022968738514186774), (3305, 0.0), (3306, 0.015293901670056217), (3307, 0.0029467384755531385), (3308, 0.0030034738059568893), (3309, 0.006265036951881207), (3310, 0.0), (3311, 0.002294723559090403), (3312, 0.013572278048440495), (3313, 0.028783347046543676), (3314, 0.0026896562368749675), (3315, 0.033680773570332445), (3316, 0.007001563961472865), (3317, 0.01163178546022089), (3318, 0.012817995120766354), (3319, 0.020416093975065972), (3320, 0.0), (3321, 0.0), (3322, 0.0032649238489678317), (3323, 0.0), (3324, 0.0), (3325, 0.01277439168577), (3326, 0.029130300043921895), (3327, 0.002274639726283268), (3328, 0.03024908086270437), (3329, 0.008316484220613677), (3330, 0.033609516943857), (3331, 0.005958515010033624), (3332, 0.0), (3333, 0.0), (3334, 0.055820881371025304), (3335, 0.0025610890331330266), (3336, 0.002281978623523976), (3337, 0.0029271900140469226), (3338, 0.004293115678455459), (3339, 0.003970879441299586), (3340, 0.0), (3341, 0.002543668985959193), (3342, 0.006638909277163166), (3343, 0.0), (3344, 0.02736236039479701), (3345, 0.021613277595736283), (3346, 0.009078911541517512), (3347, 0.0021290519766525083), (3348, 0.002454987531094543), (3349, 0.007419009777624061), (3350, 0.0), (3351, 0.034196186030863496), (3352, 0.020240491999611334), (3353, 0.002637457886765007), (3354, 0.003189434107783659), (3355, 0.0029185962340368267), (3356, 0.01396481152678302), (3357, 0.0031535974650587118), (3358, 0.003079991641173294), (3359, 0.0029522434481411776), (3360, 0.051522974236288904), (3361, 0.004367768306667946), (3362, 0.03653668550497079), (3363, 0.003163633281026694), (3364, 0.002928343511227427), (3365, 0.0017885788684720203), (3366, 0.0), (3367, 0.00462193723432552), (3368, 0.0), (3369, 0.002339465166018327), (3370, 0.013803284075728669), (3371, 0.0), (3372, 0.002664239376637142), (3373, 0.038915621645957035), (3374, 0.04658646640420444), (3375, 0.014866968070185707), (3376, 0.031077154226981422), (3377, 0.03162778903695075), (3378, 0.0), (3379, 0.002486312299519589), (3380, 0.0022518403168983406), (3381, 0.0025062870083036276), (3382, 0.01002350244092565), (3383, 0.0), (3384, 0.021399492080171396), (3385, 0.0589903061399541), (3386, 0.00922282217876644), (3387, 0.012346297527326033), (3388, 0.0026693561982251168), (3389, 0.008370031337236872), (3390, 0.0024170322271648836), (3391, 0.005655985968858646), (3392, 0.0016851111558466695), (3393, 0.002179891373763277), (3394, 0.0), (3395, 0.04815231057420612), (3396, 0.0029256309353680164), (3397, 0.0), (3398, 0.004757520371590471), (3399, 0.00850284253483693), (3400, 0.0), (3401, 0.0), (3402, 0.0024707363554725224), (3403, 0.018657119110921667), (3404, 0.004694585860069698), (3405, 0.003921936609161376), (3406, 0.0026773810143771067), (3407, 0.015178522183231381), (3408, 0.044032312362716146), (3409, 0.038090132488455164), (3410, 0.0073252763207246625), (3411, 0.0), (3412, 0.0024728043734466285), (3413, 0.003047291751971641), (3414, 0.0028397111888560536), (3415, 0.0), (3416, 0.018233927215523065), (3417, 0.0027939710655222987), (3418, 0.008719782532628992), (3419, 0.002927656400628453), (3420, 0.029300276639973522), (3421, 0.014564847136176961), (3422, 0.0), (3423, 0.010414436417874977), (3424, 0.0), (3425, 0.002938285588785171), (3426, 0.010398790965498134), (3427, 0.041518749475062136), (3428, 0.024685237080524974), (3429, 0.003137283431542703), (3430, 0.03305652648106496), (3431, 0.0020370342176442425), (3432, 0.0045793679849906775), (3433, 0.021178664721615923), (3434, 0.0026986562206758134), (3435, 0.00708149059921559), (3436, 0.007197660338019816), (3437, 0.014888943708282634), (3438, 0.004924348118460936), (3439, 0.0), (3440, 0.005359996912727463), (3441, 0.0025160655825822746), (3442, 0.0), (3443, 0.004550538838479348), (3444, 0.0), (3445, 0.002597595974245687), (3446, 0.02375471777607132), (3447, 0.02698083391749374), (3448, 0.0055965798416332275), (3449, 0.0027411456545570626), (3450, 0.06273205109218505), (3451, 0.004944925892446923), (3452, 0.00666876449384652), (3453, 0.007778090887043665), (3454, 0.0), (3455, 0.0023291581533964093), (3456, 0.007634532965367959), (3457, 0.00699979909758076), (3458, 0.006235684571501694), (3459, 0.0), (3460, 0.006575293328783014), (3461, 0.0), (3462, 0.05742701359004697), (3463, 0.06063331305178028), (3464, 0.007491796623668207), (3465, 0.07410422312722599), (3466, 0.03210137309950366), (3467, 0.0), (3468, 0.004972442070408584), (3469, 0.020737242592121917), (3470, 0.034989096764222474), (3471, 0.02039507097845504), (3472, 0.0), (3473, 0.0), (3474, 0.006497699914732971), (3475, 0.0), (3476, 0.0), (3477, 0.00251518816808925), (3478, 0.0025367934985776495), (3479, 0.0033868603342598713), (3480, 0.06560006992810163), (3481, 0.0), (3482, 0.0), (3483, 0.022010850068422225), (3484, 0.0038373745690224977), (3485, 0.0), (3486, 0.03732721531160159), (3487, 0.006874696961867999), (3488, 0.027574011857545603), (3489, 0.0), (3490, 0.0), (3491, 0.0025467966867539723), (3492, 0.021023688013874407), (3493, 0.0026553858531405965), (3494, 0.0), (3495, 0.0041019728090436105), (3496, 0.002722687346091156), (3497, 0.002771963390828062), (3498, 0.036146960884335604), (3499, 0.007025405800544258), (3500, 0.002353536478703738), (3501, 0.007268424901814764), (3502, 0.0055825265073112095), (3503, 0.0024325503227259453), (3504, 0.019912130081061713), (3505, 0.0), (3506, 0.002925917277564067), (3507, 0.01211458602906579), (3508, 0.01988151745367861), (3509, 0.005696135134915508), (3510, 0.0), (3511, 0.037101140915633796), (3512, 0.003889858050436961), (3513, 0.004833529224958838), (3514, 0.007465913884804613), (3515, 0.0071376416873367), (3516, 0.007777237387418715), (3517, 0.0026254133659847786), (3518, 0.04317243106254011), (3519, 0.0), (3520, 0.004671034382469687), (3521, 0.008809053181739798), (3522, 0.0), (3523, 0.0036367460772101768), (3524, 0.010709878882012748), (3525, 0.0), (3526, 0.0025960223871890693), (3527, 0.00262214261725643), (3528, 0.01705262413839676), (3529, 0.0), (3530, 0.0), (3531, 0.006859292296609688), (3532, 0.0), (3533, 0.0), (3534, 0.004189488934407768), (3535, 0.013839229335930257), (3536, 0.00944234102786497), (3537, 0.003139834969086648), (3538, 0.0020227465865242556), (3539, 0.0), (3540, 0.0029584420849277536), (3541, 0.015761056783308032), (3542, 0.0025953438969216003), (3543, 0.0), (3544, 0.003087411631393899), (3545, 0.0), (3546, 0.0018924428691338472), (3547, 0.0), (3548, 0.002085384664611821), (3549, 0.0), (3550, 0.0), (3551, 0.0025604350970936406), (3552, 0.04301537340050686), (3553, 0.020600966235701273), (3554, 0.0), (3555, 0.0044708681326777145), (3556, 0.03382023787511519), (3557, 0.0024875809518446657), (3558, 0.014464042825196095), (3559, 0.042104210233125126), (3560, 0.0028474857038248364), (3561, 0.003438979683468611), (3562, 0.0), (3563, 0.0023117686319377843), (3564, 0.002546656206774722), (3565, 0.002510565793016409), (3566, 0.0061626639372945905), (3567, 0.0), (3568, 0.0), (3569, 0.002174791717455717), (3570, 0.007028506934031496), (3571, 0.007310793764290811), (3572, 0.02942285003892325), (3573, 0.025536768420493034), (3574, 0.027296089101083866), (3575, 0.0020487676061100852), (3576, 0.004686408721699831), (3577, 0.0031351403033116577), (3578, 0.0), (3579, 0.007769826110486738), (3580, 0.015028807778561712), (3581, 0.0), (3582, 0.01125863718172199), (3583, 0.0044784535134185), (3584, 0.004955131362968972), (3585, 0.0), (3586, 0.007610440385975453), (3587, 0.0028563335493269172), (3588, 0.005669433442512668), (3589, 0.0), (3590, 0.0026946965222654634), (3591, 0.0), (3592, 0.0), (3593, 0.0028311064480580302), (3594, 0.006539871717148309), (3595, 0.0), (3596, 0.009008438324494349), (3597, 0.03017553013171715), (3598, 0.00581161292706977), (3599, 0.009503096807292024), (3600, 0.0), (3601, 0.0027048502635766605), (3602, 0.0045372997700755075), (3603, 0.0), (3604, 0.005067462692122109), (3605, 0.027270668691384156), (3606, 0.0025864756118016575), (3607, 0.0), (3608, 0.0016522643526606928), (3609, 0.0), (3610, 0.0), (3611, 0.0028821592392893835), (3612, 0.009611771068085492), (3613, 0.0031289686515370238), (3614, 0.0022943718708791846), (3615, 0.0023886952011948565), (3616, 0.003154519588501942), (3617, 0.0), (3618, 0.007579852403336081), (3619, 0.004048093879137459), (3620, 0.0030890552569014873), (3621, 0.002985155964003424), (3622, 0.0), (3623, 0.007377267052212131), (3624, 0.00708484070354971), (3625, 0.0), (3626, 0.0019453414536031257), (3627, 0.00234718763523622), (3628, 0.0), (3629, 0.02093154879027586), (3630, 0.013235907403489965), (3631, 0.0), (3632, 0.006706378149541579), (3633, 0.0), (3634, 0.007694956487392467), (3635, 0.009667456273054953), (3636, 0.002614181072374851), (3637, 0.012431393153265205), (3638, 0.008915355895922156), (3639, 0.002903333323401081), (3640, 0.01586231762007361), (3641, 0.0024492411998456205), (3642, 0.015423311291240202), (3643, 0.009247635096052819), (3644, 0.0), (3645, 0.007242866778907124), (3646, 0.0023985265541848376), (3647, 0.0024944579194656944), (3648, 0.006792738343522405), (3649, 0.0), (3650, 0.0), (3651, 0.0029016612322593253), (3652, 0.03704129472174392), (3653, 0.0072900332112130675), (3654, 0.0026680145232789816), (3655, 0.05036584874091164), (3656, 0.032882695588663205), (3657, 0.0021402907895078016), (3658, 0.00594213792758209), (3659, 0.01273605256478705), (3660, 0.013716431064045125), (3661, 0.015642687584499142), (3662, 0.0), (3663, 0.0), (3664, 0.00443484092030298), (3665, 0.02100099484153887), (3666, 0.007399603264529745), (3667, 0.00889851812926829), (3668, 0.002146839160645121), (3669, 0.00214984713956268), (3670, 0.014344884622505358), (3671, 0.0), (3672, 0.0036048036275453292), (3673, 0.0025258027481498474), (3674, 0.009864795577288036), (3675, 0.016954904663574206), (3676, 0.0), (3677, 0.0027839332276833697), (3678, 0.0026913923192659313), (3679, 0.00969754357747347), (3680, 0.008083180090780611), (3681, 0.0), (3682, 0.0), (3683, 0.0), (3684, 0.02621019750643029), (3685, 0.0), (3686, 0.0), (3687, 0.003168501372964184), (3688, 0.0264943062016269), (3689, 0.009415046395123248), (3690, 0.0), (3691, 0.002413344519022063), (3692, 0.02421822713753031), (3693, 0.0), (3694, 0.015394531592471651), (3695, 0.0), (3696, 0.006896117023782614), (3697, 0.0), (3698, 0.0), (3699, 0.014527327140461222), (3700, 0.0), (3701, 0.028191806545013347), (3702, 0.0), (3703, 0.0), (3704, 0.007727960157899424), (3705, 0.006468944026979516), (3706, 0.002475780187315917), (3707, 0.0025818845993258333), (3708, 0.013490994673637555), (3709, 0.0), (3710, 0.004904873871881211), (3711, 0.024894526096207514), (3712, 0.0), (3713, 0.015217857403436329), (3714, 0.0027724593115820177), (3715, 0.005953837337249255), (3716, 0.0), (3717, 0.0), (3718, 0.0), (3719, 0.0024760004960444294), (3720, 0.030096630325160828), (3721, 0.006121556713310682), (3722, 0.0), (3723, 0.004354600220009082), (3724, 0.0), (3725, 0.002362068026572103), (3726, 0.0), (3727, 0.007088772378286678), (3728, 0.056269339255570136), (3729, 0.002939715706923941), (3730, 0.0), (3731, 0.034292663762275945), (3732, 0.0), (3733, 0.008667975438856765), (3734, 0.006744313632264615), (3735, 0.0), (3736, 0.0), (3737, 0.002830230065798454), (3738, 0.0), (3739, 0.002563869372977274), (3740, 0.0), (3741, 0.013573001759929227), (3742, 0.002317159972513963), (3743, 0.0), (3744, 0.005614614069994444), (3745, 0.0029843264224973316), (3746, 0.024576471455192674), (3747, 0.011808779344687013), (3748, 0.005680720145351435), (3749, 0.0027658530890080713), (3750, 0.012520680706866872), (3751, 0.027133824566757482), (3752, 0.00557762174191232), (3753, 0.04423209400827981), (3754, 0.0029415751334756555), (3755, 0.002241926892041755), (3756, 0.011634959368738125), (3757, 0.0027365739831970853), (3758, 0.0), (3759, 0.0), (3760, 0.0), (3761, 0.0), (3762, 0.0033032469282573904), (3763, 0.002989933012863385), (3764, 0.0), (3765, 0.002464316817118226), (3766, 0.01696228768018692), (3767, 0.028392037582047357), (3768, 0.012558125851960731), (3769, 0.004823473069640812), (3770, 0.0026525861575274275), (3771, 0.007740921573436002), (3772, 0.00288701404719488), (3773, 0.023387470722988038), (3774, 0.0049409951922840395), (3775, 0.010843803454985187), (3776, 0.003951802329823379), (3777, 0.015028944420940252), (3778, 0.021868250490936547), (3779, 0.10180475081021532), (3780, 0.007629933135195803), (3781, 0.0027174408509506747), (3782, 0.004942289872385327), (3783, 0.0), (3784, 0.008663669369434898), (3785, 0.0), (3786, 0.0), (3787, 0.005051844459159095), (3788, 0.004312465062431271), (3789, 0.0), (3790, 0.0), (3791, 0.0), (3792, 0.0025798255296946055), (3793, 0.04428654144322013), (3794, 0.011069432564612763), (3795, 0.0022688233469577287), (3796, 0.0), (3797, 0.015172467758995726), (3798, 0.0), (3799, 0.0024045112561034156), (3800, 0.0), (3801, 0.024502575836171), (3802, 0.005052053375311197), (3803, 0.0), (3804, 0.002829905134535626), (3805, 0.0), (3806, 0.0038927395984268242), (3807, 0.014149619870340741), (3808, 0.0), (3809, 0.002599039383124156), (3810, 0.023554739752643303), (3811, 0.0023910774471996676), (3812, 0.0), (3813, 0.002767891995996982), (3814, 0.029096382456616738), (3815, 0.0047039942482993554), (3816, 0.0), (3817, 0.0), (3818, 0.0), (3819, 0.013429866136339626), (3820, 0.0), (3821, 0.007633933187767649), (3822, 0.010215579895926096), (3823, 0.004338686225894137), (3824, 0.004403324848557071), (3825, 0.005927671217231039), (3826, 0.008748908321423512), (3827, 0.0024871724439266304), (3828, 0.01798855067279534), (3829, 0.008458837456509515), (3830, 0.0), (3831, 0.0), (3832, 0.0030969107359465585), (3833, 0.004685726142851507), (3834, 0.0), (3835, 0.0238028031740527), (3836, 0.0), (3837, 0.0), (3838, 0.0), (3839, 0.022543157271726295), (3840, 0.0), (3841, 0.0064117090094482935), (3842, 0.006437571042867493), (3843, 0.0), (3844, 0.005781985269657228), (3845, 0.0026457440131512767), (3846, 0.0), (3847, 0.0), (3848, 0.0032177738974575646), (3849, 0.012136737555851054), (3850, 0.030486122022653613), (3851, 0.0), (3852, 0.027154116629200444), (3853, 0.018840697122450525), (3854, 0.06156522840551192), (3855, 0.0021525503190357926), (3856, 0.0), (3857, 0.01985745505214169), (3858, 0.0), (3859, 0.0), (3860, 0.01059163678136538), (3861, 0.013576274962148832), (3862, 0.014838543328921202), (3863, 0.002279610061231675), (3864, 0.006196292086192719), (3865, 0.005853995540923438), (3866, 0.0029243282476095317), (3867, 0.04005104315016321), (3868, 0.023319789920052084), (3869, 0.0), (3870, 0.0), (3871, 0.02772888961261221), (3872, 0.02405614720330344), (3873, 0.002712817367931959), (3874, 0.0031007550650905004), (3875, 0.01807247885669195), (3876, 0.006563963640057143), (3877, 0.00282441833918003), (3878, 0.0033340984068686193), (3879, 0.0), (3880, 0.02972285456449883), (3881, 0.00440019195175711), (3882, 0.0026696021959811554), (3883, 0.01620504223322824), (3884, 0.0029514840769090584), (3885, 0.0), (3886, 0.0044314392238196205), (3887, 0.0), (3888, 0.00950742688977205), (3889, 0.00275132797449327), (3890, 0.0024534416450440926), (3891, 0.02263811460682735), (3892, 0.0032977616939394425), (3893, 0.0027403569505840314), (3894, 0.00222487060143365), (3895, 0.015649917721864366), (3896, 0.0), (3897, 0.004888136391154098), (3898, 0.0024072327037058883), (3899, 0.007699444066923885), (3900, 0.0024390387916119363), (3901, 0.008623033223781596), (3902, 0.0026392486278072514), (3903, 0.010426350268026862), (3904, 0.02606064224824573), (3905, 0.007480858014239902), (3906, 0.0024946603834587002), (3907, 0.0047873977458993385), (3908, 0.004674286807960299), (3909, 0.006125811289157019), (3910, 0.006274339153572962), (3911, 0.0030308153813618714), (3912, 0.0), (3913, 0.02249992486648454), (3914, 0.0), (3915, 0.002755168970006699), (3916, 0.021257726228217807), (3917, 0.002440133375429412), (3918, 0.0), (3919, 0.009515948658949813), (3920, 0.0026273102429688814), (3921, 0.0), (3922, 0.003131600370719592), (3923, 0.020064089087095376), (3924, 0.010559587225078439), (3925, 0.003776375745618464), (3926, 0.006575565610042868), (3927, 0.020344705085425265), (3928, 0.002118903759972143), (3929, 0.0), (3930, 0.0), (3931, 0.0), (3932, 0.004679244099162002), (3933, 0.0), (3934, 0.019661715690849402), (3935, 0.002989221150606903), (3936, 0.0), (3937, 0.0), (3938, 0.005003205705527151), (3939, 0.0033787130144427853), (3940, 0.005400271174304958), (3941, 0.009005481879560953), (3942, 0.00562529483592975), (3943, 0.0), (3944, 0.003719205414446996), (3945, 0.007386765434605505), (3946, 0.06576261056963903), (3947, 0.038727308313951235), (3948, 0.0), (3949, 0.009721184693184469), (3950, 0.0), (3951, 0.01062135513215245), (3952, 0.0029080876623445865), (3953, 0.0023079190922033793), (3954, 0.008590883803870023), (3955, 0.03949211572555833), (3956, 0.008565412007204112), (3957, 0.011305681903422269), (3958, 0.013155639976771938), (3959, 0.026837415347310933), (3960, 0.008106655908776527), (3961, 0.03262799680008671), (3962, 0.0028487403608232313), (3963, 0.02477333922403893), (3964, 0.0), (3965, 0.0), (3966, 0.004303565588698362), (3967, 0.0028020299750558114), (3968, 0.0), (3969, 0.0), (3970, 0.004413431013321283), (3971, 0.0), (3972, 0.0), (3973, 0.04190119133956612), (3974, 0.045634322366965685), (3975, 0.006013661032582721), (3976, 0.016631260774075333), (3977, 0.0), (3978, 0.020312711158134152), (3979, 0.0), (3980, 0.0), (3981, 0.0), (3982, 0.0), (3983, 0.03344625196352078), (3984, 0.01009665980010263), (3985, 0.0), (3986, 0.002282567434993338), (3987, 0.00270197647856884), (3988, 0.0), (3989, 0.0037175279424554947), (3990, 0.0035012873812721645), (3991, 0.0), (3992, 0.01086225530666786), (3993, 0.010798299082143609), (3994, 0.0), (3995, 0.004782918694170827), (3996, 0.0), (3997, 0.004912372550028778), (3998, 0.006324768501592969), (3999, 0.011831678053488774), (4000, 0.014095377502066063), (4001, 0.006577069524548823), (4002, 0.0029459264154079196), (4003, 0.0), (4004, 0.02998091868478317), (4005, 0.03603506357911924), (4006, 0.0), (4007, 0.019388776709490255), (4008, 0.00681382723691286), (4009, 0.006065871212865581), (4010, 0.0), (4011, 0.002382544378746649), (4012, 0.017473959261109256), (4013, 0.007776373915234981), (4014, 0.0025666411650901427), (4015, 0.002083718128040616), (4016, 0.02099003090410607), (4017, 0.003442629449346551), (4018, 0.0), (4019, 0.0032757173473315616), (4020, 0.0024887578311778577), (4021, 0.0), (4022, 0.0), (4023, 0.0416283150808003), (4024, 0.0027394345464370746), (4025, 0.009443207423906514), (4026, 0.0), (4027, 0.0), (4028, 0.018645206796014932), (4029, 0.0), (4030, 0.0029691526576370113), (4031, 0.0), (4032, 0.010619794364778527), (4033, 0.010136728692679967), (4034, 0.0), (4035, 0.028802002673561138), (4036, 0.0024787604360847993), (4037, 0.0), (4038, 0.007642837009285629), (4039, 0.004497886733621626), (4040, 0.0), (4041, 0.0), (4042, 0.0028017524019936205), (4043, 0.00514269674545968), (4044, 0.004186638300046611), (4045, 0.007470877357528646), (4046, 0.0078398375845231), (4047, 0.005831618019992751), (4048, 0.010519503381342958), (4049, 0.002574519803504972), (4050, 0.0220423835475749), (4051, 0.0028301107205515245), (4052, 0.00962013380485473), (4053, 0.022630658900867327), (4054, 0.002690246066183302), (4055, 0.005921166659110751), (4056, 0.0025231836626151377), (4057, 0.005835305633453929), (4058, 0.0), (4059, 0.0023723034870052973), (4060, 0.009546164292789894), (4061, 0.007168234624932582), (4062, 0.05894694561676087), (4063, 0.0), (4064, 0.03628526861851709), (4065, 0.0), (4066, 0.0022277984088191413), (4067, 0.0), (4068, 0.01444979617613194), (4069, 0.002449888368661924), (4070, 0.0), (4071, 0.004365872455354256), (4072, 0.0), (4073, 0.0), (4074, 0.0022829004199866683), (4075, 0.00295995654098772), (4076, 0.004969860141750222), (4077, 0.0072342836284113), (4078, 0.0), (4079, 0.0026297044539074273), (4080, 0.0022739090570189757), (4081, 0.017958421601531178), (4082, 0.0035779806767918727), (4083, 0.002648583388077936), (4084, 0.0), (4085, 0.00241331152702222), (4086, 0.0), (4087, 0.0027573599315564557), (4088, 0.01922252279521815), (4089, 0.007446730876024524), (4090, 0.004972072224789034), (4091, 0.005070010109269584), (4092, 0.008090584206913078), (4093, 0.007229476941882239), (4094, 0.007573001906634706), (4095, 0.01206832292057703), (4096, 0.03175643806928725), (4097, 0.0), (4098, 0.007330360984416457), (4099, 0.006562751878749881), (4100, 0.0), (4101, 0.0027690568399058703), (4102, 0.003221086701517574), (4103, 0.004639784728170557), (4104, 0.0446353549503881), (4105, 0.007939117815869003), (4106, 0.010002490053007742), (4107, 0.003132121523215943), (4108, 0.0), (4109, 0.0), (4110, 0.005826872605012063), (4111, 0.002715409376697548), (4112, 0.0), (4113, 0.002811660019219652), (4114, 0.0), (4115, 0.0), (4116, 0.07264489715421632), (4117, 0.00289241082153843), (4118, 0.007626862555681054), (4119, 0.005128805193412154), (4120, 0.005142913624300544), (4121, 0.013293036125708077), (4122, 0.008783377700348259), (4123, 0.05254859907218348), (4124, 0.013457705677567596), (4125, 0.0), (4126, 0.0029519034795314663), (4127, 0.0), (4128, 0.021705136081639487), (4129, 0.002455374424312247), (4130, 0.0027725463404891936), (4131, 0.0), (4132, 0.0027301631942084495), (4133, 0.0077966969412009215), (4134, 0.015342244719169583), (4135, 0.0025725452941292963), (4136, 0.0026404856229363355), (4137, 0.06046846427201173), (4138, 0.0028120709166871457), (4139, 0.002449732022549064), (4140, 0.002771751489034272), (4141, 0.026578387530122354), (4142, 0.0032429655887587752), (4143, 0.0022802275103952405), (4144, 0.0), (4145, 0.0029800401945281572), (4146, 0.0), (4147, 0.0030887012489569004), (4148, 0.01164235123394055), (4149, 0.018701893248645324), (4150, 0.0), (4151, 0.004358573334327107), (4152, 0.033633570575472164), (4153, 0.0), (4154, 0.006461942174945884), (4155, 0.0024228712468591478), (4156, 0.019490090482292676), (4157, 0.0), (4158, 0.009593057579218522), (4159, 0.0), (4160, 0.027313620252091084), (4161, 0.002729201731979272), (4162, 0.005310633530131382), (4163, 0.008290795777905906), (4164, 0.010672542383168698), (4165, 0.03528292897593084), (4166, 0.0), (4167, 0.0), (4168, 0.0), (4169, 0.002702093880514578), (4170, 0.0), (4171, 0.00179271839024649), (4172, 0.0033539650524771064), (4173, 0.0), (4174, 0.0023343145258607986), (4175, 0.029270377084713833), (4176, 0.02068220642246474), (4177, 0.028200120879864763), (4178, 0.014935187871911164), (4179, 0.0), (4180, 0.0), (4181, 0.0), (4182, 0.006905327325248961), (4183, 0.0024605658391605692), (4184, 0.0071007110858064375), (4185, 0.0), (4186, 0.0), (4187, 0.01090243747979758), (4188, 0.0), (4189, 0.02124934934621283), (4190, 0.0), (4191, 0.0), (4192, 0.009300530122222251), (4193, 0.0041959361016616695), (4194, 0.0), (4195, 0.03269615913094226), (4196, 0.007146183686970358), (4197, 0.0025841071547458216), (4198, 0.0), (4199, 0.0), (4200, 0.0020967334420729845), (4201, 0.0), (4202, 0.0035464524681036104), (4203, 0.018750062741674935), (4204, 0.0), (4205, 0.008130781688473128), (4206, 0.0024076981407014056), (4207, 0.0), (4208, 0.005773493512131341), (4209, 0.03369611205071614), (4210, 0.006658795550928385), (4211, 0.00452933551189308), (4212, 0.0), (4213, 0.002412198675129666), (4214, 0.0), (4215, 0.0), (4216, 0.011295239298790546), (4217, 0.0063387875026320135), (4218, 0.0), (4219, 0.005931915092973305), (4220, 0.002237698754961657), (4221, 0.003389118373102822), (4222, 0.003401689052920654), (4223, 0.0), (4224, 0.0), (4225, 0.0026627631790715578), (4226, 0.007177253649655997), (4227, 0.012901300680195167), (4228, 0.002500407087378676), (4229, 0.0), (4230, 0.003250374296639226), (4231, 0.015172629198788767), (4232, 0.00834770623287308), (4233, 0.007489738150668479), (4234, 0.0), (4235, 0.010703262264480144), (4236, 0.006071288936832992), (4237, 0.0), (4238, 0.0), (4239, 0.0), (4240, 0.0050376438689202505), (4241, 0.0), (4242, 0.026455066464771252), (4243, 0.0028878558995519897), (4244, 0.01627636855185493), (4245, 0.0027257020583670117), (4246, 0.015795209548421972), (4247, 0.0022293932880584743), (4248, 0.004586411016467143), (4249, 0.007371867281170383), (4250, 0.0), (4251, 0.004730422256573652), (4252, 0.060584582506198706), (4253, 0.0), (4254, 0.002381798059521199), (4255, 0.013904371112445453), (4256, 0.0), (4257, 0.008569079513913131), (4258, 0.0), (4259, 0.002817905718980827), (4260, 0.0), (4261, 0.005247305587634177), (4262, 0.0026332495349149533), (4263, 0.0027942645186666477), (4264, 0.0045446204371539485), (4265, 0.012367062399996584), (4266, 0.0025598014547102386), (4267, 0.002911641861828628), (4268, 0.04898118976424427), (4269, 0.002710248465368599), (4270, 0.0), (4271, 0.0), (4272, 0.02991380267843137), (4273, 0.0025957851953606528), (4274, 0.004230776280506062), (4275, 0.0047840450116637045), (4276, 0.0), (4277, 0.0023235667934124564), (4278, 0.0), (4279, 0.0), (4280, 0.0030057458790461477), (4281, 0.02306593143437352), (4282, 0.006582495300381381), (4283, 0.026162117374677215), (4284, 0.00701528533635286), (4285, 0.005415047111067978), (4286, 0.0026817242487021894), (4287, 0.0026200219760683123), (4288, 0.021746715749192243), (4289, 0.007527054219814051), (4290, 0.004163246875368998), (4291, 0.0), (4292, 0.004347324574780403), (4293, 0.010722984277806732), (4294, 0.02553994247434334), (4295, 0.002895384242583907), (4296, 0.0022095637267620307), (4297, 0.0), (4298, 0.003112010941227746), (4299, 0.0069803569298127355), (4300, 0.0), (4301, 0.0018819746142858193), (4302, 0.0), (4303, 0.006302717910904423), (4304, 0.002276818026112036), (4305, 0.0), (4306, 0.0031358576238944068), (4307, 0.0051803120350525245), (4308, 0.0027815230640468726), (4309, 0.006979641837961648), (4310, 0.004618621886371571), (4311, 0.0020609206457597525), (4312, 0.004954271849196962), (4313, 0.0), (4314, 0.01479014191896362), (4315, 0.0), (4316, 0.0), (4317, 0.0), (4318, 0.0026805444422270497), (4319, 0.0), (4320, 0.002529880747060525), (4321, 0.0170215824769773), (4322, 0.004225051208069549), (4323, 0.0), (4324, 0.0), (4325, 0.010840142245064372), (4326, 0.0023257134365003568), (4327, 0.0), (4328, 0.004309347521446515), (4329, 0.0), (4330, 0.00253805140151113), (4331, 0.005314679312563479), (4332, 0.0), (4333, 0.0028543148299365836), (4334, 0.0026221405600788785), (4335, 0.008054930345349251), (4336, 0.008791253126991966), (4337, 0.012413553559116119), (4338, 0.0), (4339, 0.004214004459859566), (4340, 0.0026238456199144406), (4341, 0.0), (4342, 0.006048527830867267), (4343, 0.0022437834324925744), (4344, 0.01172532027550434), (4345, 0.0024058553949128257), (4346, 0.0), (4347, 0.0), (4348, 0.0023329759526090252), (4349, 0.0175797569189372), (4350, 0.0022862895680532676), (4351, 0.0070409744607046), (4352, 0.0), (4353, 0.0), (4354, 0.02549047354302168), (4355, 0.0027027752909523565), (4356, 0.0023565161087874867), (4357, 0.002704253420205787), (4358, 0.0), (4359, 0.002315717259110245), (4360, 0.004638585616125247), (4361, 0.0026392286255933436), (4362, 0.0366261726981813), (4363, 0.0026542534185335556), (4364, 0.0), (4365, 0.004064157582140783), (4366, 0.010503741580840924), (4367, 0.006362612386948832), (4368, 0.0028512074095766874), (4369, 0.0029181472592923734), (4370, 0.0), (4371, 0.009761304317544685), (4372, 0.0), (4373, 0.004941708118460421), (4374, 0.013500957588665718), (4375, 0.09115416460440341), (4376, 0.004725465948119756), (4377, 0.004735012960596698), (4378, 0.07890670157603855), (4379, 0.014731503184470595), (4380, 0.01907682511770337), (4381, 0.002459513436128688), (4382, 0.020357452364744264), (4383, 0.004630425737832128), (4384, 0.004887395747293326), (4385, 0.00571097676231024), (4386, 0.0021878188367847546), (4387, 0.013869739271979983), (4388, 0.006746295464131237), (4389, 0.059619273047023955), (4390, 0.007349070985823267), (4391, 0.0025635136897035433), (4392, 0.004858869039280729), (4393, 0.0), (4394, 0.0025172516843226128), (4395, 0.0204807167669085), (4396, 0.036680004434616977), (4397, 0.002823163472733316), (4398, 0.05846853668371727), (4399, 0.016856638263308823), (4400, 0.0032337238822411603), (4401, 0.00283455256975591), (4402, 0.0287142050286937), (4403, 0.03768028903231762), (4404, 0.0), (4405, 0.0), (4406, 0.0), (4407, 0.003316296364739097), (4408, 0.0), (4409, 0.002521491435377671), (4410, 0.0), (4411, 0.0021733664849438415), (4412, 0.00837167010398667), (4413, 0.0), (4414, 0.0), (4415, 0.0), (4416, 0.0029857141290288154), (4417, 0.0), (4418, 0.0033313957084914305), (4419, 0.002644532055986048), (4420, 0.0026749397560377145), (4421, 0.0), (4422, 0.00262128552286608), (4423, 0.00328901783931558), (4424, 0.0), (4425, 0.0), (4426, 0.003979373863168686), (4427, 0.0025337073586213536), (4428, 0.0024088177568829822), (4429, 0.0022025281171953767), (4430, 0.007487447402488042), (4431, 0.007647843550257581), (4432, 0.006259055449409207), (4433, 0.0), (4434, 0.0), (4435, 0.009653666058724471), (4436, 0.019678758463562002), (4437, 0.0), (4438, 0.004423883712803827), (4439, 0.0), (4440, 0.01744125558619483), (4441, 0.004383197395134182), (4442, 0.00932037962771842), (4443, 0.03550399203403641), (4444, 0.009367822218197508), (4445, 0.0019043157572844205), (4446, 0.002782920268246209), (4447, 0.0), (4448, 0.0026489850917881625), (4449, 0.0), (4450, 0.026760388667276182), (4451, 0.0), (4452, 0.03700872009283395), (4453, 0.0), (4454, 0.0), (4455, 0.0), (4456, 0.044859698571925906), (4457, 0.0), (4458, 0.0030222090293774047), (4459, 0.006316717962714711), (4460, 0.0), (4461, 0.0024421395611580092), (4462, 0.005212109826630412), (4463, 0.0), (4464, 0.005866343180844627), (4465, 0.01912009483891465), (4466, 0.020779916639037405), (4467, 0.006782300447022705), (4468, 0.004027792981236371), (4469, 0.012006245550895939), (4470, 0.007372640201462768), (4471, 0.0026896964399555873), (4472, 0.002451863839475863), (4473, 0.0022094493568974014), (4474, 0.014975121209418338), (4475, 0.012790894411267996), (4476, 0.0021707971344679653), (4477, 0.011225908707758612), (4478, 0.0), (4479, 0.0023361719043084594), (4480, 0.0), (4481, 0.0111670680909766), (4482, 0.015214320657780318), (4483, 0.0), (4484, 0.0033825015703950506), (4485, 0.0), (4486, 0.014131897833070044), (4487, 0.002498817237235911), (4488, 0.039866457481518125), (4489, 0.0026906754351386035), (4490, 0.008479024329197157), (4491, 0.0), (4492, 0.019866097987455866), (4493, 0.0), (4494, 0.008075136236699062), (4495, 0.0027172657582062174), (4496, 0.0), (4497, 0.002655860164895465), (4498, 0.0), (4499, 0.0), (4500, 0.0), (4501, 0.002563034882751688), (4502, 0.008775716196406009), (4503, 0.050157598882710784), (4504, 0.01723944063774106), (4505, 0.0026848997745710697), (4506, 0.0), (4507, 0.002914070452022372), (4508, 0.0), (4509, 0.0), (4510, 0.012401077942325327), (4511, 0.009051611167236628), (4512, 0.013091675420269205), (4513, 0.003816891168057483), (4514, 0.005580653371720075), (4515, 0.005134852033345962), (4516, 0.00290905320542948), (4517, 0.007194306028025057), (4518, 0.0056001713372558996), (4519, 0.0), (4520, 0.0025111482325366457), (4521, 0.0031663229880766323), (4522, 0.007792776984283689), (4523, 0.006841266975612459), (4524, 0.01331944469747385), (4525, 0.0), (4526, 0.0), (4527, 0.0053054174209496464), (4528, 0.002754961736875327), (4529, 0.0034007433580452487), (4530, 0.002480955564292477), (4531, 0.015762760109561923), (4532, 0.0), (4533, 0.03179258801090834), (4534, 0.02249439937967811), (4535, 0.002839541221996147), (4536, 0.002423397911442021), (4537, 0.00600568300472494), (4538, 0.02870310654032017), (4539, 0.0), (4540, 0.0027251203537721072), (4541, 0.0), (4542, 0.0), (4543, 0.011244227900249211), (4544, 0.0031606349429875737), (4545, 0.002744212545406419), (4546, 0.009243876395046141), (4547, 0.0), (4548, 0.026734695807176138), (4549, 0.0), (4550, 0.0024581839102769155), (4551, 0.010632158363049543), (4552, 0.004782937503052692), (4553, 0.010219138884556566), (4554, 0.02470807269296274), (4555, 0.0038230115268632387), (4556, 0.0), (4557, 0.007502935880415538), (4558, 0.0), (4559, 0.0), (4560, 0.0), (4561, 0.0), (4562, 0.0), (4563, 0.0026002737037532156), (4564, 0.006320803089554709), (4565, 0.0), (4566, 0.002674219451388669), (4567, 0.002419861331677402), (4568, 0.0), (4569, 0.0), (4570, 0.0), (4571, 0.004030857300595598), (4572, 0.003113497589081583), (4573, 0.0024590746796298094), (4574, 0.0027160653543906077), (4575, 0.0026842086926799043), (4576, 0.01332147765278587), (4577, 0.0), (4578, 0.0), (4579, 0.007707858385986937), (4580, 0.0), (4581, 0.007138918244446507), (4582, 0.004115861769246535), (4583, 0.015500100547104857), (4584, 0.002981299993716542), (4585, 0.004317819406069579), (4586, 0.004802995440825156), (4587, 0.004397547026264118), (4588, 0.04007034973890723), (4589, 0.00296910069944998), (4590, 0.03016641718719853), (4591, 0.006650530772256953), (4592, 0.0), (4593, 0.007951780061281883), (4594, 0.06244249504170046), (4595, 0.004992654293383984), (4596, 0.011572414171834387), (4597, 0.0), (4598, 0.001990121426051078), (4599, 0.0), (4600, 0.0), (4601, 0.007827855950236908), (4602, 0.03193220177918778), (4603, 0.00849029805234121), (4604, 0.0025498720581547574), (4605, 0.010110173744945022), (4606, 0.0032117216006529344), (4607, 0.003683615595661366), (4608, 0.021628502462343418), (4609, 0.0), (4610, 0.013574028503505245), (4611, 0.003381156554016577), (4612, 0.00888868675653521), (4613, 0.0), (4614, 0.09360334498513113), (4615, 0.0), (4616, 0.0023433400590324484), (4617, 0.01314161778154152), (4618, 0.0), (4619, 0.010600600099271435), (4620, 0.0023171458471597916), (4621, 0.0048204750255679794), (4622, 0.0), (4623, 0.011643408830587319), (4624, 0.0074991763343750725), (4625, 0.002633922479703713), (4626, 0.002050900379981166), (4627, 0.015339540957640547), (4628, 0.0), (4629, 0.007430638236737447), (4630, 0.00516753912534725), (4631, 0.0), (4632, 0.002988969868300242), (4633, 0.0029811127478967777), (4634, 0.0023668364925044398), (4635, 0.0), (4636, 0.002139246487716936), (4637, 0.016878434639300235), (4638, 0.002314130972440743), (4639, 0.004827896874058334), (4640, 0.017912118798029973), (4641, 0.03443753729934771), (4642, 0.005445659370678632), (4643, 0.0026078052368778675), (4644, 0.0), (4645, 0.02830701950923647), (4646, 0.005882947361283956), (4647, 0.0), (4648, 0.0), (4649, 0.008357018895379544), (4650, 0.0029233093766469253), (4651, 0.0), (4652, 0.006956954998735171), (4653, 0.00564163155833405), (4654, 0.0), (4655, 0.0), (4656, 0.007625333544560643), (4657, 0.002728114503821596), (4658, 0.019984309183378512), (4659, 0.023562334912504156), (4660, 0.008818717471166365), (4661, 0.0063294919124721495), (4662, 0.0), (4663, 0.0327835280360723), (4664, 0.008515952766218509), (4665, 0.004575287980149253), (4666, 0.006246539234530124), (4667, 0.0), (4668, 0.02868355806254645), (4669, 0.015492629061891281), (4670, 0.006850200849347881), (4671, 0.0), (4672, 0.0), (4673, 0.01377587826904075), (4674, 0.005743307933289462), (4675, 0.0), (4676, 0.0), (4677, 0.007227476000026492), (4678, 0.0047164277880471055), (4679, 0.018723322226204098), (4680, 0.0027116352708889146), (4681, 0.0), (4682, 0.047540514243836866), (4683, 0.0), (4684, 0.027578318279543237), (4685, 0.008933877806444059), (4686, 0.002539061868330615), (4687, 0.0024804344301909147), (4688, 0.0), (4689, 0.04286700280700304), (4690, 0.0), (4691, 0.006248858388868653), (4692, 0.0031667370380616382), (4693, 0.002457921756722749), (4694, 0.0029801305079396453), (4695, 0.011781109450073024), (4696, 0.0033216150708045397), (4697, 0.004287984216865141), (4698, 0.0055637921729217435), (4699, 0.00806771076660286), (4700, 0.0), (4701, 0.02680735059429446), (4702, 0.0), (4703, 0.033428047387317104), (4704, 0.003461394843111309), (4705, 0.0036266978734747603), (4706, 0.0028177198021747383), (4707, 0.007903531050123914), (4708, 0.004575418565359401), (4709, 0.01588618906465666), (4710, 0.009039245201957757), (4711, 0.0), (4712, 0.0022850149792276557), (4713, 0.0029365698467065508), (4714, 0.0), (4715, 0.00716976972764173), (4716, 0.0), (4717, 0.002995380388358431), (4718, 0.002844734993959239), (4719, 0.004913744632844538), (4720, 0.0), (4721, 0.0354922665499346), (4722, 0.018085260737710912), (4723, 0.0030935978103759313), (4724, 0.04700829681454849), (4725, 0.0), (4726, 0.005354557851618203), (4727, 0.03104322501095747), (4728, 0.0), (4729, 0.002436688023764338), (4730, 0.0), (4731, 0.02546460249231004), (4732, 0.002765627647506377), (4733, 0.0059665533777458), (4734, 0.0027414601205889796), (4735, 0.016831449282979326), (4736, 0.0), (4737, 0.0), (4738, 0.006562031725384386), (4739, 0.032981729269529136), (4740, 0.0), (4741, 0.0), (4742, 0.0), (4743, 0.0024737399970248836), (4744, 0.004555700234484428)]\n"
          ]
        }
      ]
    },
    {
      "cell_type": "code",
      "source": [
        "len(rs)"
      ],
      "metadata": {
        "colab": {
          "base_uri": "https://localhost:8080/"
        },
        "id": "EduZE_SIGqhY",
        "outputId": "35d88a20-1202-4d0e-d729-c63e0ebae4d6"
      },
      "execution_count": null,
      "outputs": [
        {
          "output_type": "execute_result",
          "data": {
            "text/plain": [
              "4745"
            ]
          },
          "metadata": {},
          "execution_count": 29
        }
      ]
    },
    {
      "cell_type": "code",
      "source": [
        "ssm=sorted(rs,key=lambda x:x[1],reverse=True)\n",
        "print(ssm)"
      ],
      "metadata": {
        "colab": {
          "base_uri": "https://localhost:8080/"
        },
        "id": "yer5zjP3GtUS",
        "outputId": "41dc4d58-9a1d-45aa-8e43-178a0876fb0e"
      },
      "execution_count": null,
      "outputs": [
        {
          "output_type": "stream",
          "name": "stdout",
          "text": [
            "[(2692, 1.0000000000000002), (3276, 0.11901912949844339), (3779, 0.10180475081021532), (62, 0.10152665206204751), (2903, 0.10055526574880132), (1647, 0.09397406062370095), (4614, 0.09360334498513113), (4375, 0.09115416460440341), (45, 0.089947198332921), (1383, 0.08423026733085655), (110, 0.08354323099328953), (628, 0.08332070529724933), (1994, 0.0827109490798252), (2558, 0.08264873511945119), (1070, 0.08104539733967192), (4378, 0.07890670157603855), (1341, 0.07731502775667545), (1977, 0.07510249355395597), (3465, 0.07410422312722599), (3053, 0.07324196408860627), (4116, 0.07264489715421632), (1982, 0.07246545884876746), (2538, 0.06796421733333449), (3248, 0.06680084322472551), (3946, 0.06576261056963903), (3480, 0.06560006992810163), (254, 0.06351792186485299), (590, 0.06274709881953815), (3450, 0.06273205109218505), (1886, 0.06267527433946524), (4594, 0.06244249504170046), (2112, 0.062176553776560874), (84, 0.061814555894527945), (675, 0.06177010770110783), (3854, 0.06156522840551192), (1134, 0.061441371833614616), (3463, 0.06063331305178028), (4252, 0.060584582506198706), (4137, 0.06046846427201173), (1118, 0.05997079083324599), (4389, 0.059619273047023955), (3385, 0.0589903061399541), (4062, 0.05894694561676087), (282, 0.05875196700925494), (4398, 0.05846853668371727), (424, 0.05838467404545623), (2358, 0.05824769141762538), (3462, 0.05742701359004697), (2985, 0.05717181255304635), (2318, 0.05695694425921295), (1021, 0.05669835756694562), (3728, 0.056269339255570136), (3334, 0.055820881371025304), (1243, 0.055188203914809976), (1970, 0.0529751430212702), (2026, 0.05262754287379799), (4123, 0.05254859907218348), (137, 0.052430166499670375), (3360, 0.051522974236288904), (877, 0.05122308670788916), (292, 0.051057549588513045), (761, 0.0508285790273824), (873, 0.05063102425270344), (1030, 0.05056886785679773), (2191, 0.05053139660714176), (2944, 0.05043339128710124), (3655, 0.05036584874091164), (1148, 0.05021717092561963), (1102, 0.05016363720499478), (4503, 0.050157598882710784), (479, 0.04998579808851724), (3203, 0.04982546919749389), (1809, 0.04954397327921477), (213, 0.049324498420713875), (227, 0.04927592359939896), (519, 0.04911152149764066), (2630, 0.048984874281405244), (4268, 0.04898118976424427), (2417, 0.04895093310416284), (2133, 0.048930526804194956), (384, 0.04854327887952616), (2214, 0.04835944003968451), (2550, 0.04834706662773692), (2579, 0.04816864459554241), (3395, 0.04815231057420612), (1878, 0.04803827033944935), (2294, 0.04799532990286212), (3010, 0.04757083242658175), (4682, 0.047540514243836866), (2374, 0.04735288999556633), (4724, 0.04700829681454849), (2653, 0.046964217410823184), (3374, 0.04658646640420444), (3294, 0.04624159334475741), (1023, 0.04613746414551378), (3974, 0.045634322366965685), (67, 0.04504364120351444), (904, 0.04503970060953623), (412, 0.045039153971020825), (3091, 0.045008830465249935), (2151, 0.044872882338977765), (4456, 0.044859698571925906), (2530, 0.04480992372665644), (4104, 0.0446353549503881), (1257, 0.04457490432907123), (1261, 0.04455311148535511), (1302, 0.04452892839426341), (3023, 0.0444678775038461), (3793, 0.04428654144322013), (3753, 0.04423209400827981), (637, 0.0442081126926849), (2971, 0.044152694943673736), (3408, 0.044032312362716146), (328, 0.0437535854925882), (1292, 0.043672994313258315), (2694, 0.04365050056571247), (615, 0.043621690086467595), (1821, 0.04359832305996923), (161, 0.04347804285220291), (1203, 0.043277358669800675), (2745, 0.04321761909752377), (2893, 0.043184681660686966), (3518, 0.04317243106254011), (1248, 0.043147237472991075), (277, 0.04305064381583757), (438, 0.04303814011148979), (682, 0.04302630596067404), (3552, 0.04301537340050686), (2012, 0.04293737780048197), (4689, 0.04286700280700304), (673, 0.042768886050760374), (408, 0.04269230942501844), (1506, 0.042254593835010124), (455, 0.042127828390863084), (3559, 0.042104210233125126), (3973, 0.04190119133956612), (1358, 0.041812317301982455), (1393, 0.041783110998250834), (172, 0.041678577306492305), (4023, 0.0416283150808003), (3427, 0.041518749475062136), (1850, 0.04145149655095294), (2248, 0.04144761671154862), (360, 0.0413982012177673), (1871, 0.04117810558235283), (1713, 0.041020671899656934), (3249, 0.04100368821252991), (2321, 0.040956842295458255), (2869, 0.040527915493325614), (3209, 0.04043518838287551), (1675, 0.040382022809972655), (2846, 0.04034671521370084), (1369, 0.04025641791528251), (89, 0.0401301038088309), (4588, 0.04007034973890723), (3867, 0.04005104315016321), (2155, 0.040044737213069774), (4488, 0.039866457481518125), (2295, 0.039811902895947326), (185, 0.03979621570245424), (1320, 0.039753697743366886), (44, 0.039582344171476144), (3955, 0.03949211572555833), (1527, 0.03943528315575597), (2859, 0.03891635966263398), (3373, 0.038915621645957035), (210, 0.038863942658209964), (1652, 0.03873100721176107), (3947, 0.038727308313951235), (108, 0.038693031284992845), (632, 0.038488793541322966), (109, 0.03847368263833917), (3409, 0.038090132488455164), (126, 0.03800833713100517), (2308, 0.03786394144202487), (4403, 0.03768028903231762), (2187, 0.03763613376592248), (2622, 0.03747271556073314), (3486, 0.03732721531160159), (2540, 0.03725713978751216), (3511, 0.037101140915633796), (1024, 0.03707246832686424), (3652, 0.03704129472174392), (4452, 0.03700872009283395), (788, 0.036760314985837955), (1676, 0.03674021322449559), (4396, 0.036680004434616977), (4362, 0.0366261726981813), (3127, 0.03655574403735), (3362, 0.03653668550497079), (774, 0.03651997208577027), (3280, 0.036289820976512885), (4064, 0.03628526861851709), (1085, 0.036231407936345314), (3498, 0.036146960884335604), (2212, 0.0361031251203935), (2316, 0.036043143594210715), (4005, 0.03603506357911924), (2716, 0.03602123655542101), (2375, 0.036020711174183914), (911, 0.03584319199206949), (710, 0.035757634101586604), (2018, 0.03561597404547902), (4443, 0.03550399203403641), (4721, 0.0354922665499346), (874, 0.03547571526350707), (2371, 0.035435642890861686), (1991, 0.035320921060665464), (4165, 0.03528292897593084), (1241, 0.03525075392262764), (694, 0.035160949641727605), (3045, 0.03498962739208203), (3470, 0.034989096764222474), (1272, 0.034778724664788284), (2908, 0.034708968938918686), (2868, 0.03469706870498213), (3102, 0.03450372438934699), (830, 0.03447218802980162), (1389, 0.034455720633597246), (540, 0.03444177292410351), (4641, 0.03443753729934771), (2981, 0.03441052295305462), (818, 0.03438028284825401), (2109, 0.034337791822416946), (3731, 0.034292663762275945), (3351, 0.034196186030863496), (1568, 0.034068313376743056), (1379, 0.03404074098216097), (1702, 0.034008139827259115), (2123, 0.03393946785933292), (1311, 0.03393915710442626), (3255, 0.033847458400470376), (3556, 0.03382023787511519), (4209, 0.03369611205071614), (3315, 0.033680773570332445), (4152, 0.033633570575472164), (3330, 0.033609516943857), (3983, 0.03344625196352078), (4703, 0.033428047387317104), (721, 0.03334151462965552), (1752, 0.03332449813462937), (1236, 0.03332249758301911), (578, 0.03327323351559381), (2122, 0.0331022167939126), (334, 0.03308671002834045), (3430, 0.03305652648106496), (1367, 0.03304496524201888), (4739, 0.032981729269529136), (3656, 0.032882695588663205), (3137, 0.03278736011951977), (4663, 0.0327835280360723), (1770, 0.032771385520442245), (4195, 0.03269615913094226), (3961, 0.03262799680008671), (387, 0.03251258828532381), (2365, 0.03250612488656705), (3004, 0.032472087613155044), (2476, 0.03243175552276065), (1464, 0.032414937393954624), (1063, 0.032385199431001634), (1837, 0.03238304025566916), (166, 0.03235644848285247), (462, 0.03224405240511866), (138, 0.032187891564504655), (2147, 0.032112474422921894), (3466, 0.03210137309950366), (935, 0.03207136131779402), (547, 0.03204696454598055), (4602, 0.03193220177918778), (1146, 0.03191885178304421), (2751, 0.0318527794142965), (864, 0.03184477035106504), (4533, 0.03179258801090834), (4096, 0.03175643806928725), (823, 0.031701209395892174), (65, 0.031675277513364755), (3377, 0.03162778903695075), (1195, 0.03158933903806574), (2517, 0.031502703231921045), (2100, 0.03144614723036946), (2621, 0.031433292283094494), (2082, 0.03135996692156871), (812, 0.031336393447694295), (3376, 0.031077154226981422), (1068, 0.031065593454121826), (4727, 0.03104322501095747), (1885, 0.030990357219027126), (1499, 0.03078796781829658), (3157, 0.03074070318222882), (179, 0.03069409884195326), (1868, 0.030642884381441412), (174, 0.030526845516824115), (3850, 0.030486122022653613), (1173, 0.030394068718894066), (3328, 0.03024908086270437), (1750, 0.030240243280430297), (787, 0.03022303017031258), (1043, 0.030181605276857072), (3597, 0.03017553013171715), (4590, 0.03016641718719853), (2023, 0.030133344036984946), (3720, 0.030096630325160828), (2807, 0.030089233120688005), (2014, 0.0300701111600659), (4004, 0.02998091868478317), (2413, 0.02992023880943228), (4272, 0.02991380267843137), (2710, 0.02987919233563149), (2037, 0.02980722389909136), (2443, 0.029792421606542455), (618, 0.02975496799655694), (530, 0.029725332627896225), (3880, 0.02972285456449883), (250, 0.02959843649563048), (3146, 0.029581748259920684), (1795, 0.02958074708324387), (1648, 0.029549214174915798), (1976, 0.029548044879637046), (2887, 0.029496455415403064), (2114, 0.029484358899945898), (2782, 0.02943853242736072), (3572, 0.02942285003892325), (2706, 0.029408908069207988), (3420, 0.029300276639973522), (4175, 0.029270377084713833), (193, 0.029200922635355144), (2614, 0.029198451829886524), (1973, 0.029149856037272923), (3326, 0.029130300043921895), (3814, 0.029096382456616738), (1788, 0.02903510623055766), (952, 0.029017689819727445), (629, 0.029009247055593032), (4035, 0.028802002673561138), (3313, 0.028783347046543676), (1405, 0.028764267403243098), (1046, 0.028756049497348737), (4402, 0.0287142050286937), (1363, 0.02870444523959934), (4538, 0.02870310654032017), (4668, 0.02868355806254645), (766, 0.028625940355529827), (1482, 0.028578001088361962), (976, 0.028484482826471213), (2481, 0.028466891473348258), (430, 0.02846447748683493), (112, 0.02846426486213116), (2102, 0.028452788619485456), (241, 0.028452248655104498), (2221, 0.028417725914983004), (1990, 0.028401093417823365), (3767, 0.028392037582047357), (2198, 0.02838120711096072), (2723, 0.028357815225920235), (693, 0.02833355779478424), (4645, 0.02830701950923647), (465, 0.028291151538174762), (371, 0.028244274348689483), (1398, 0.028211514391801532), (4177, 0.028200120879864763), (3701, 0.028191806545013347), (2487, 0.028157253590139524), (836, 0.028156845263927196), (1560, 0.028132224299644164), (428, 0.027930650078162828), (2876, 0.027736327200610734), (3871, 0.02772888961261221), (2791, 0.02769344380357608), (670, 0.02769223934077789), (2343, 0.02758814672263756), (4684, 0.027578318279543237), (3488, 0.027574011857545603), (1137, 0.027523014873073015), (421, 0.027488166175988874), (3174, 0.02742750536251068), (3344, 0.02736236039479701), (4160, 0.027313620252091084), (3574, 0.027296089101083866), (1500, 0.027286419616464677), (903, 0.02727735135124536), (3605, 0.027270668691384156), (1634, 0.027258895128534088), (1845, 0.027249147954393423), (1095, 0.027235519738763873), (284, 0.02720451333224011), (176, 0.02717745479341814), (3852, 0.027154116629200444), (3751, 0.027133824566757482), (1162, 0.02707639685994193), (3447, 0.02698083391749374), (593, 0.026976840684273563), (2802, 0.02689568016037816), (3959, 0.026837415347310933), (4701, 0.02680735059429446), (4450, 0.026760388667276182), (4548, 0.026734695807176138), (522, 0.026690650842468036), (2920, 0.026635740543669524), (2154, 0.02662790523885777), (2912, 0.026622610107018822), (4141, 0.026578387530122354), (3028, 0.026576674111781568), (167, 0.02657046759097547), (1205, 0.026560298948963612), (1314, 0.02655756157801402), (1430, 0.026521965288658095), (3688, 0.0264943062016269), (1720, 0.026467149286430833), (4242, 0.026455066464771252), (1847, 0.02640241256673829), (240, 0.026399204642534625), (852, 0.02630991812168816), (2013, 0.026303873918422104), (3684, 0.02621019750643029), (4283, 0.026162117374677215), (1059, 0.026093806988502388), (832, 0.026089581874481724), (381, 0.026082023841211298), (3167, 0.026070198503299336), (3154, 0.02606670864309901), (3904, 0.02606064224824573), (459, 0.026034903744157525), (2687, 0.026018909657626252), (2276, 0.026015533133267068), (2762, 0.02596492615637338), (3260, 0.0259316825788023), (2972, 0.025925166178411476), (3017, 0.025901212664662915), (2394, 0.025679931175510467), (25, 0.025589723291916434), (4294, 0.02553994247434334), (3573, 0.025536768420493034), (1721, 0.02552235239513344), (2467, 0.025516042678646513), (1060, 0.025505005823395932), (4354, 0.02549047354302168), (3156, 0.02547317124216652), (4731, 0.02546460249231004), (2011, 0.025107847771103774), (2094, 0.025093711788850608), (2048, 0.025084945147080963), (2761, 0.025049066869800005), (124, 0.02497703239174684), (3285, 0.024972334163053698), (1763, 0.024922529275398064), (1181, 0.024901981778303266), (3711, 0.024894526096207514), (1351, 0.024866830881528922), (967, 0.024832449943942708), (1749, 0.02480511994792635), (345, 0.02480001791561122), (3963, 0.02477333922403893), (2408, 0.024719086431338546), (1572, 0.024718335843778628), (4554, 0.02470807269296274), (269, 0.024699056641269212), (3428, 0.024685237080524974), (1999, 0.024666794039962078), (3746, 0.024576471455192674), (1544, 0.0245610220468623), (824, 0.02454968439731717), (657, 0.02452437618330673), (2689, 0.024517715475480206), (3801, 0.024502575836171), (2020, 0.024227010052696056), (116, 0.02422455473027956), (1530, 0.024223449886980202), (3692, 0.02421822713753031), (2560, 0.02416187713985247), (3872, 0.02405614720330344), (942, 0.024032056007085054), (2173, 0.0240000168995126), (2484, 0.023898780473473095), (3835, 0.0238028031740527), (3446, 0.02375471777607132), (2950, 0.023725703541506302), (885, 0.023723540007517023), (2638, 0.023618288721605943), (1412, 0.02361095427287364), (2649, 0.023564082914690247), (4659, 0.023562334912504156), (3810, 0.023554739752643303), (155, 0.023511977859393886), (1057, 0.02342831382819066), (2713, 0.02342615435544634), (3773, 0.023387470722988038), (1283, 0.023369828681387407), (175, 0.023321422378524293), (3868, 0.023319789920052084), (2699, 0.02329338937624437), (29, 0.02327785196922086), (1865, 0.023250067752187582), (1186, 0.023212244440689152), (2718, 0.023191325026327123), (3153, 0.02316239632785142), (1997, 0.023133731837790474), (4281, 0.02306593143437352), (2040, 0.022962723899347545), (1585, 0.02293648228466717), (706, 0.02287454311064825), (2647, 0.022778839298773272), (1935, 0.02276849164460441), (3891, 0.02263811460682735), (4053, 0.022630658900867327), (68, 0.02258498965948051), (15, 0.022544796281678263), (3839, 0.022543157271726295), (3913, 0.02249992486648454), (4534, 0.02249439937967811), (515, 0.022491269117159318), (1362, 0.022483935171508398), (1015, 0.022470561250936317), (261, 0.022318497948069324), (3095, 0.022318249289302736), (691, 0.022316372649233387), (88, 0.022291987297888994), (2157, 0.022239438942608616), (1996, 0.022222626657847574), (1141, 0.022212404115024814), (2096, 0.022160287265363565), (641, 0.022155182481535682), (613, 0.02209324069730629), (1515, 0.022043187660484652), (4050, 0.0220423835475749), (3483, 0.022010850068422225), (398, 0.02198432582231442), (2449, 0.02197169919517949), (1505, 0.02197050267310463), (3778, 0.021868250490936547), (917, 0.021814681914966112), (257, 0.021778088664440965), (4288, 0.021746715749192243), (672, 0.021724885986515667), (1492, 0.021705902184523146), (4128, 0.021705136081639487), (2210, 0.0216415063257075), (4608, 0.021628502462343418), (3345, 0.021613277595736283), (1707, 0.021597238418301398), (2822, 0.021545209179329845), (2777, 0.021508056559974544), (1757, 0.021485551963652868), (1629, 0.021459510807381482), (3384, 0.021399492080171396), (2668, 0.021390628505623545), (2646, 0.02135248228807775), (1861, 0.02131877762016997), (1033, 0.021295294641675906), (442, 0.021280864730314066), (2598, 0.021279481787417745), (3916, 0.021257726228217807), (4189, 0.02124934934621283), (3068, 0.02124646570138879), (1270, 0.021203180328723304), (3433, 0.021178664721615923), (1942, 0.021140189029832737), (1397, 0.021075846567508664), (3492, 0.021023688013874407), (1985, 0.021003261341417858), (3665, 0.02100099484153887), (4016, 0.02099003090410607), (3629, 0.02093154879027586), (3222, 0.020911184984501514), (1385, 0.020794032505355158), (4466, 0.020779916639037405), (1817, 0.02075591301413741), (3469, 0.020737242592121917), (2440, 0.020729817055115354), (4176, 0.02068220642246474), (763, 0.020681787122443097), (1678, 0.020666785599857074), (1671, 0.0206192933738156), (2055, 0.020606202454721435), (2174, 0.02060579514583427), (3553, 0.020600966235701273), (4395, 0.0204807167669085), (1510, 0.020469862179212272), (3319, 0.020416093975065972), (3471, 0.02039507097845504), (1003, 0.020394908334746668), (4382, 0.020357452364744264), (3927, 0.020344705085425265), (2301, 0.020333923977728187), (870, 0.02032340402580657), (3978, 0.020312711158134152), (3083, 0.020297585675397103), (1471, 0.020277995741890452), (3352, 0.020240491999611334), (1132, 0.020234969971151914), (2768, 0.020219587209554635), (1017, 0.02019930874846458), (2808, 0.02014584443216503), (643, 0.020145029677731716), (2582, 0.020094645774415373), (3923, 0.020064089087095376), (2501, 0.020048934754128854), (2524, 0.019997863058861306), (4658, 0.019984309183378512), (2995, 0.019953858559285588), (1838, 0.019932844204113915), (3254, 0.01992145935293708), (3504, 0.019912130081061713), (330, 0.019898569909788), (3508, 0.01988151745367861), (1098, 0.019870778838422178), (4492, 0.019866097987455866), (3857, 0.01985745505214169), (779, 0.01977037387882501), (1657, 0.019721082466825853), (2841, 0.019690807457939812), (4436, 0.019678758463562002), (329, 0.019677041959864888), (3934, 0.019661715690849402), (1927, 0.019655374192736094), (2867, 0.019556740412120806), (1052, 0.019491294049343792), (4156, 0.019490090482292676), (383, 0.019459801378545895), (4007, 0.019388776709490255), (2362, 0.019297690823971075), (463, 0.019266983852841233), (142, 0.019234914268851877), (4088, 0.01922252279521815), (947, 0.019185785811865315), (2469, 0.01913661924271743), (145, 0.019124724304349174), (669, 0.019121161747665386), (4465, 0.01912009483891465), (4380, 0.01907682511770337), (566, 0.01907477823169036), (1202, 0.019072579808771323), (2767, 0.019013808478300444), (2618, 0.01900243207477982), (2736, 0.01900080383501823), (199, 0.018957131127700436), (768, 0.0188900377891976), (3111, 0.018842271761240443), (3853, 0.018840697122450525), (1386, 0.018824693808587353), (2932, 0.018806502100826086), (4203, 0.018750062741674935), (4679, 0.018723322226204098), (2760, 0.018704125070143542), (4149, 0.018701893248645324), (204, 0.01867884835243996), (553, 0.01867597244437439), (3144, 0.01867432527931361), (3403, 0.018657119110921667), (4028, 0.018645206796014932), (2607, 0.01862338141043206), (33, 0.018605640536154905), (2650, 0.018575287877240117), (3284, 0.01857327474122048), (46, 0.018547051033490754), (83, 0.0184945068000899), (2237, 0.018472715676813904), (1937, 0.018423807541792105), (3097, 0.018395996101277304), (968, 0.018366321025631068), (1443, 0.018309167107389033), (1074, 0.018305360576873098), (2645, 0.018303396857323746), (3000, 0.018297678033971154), (160, 0.018291112302343874), (2368, 0.0182834577827474), (2513, 0.018265313679933403), (123, 0.018243806992217435), (3416, 0.018233927215523065), (689, 0.018231533357974346), (757, 0.018165423174592476), (364, 0.018110222493602175), (4722, 0.018085260737710912), (1872, 0.01808081310839883), (3875, 0.01807247885669195), (1226, 0.018069641577764584), (1175, 0.018031404996814136), (3828, 0.01798855067279534), (147, 0.017987684232949316), (2795, 0.017963297820276093), (4081, 0.017958421601531178), (4640, 0.017912118798029973), (808, 0.017881644042709106), (858, 0.017854279409873546), (222, 0.017851806735216157), (2035, 0.017831983493396465), (1112, 0.017807183735969956), (2167, 0.01778542877768738), (2070, 0.017780297717909434), (1365, 0.017777801589342657), (1843, 0.017770562175441325), (1129, 0.017752690532328634), (1384, 0.017702288061531304), (61, 0.017651744752614357), (342, 0.017619774146498134), (1274, 0.017579923264450483), (4349, 0.0175797569189372), (2823, 0.017528368803303853), (106, 0.017499523290402556), (796, 0.017476602179081768), (4012, 0.017473959261109256), (4440, 0.01744125558619483), (3085, 0.01743706174574969), (2553, 0.017425544985649292), (1579, 0.017404901445329423), (2093, 0.017348952322346622), (144, 0.017344402213265653), (1245, 0.017327506032619202), (4504, 0.01723944063774106), (1064, 0.017230645221849306), (3129, 0.01714442576883257), (3279, 0.017099173631765628), (1403, 0.017082069502477974), (1493, 0.017081294005876317), (3528, 0.01705262413839676), (409, 0.01704609317635359), (4321, 0.0170215824769773), (3036, 0.016991304688048502), (3766, 0.01696228768018692), (3675, 0.016954904663574206), (173, 0.016947978378097556), (2742, 0.016941099625005028), (794, 0.016933125165673465), (2119, 0.016930161232074966), (203, 0.016915963968354934), (916, 0.01691306594657793), (776, 0.016899383089977953), (2207, 0.016899021908106417), (1759, 0.016893371371783046), (4637, 0.016878434639300235), (2654, 0.016859466097914978), (4399, 0.016856638263308823), (4735, 0.016831449282979326), (3098, 0.016819366246638677), (677, 0.016809710725308576), (1377, 0.01677025271512457), (2110, 0.01674581433881089), (3226, 0.016740092943739956), (2712, 0.016737479637954036), (279, 0.016736244768887455), (212, 0.01673124567064086), (3213, 0.016721888740917297), (795, 0.016708440329217655), (2406, 0.016707657478655515), (2149, 0.01670067543577086), (3228, 0.01664434658132053), (2258, 0.01663216753295949), (3976, 0.016631260774075333), (937, 0.01661883689727911), (3275, 0.016598575513897304), (433, 0.016584446874689435), (3019, 0.01655819136332383), (2161, 0.016485415252143806), (860, 0.01648085694014185), (638, 0.016476056759203096), (2347, 0.01642897206442545), (1275, 0.016410193934481662), (1609, 0.016370869101929697), (209, 0.016321948018268514), (218, 0.016319483031300437), (4244, 0.01627636855185493), (551, 0.01627021784594489), (876, 0.016234553138689458), (1417, 0.016228190293936552), (1184, 0.016219651123329498), (1216, 0.01621104074370097), (3883, 0.01620504223322824), (511, 0.01616126445407767), (280, 0.016132477132760233), (3043, 0.01609924997173131), (853, 0.016071745602322253), (1254, 0.016039727337030754), (1445, 0.016028486523149983), (533, 0.015998085887351347), (586, 0.01598027532120472), (2917, 0.01597556525355156), (1716, 0.01595037489709611), (3012, 0.015943840947789865), (1018, 0.015914672438168194), (4709, 0.01588618906465666), (458, 0.01587156705892892), (701, 0.015867988715952915), (1774, 0.015865515246025093), (3640, 0.01586231762007361), (2275, 0.015822847179045637), (1523, 0.015816572285116102), (4246, 0.015795209548421972), (2353, 0.015788347119573828), (343, 0.015785350428848342), (692, 0.015774579372189776), (4531, 0.015762760109561923), (3541, 0.015761056783308032), (888, 0.015750572797146083), (1045, 0.01572662866933425), (48, 0.015672512094267187), (2996, 0.015653220376468824), (2290, 0.01565122000409934), (3895, 0.015649917721864366), (3661, 0.015642687584499142), (450, 0.015606596256576233), (1361, 0.015583228296433908), (3299, 0.015569344114479574), (85, 0.015559370053410708), (2229, 0.015543825550294814), (896, 0.015530110972064897), (2885, 0.01552422899650083), (4583, 0.015500100547104857), (4669, 0.015492629061891281), (481, 0.015467891696707654), (1741, 0.015462686401247374), (374, 0.015457492889934511), (867, 0.015441016900024992), (1512, 0.015440958578402999), (3642, 0.015423311291240202), (1325, 0.015417086457288592), (3694, 0.015394531592471651), (1906, 0.015387902547757253), (762, 0.01538102141779048), (3086, 0.015361254253310842), (4134, 0.015342244719169583), (4627, 0.015339540957640547), (2376, 0.015336036741432362), (3306, 0.015293901670056217), (40, 0.015293432174639965), (2254, 0.015262811415994816), (358, 0.015238334088786595), (3713, 0.015217857403436329), (4482, 0.015214320657780318), (21, 0.015207879186632103), (296, 0.015192093275576237), (929, 0.015186467747299637), (1119, 0.015180428962742226), (3407, 0.015178522183231381), (287, 0.015176965047278217), (4231, 0.015172629198788767), (3797, 0.015172467758995726), (2522, 0.015157427458389414), (2298, 0.015138957411276445), (2027, 0.0151132863694282), (622, 0.015104744792857647), (1687, 0.015081735964615803), (1115, 0.015074385061786336), (1853, 0.015054004221577797), (620, 0.015049724506489556), (2639, 0.015039175619136832), (2196, 0.015038178492655319), (3777, 0.015028944420940252), (3580, 0.015028807778561712), (4474, 0.014975121209418338), (51, 0.014964986703006987), (1880, 0.01495531199979328), (4178, 0.014935187871911164), (3253, 0.014932804705262514), (429, 0.014906644712299992), (502, 0.014891727633342521), (3437, 0.014888943708282634), (1897, 0.01487179981534745), (437, 0.014867071096612986), (3375, 0.014866968070185707), (43, 0.014847454548641024), (1224, 0.014844885016772266), (3862, 0.014838543328921202), (879, 0.014832977632559818), (1983, 0.014815582451362424), (543, 0.014814029523171752), (4314, 0.01479014191896362), (1290, 0.01477597327219495), (447, 0.014770905624835382), (4379, 0.014731503184470595), (584, 0.014715024464895329), (1919, 0.014714288569561246), (1682, 0.014703242381677428), (2919, 0.014695168327369609), (2053, 0.014683633610573558), (1278, 0.014682830174818752), (2334, 0.014640608959290523), (2931, 0.014631741859864211), (1779, 0.014602928431234612), (895, 0.014595388543942461), (2644, 0.014594974854156815), (3421, 0.014564847136176961), (208, 0.014563209218146918), (2939, 0.014544640084182906), (652, 0.014542738981110071), (2784, 0.01453894503987075), (3699, 0.014527327140461222), (1337, 0.01451609677244842), (1740, 0.014509316792037602), (470, 0.01446715797992778), (3558, 0.014464042825196095), (4068, 0.01444979617613194), (1116, 0.01444783910724221), (1895, 0.014445517244159179), (899, 0.014444196138282928), (1114, 0.014430965687704226), (1192, 0.014369482563577597), (1335, 0.01436279426066658), (3210, 0.01434720668120536), (3670, 0.014344884622505358), (1232, 0.014334781527881878), (1058, 0.014325519692824223), (482, 0.014316584640512164), (957, 0.014304065962921983), (2284, 0.014299284748678191), (842, 0.014291458873743466), (510, 0.014287753575662076), (934, 0.014278496759262438), (2695, 0.01423552025507414), (2815, 0.014227905998651058), (1152, 0.014220337795852396), (986, 0.014210547484897234), (1509, 0.014200706395057328), (370, 0.014199205386873116), (3807, 0.014149619870340741), (2988, 0.014145502647771969), (4486, 0.014131897833070044), (988, 0.014126015959790423), (1483, 0.014112867447640398), (4000, 0.014095377502066063), (1252, 0.01409251840547697), (1331, 0.01406167285917336), (2727, 0.014052698157010754), (534, 0.014048470591087447), (181, 0.014048277399763354), (1621, 0.014016903933175614), (2961, 0.0140005958639317), (406, 0.013994859753134442), (989, 0.01398976691747144), (3356, 0.01396481152678302), (3295, 0.013959150129771055), (2045, 0.013940220611371287), (2216, 0.013935125334220458), (1413, 0.013921756374045458), (2910, 0.013917068898510222), (4255, 0.013904371112445453), (1343, 0.013892322964010212), (252, 0.013878223628423772), (4387, 0.013869739271979983), (1401, 0.013865306689357827), (251, 0.013863899958965784), (799, 0.013859500469833873), (3535, 0.013839229335930257), (1035, 0.013817354574393571), (1967, 0.013816819047309432), (3370, 0.013803284075728669), (1876, 0.01379599888208545), (1461, 0.013790205145146138), (676, 0.013789034938689259), (4673, 0.01377587826904075), (231, 0.013769602503951543), (1481, 0.013766732698652808), (1945, 0.013739036691346768), (317, 0.013719022319111845), (3660, 0.013716431064045125), (87, 0.013707663052449769), (2468, 0.013655802599717156), (18, 0.0136398218304528), (2024, 0.013620722151943532), (1478, 0.01361754036888441), (52, 0.013601017036324756), (2366, 0.013598270719466418), (1465, 0.013580526866648492), (3861, 0.013576274962148832), (4610, 0.013574028503505245), (3741, 0.013573001759929227), (3312, 0.013572278048440495), (775, 0.01357015106995594), (753, 0.013548631194627167), (905, 0.013519610726395136), (1591, 0.013513364204441887), (1815, 0.013510854252386417), (4374, 0.013500957588665718), (2224, 0.013496964281488362), (3708, 0.013490994673637555), (814, 0.013489980277231382), (1986, 0.013480473462846358), (545, 0.013475913721575503), (4124, 0.013457705677567596), (878, 0.013433954026071757), (3819, 0.013429866136339626), (2805, 0.013415100165055155), (276, 0.013409334585356562), (760, 0.013408336364095594), (2632, 0.013394692014031585), (496, 0.013373206066230041), (2460, 0.013367891102705505), (1128, 0.01336435452058339), (236, 0.013360872331166493), (2486, 0.013343163537112972), (2008, 0.013339737952897826), (4576, 0.01332147765278587), (4524, 0.01331944469747385), (1665, 0.013314389437300487), (4121, 0.013293036125708077), (332, 0.013286734631298912), (3630, 0.013235907403489965), (1107, 0.01323367868801878), (866, 0.013223434738891017), (207, 0.013196790626604865), (1864, 0.013193084401855789), (1183, 0.013191743897794364), (2177, 0.013188916293094294), (3119, 0.013172316968556308), (3958, 0.013155639976771938), (2066, 0.013146672116880777), (4617, 0.01314161778154152), (3110, 0.013141422149692168), (1667, 0.013107596944278706), (1317, 0.013105284463965295), (4512, 0.013091675420269205), (356, 0.013079526632593522), (604, 0.013076571684608952), (906, 0.013076079499594127), (1802, 0.01306498494823754), (2121, 0.013057363840205059), (829, 0.013053770746690353), (1255, 0.013032234915533332), (1239, 0.013012430750029773), (2383, 0.012995068466772793), (2969, 0.012993609415567129), (1796, 0.01297792205875304), (1360, 0.01294604696300482), (1680, 0.012913243767867105), (1237, 0.012906699388708861), (4227, 0.012901300680195167), (13, 0.012893884047922351), (742, 0.012885972398732242), (75, 0.012885305033690187), (1595, 0.012872260395145784), (7, 0.012842321967569775), (1681, 0.012830286736852967), (875, 0.012827623820681684), (963, 0.012822809301372917), (900, 0.012820134993702766), (3318, 0.012817995120766354), (1342, 0.012806112930901671), (125, 0.012799040057793632), (1000, 0.012793106936864543), (4475, 0.012790894411267996), (1739, 0.012789768581445503), (70, 0.01278154582543412), (3325, 0.01277439168577), (833, 0.012764157734855727), (3659, 0.01273605256478705), (678, 0.012730036866505671), (537, 0.01272707477911138), (2978, 0.012708532735237492), (1519, 0.012684399910031985), (2874, 0.012657328591652103), (1293, 0.012621215853615706), (2252, 0.012577240968152005), (3076, 0.012570396288145241), (407, 0.01257012626674743), (3768, 0.012558125851960731), (844, 0.012542704801488343), (2617, 0.012538614521246605), (1654, 0.012534464621006177), (3750, 0.012520680706866872), (2000, 0.012485339120542656), (2803, 0.012481068536244061), (2963, 0.012474222588663354), (1376, 0.012469452752460966), (1988, 0.01244308082472459), (1787, 0.012434704368126336), (3637, 0.012431393153265205), (609, 0.012430953903926914), (4337, 0.012413553559116119), (4510, 0.012401077942325327), (527, 0.012398000215908166), (1220, 0.012380518229453272), (653, 0.012372060246746626), (4265, 0.012367062399996584), (418, 0.01236270178253285), (1436, 0.012362613201968664), (1005, 0.012360662781627394), (1567, 0.012354141205420974), (2412, 0.012348522532140895), (3387, 0.012346297527326033), (936, 0.012340917090680876), (800, 0.012327985614356418), (654, 0.012311539092010201), (1185, 0.012311303013640827), (3108, 0.012308208063925505), (733, 0.012307242588655903), (1104, 0.012301251197377563), (667, 0.012286104503385265), (648, 0.012271180578800892), (1934, 0.012247588796977519), (2052, 0.012246467135060553), (732, 0.012245356724918428), (1799, 0.01224388317207548), (664, 0.012223088674110738), (635, 0.01220617309786859), (2447, 0.012192230108947478), (201, 0.012191232776562365), (928, 0.012190960148370684), (1047, 0.012175010134990828), (1432, 0.01217415295120262), (1009, 0.012167002079235639), (190, 0.012137959407541189), (3849, 0.012136737555851054), (1949, 0.01211487213294709), (3507, 0.01211458602906579), (2780, 0.01210154147388889), (1542, 0.012099811546899257), (918, 0.012095103477523829), (4095, 0.01206832292057703), (2771, 0.012062863711300543), (1157, 0.012049297746365756), (341, 0.012038591888767169), (2474, 0.012020836934382245), (2235, 0.012008612779828187), (1714, 0.012006402911116832), (4469, 0.012006245550895939), (1812, 0.011942860980134935), (1832, 0.011934965139874108), (1958, 0.011929543334359), (130, 0.011921686412233897), (1194, 0.01191428433297665), (2788, 0.011897073796112687), (82, 0.011888758793597232), (1407, 0.011880022375210636), (684, 0.011865654919800508), (1099, 0.011854578731930202), (1310, 0.011852079170255915), (3999, 0.011831678053488774), (3747, 0.011808779344687013), (2005, 0.011805965533483618), (2602, 0.011801972664305826), (452, 0.01179943331873401), (4695, 0.011781109450073024), (523, 0.011753066508973682), (149, 0.011742977701382253), (1870, 0.011734654398829283), (86, 0.011728603509756354), (4344, 0.01172532027550434), (1215, 0.011724166588900194), (560, 0.01171756560166473), (1419, 0.011701428428308602), (1396, 0.01169181890915234), (931, 0.011678257654732106), (1455, 0.011670073283642852), (2145, 0.011662489191776277), (2697, 0.011643978755252108), (4623, 0.011643408830587319), (4148, 0.01164235123394055), (3065, 0.011642121126649559), (3756, 0.011634959368738125), (3317, 0.01163178546022089), (2336, 0.011616960805002453), (2913, 0.011602770005487319), (313, 0.01158567200014175), (2280, 0.011575357077907432), (1264, 0.011574646560091589), (4596, 0.011572414171834387), (1090, 0.011518535215805767), (2306, 0.011517211095352076), (809, 0.011477609916852906), (1303, 0.011467492215850958), (244, 0.011433562483077721), (1761, 0.011425186176325201), (1989, 0.011420811280725597), (2925, 0.011420710294148772), (1406, 0.011414962111835805), (1266, 0.01140583296429758), (500, 0.011394497218686675), (2421, 0.01139122392074543), (1249, 0.011376113228742508), (2178, 0.011366214495142132), (825, 0.011334368646659734), (72, 0.011333707476618868), (790, 0.011324243202864747), (2057, 0.011322438659887146), (3957, 0.011305681903422269), (1053, 0.011302564982493428), (4216, 0.011295239298790546), (2688, 0.011265527134167569), (3582, 0.01125863718172199), (2918, 0.011258011153934194), (4543, 0.011244227900249211), (3240, 0.01124354795543682), (915, 0.01124212438208787), (4477, 0.011225908707758612), (1230, 0.011216093288531195), (1873, 0.0111895254968085), (2206, 0.011170225391750065), (4481, 0.0111670680909766), (1262, 0.011150498931780186), (1420, 0.011133953926417165), (2568, 0.011127055508012556), (402, 0.011097623051714321), (2480, 0.01108202810630883), (827, 0.011075392837348614), (1012, 0.011074925889428863), (1655, 0.01107237848640761), (3794, 0.011069432564612763), (1630, 0.011067568044292774), (1019, 0.011044469127513154), (2625, 0.011040684982727686), (274, 0.011032674184075124), (1957, 0.011031449138289618), (1054, 0.011022032539787436), (1852, 0.01102003380507131), (719, 0.011019949667660038), (2555, 0.011015960525030618), (322, 0.01100045713088964), (1551, 0.010987710922088334), (1696, 0.010962235095643324), (1773, 0.01095316695761692), (2346, 0.010924260707113984), (1992, 0.01091861606725655), (4187, 0.01090243747979758), (2759, 0.010893348514974983), (3992, 0.01086225530666786), (417, 0.010853522322267203), (532, 0.010851016588073158), (273, 0.01084831181524637), (281, 0.010848075832229591), (321, 0.010847677834047907), (683, 0.010847480037885375), (3118, 0.010844068671167915), (3775, 0.010843803454985187), (4325, 0.010840142245064372), (2429, 0.010832458842337678), (538, 0.010831241143572609), (57, 0.010828881788109694), (949, 0.010825131322341074), (2062, 0.010823346323355097), (555, 0.010799404163306539), (3993, 0.010798299082143609), (1789, 0.010787217763950288), (304, 0.01077454770727581), (695, 0.010758531685120067), (1858, 0.010751720761890682), (2769, 0.010730947929042948), (4293, 0.010722984277806732), (2680, 0.010712024089186535), (3524, 0.010709878882012748), (801, 0.010705053482157896), (4235, 0.010703262264480144), (1259, 0.010676822174748728), (4164, 0.010672542383168698), (1923, 0.01066549945216278), (3094, 0.010651578599834304), (291, 0.010642936225538899), (4551, 0.010632158363049543), (3951, 0.01062135513215245), (4032, 0.010619794364778527), (4619, 0.010600600099271435), (148, 0.010592853023454203), (3860, 0.01059163678136538), (170, 0.010589499701051034), (1754, 0.010585100514761053), (3924, 0.010559587225078439), (266, 0.010552101880806235), (2739, 0.010545810440657416), (2464, 0.010527293658975766), (1061, 0.010520534144671842), (4048, 0.010519503381342958), (271, 0.010510425555897603), (4366, 0.010503741580840924), (1723, 0.010494108082849073), (501, 0.01049346549468245), (2403, 0.010490791139527242), (2097, 0.010456809056156549), (468, 0.010440431909199202), (3070, 0.010437542540002304), (847, 0.010432831856716033), (3903, 0.010426350268026862), (2992, 0.010421564621652113), (1662, 0.010418192743409379), (3423, 0.010414436417874977), (3426, 0.010398790965498134), (333, 0.010394788913270295), (3099, 0.010394478110387998), (2871, 0.01039170872997405), (1874, 0.010385872140660828), (1694, 0.010374866789901967), (47, 0.010372687769670128), (2051, 0.010342584971408303), (2162, 0.01032027935523586), (2936, 0.010304179501185763), (485, 0.010297574687415217), (737, 0.010263160178236447), (2740, 0.010245569117388949), (354, 0.010221782418269777), (4553, 0.010219138884556566), (3232, 0.010218542216494948), (792, 0.010217993036751718), (3822, 0.010215579895926096), (1339, 0.010211716556191124), (3297, 0.010211230936847816), (206, 0.010188050919793117), (1348, 0.010180341522569936), (1234, 0.010175111310094832), (2436, 0.010173979328408597), (2849, 0.010158410604134582), (483, 0.010145671596559835), (4033, 0.010136728692679967), (2209, 0.010133799883254604), (4605, 0.010110173744945022), (2505, 0.010107535687511111), (99, 0.010103765252940159), (3984, 0.01009665980010263), (1418, 0.010093786032414474), (1658, 0.010077595187699491), (1736, 0.010060176008660389), (270, 0.010050121101333496), (715, 0.010043018154726972), (2049, 0.010034712612706463), (327, 0.01002933278719706), (3382, 0.01002350244092565), (1513, 0.010007501420534796), (4106, 0.010002490053007742), (2546, 0.010001571995271498), (1727, 0.009982369653129555), (2929, 0.009971153427657007), (542, 0.00997027128853363), (2016, 0.009970003670534359), (216, 0.009953561598687195), (1781, 0.009944112550091578), (806, 0.009913120172480248), (120, 0.009910858572807142), (2126, 0.009910547393268552), (2915, 0.009897619323602653), (621, 0.00988712539495825), (1300, 0.009881491877523334), (979, 0.009880605014547891), (2074, 0.009869798835889542), (3674, 0.009864795577288036), (1334, 0.00986324519041503), (2116, 0.009824688359344327), (2494, 0.009813230501958918), (0, 0.009796981613338793), (2489, 0.009792725320975831), (1359, 0.009781048101860711), (3142, 0.009777308674117326), (1708, 0.009776180982639635), (2820, 0.009775193212275364), (4371, 0.009761304317544685), (994, 0.009759028935574112), (1440, 0.009757624766932113), (544, 0.009752382891532208), (1798, 0.009743543588090566), (1092, 0.00974140122204855), (1712, 0.0097301078750234), (2964, 0.009724184494161014), (3949, 0.009721184693184469), (3218, 0.009702356456839313), (1619, 0.00970031791261872), (1922, 0.009699836884473633), (3679, 0.00969754357747347), (2934, 0.009678619783657357), (3155, 0.00967248182007614), (3635, 0.009667456273054953), (1951, 0.009657608204026159), (243, 0.009657222445256606), (2565, 0.009656416748297364), (4435, 0.009653666058724471), (2418, 0.009647400026152459), (5, 0.00963825583944798), (1685, 0.009629242531014496), (4052, 0.00962013380485473), (3612, 0.009611771068085492), (3264, 0.009607513562179421), (4158, 0.009593057579218522), (1442, 0.00959174767270821), (2250, 0.009589308009403408), (1075, 0.009588708775157105), (2633, 0.009555622771409313), (4060, 0.009546164292789894), (2512, 0.009535580260459066), (105, 0.009530571920108795), (2640, 0.00952150277367712), (894, 0.009519371967849662), (1438, 0.009517090049951249), (3919, 0.009515948658949813), (1006, 0.009510464560173036), (3888, 0.00950742688977205), (3599, 0.009503096807292024), (288, 0.00949344318404714), (2601, 0.00949257608995971), (1475, 0.009488240122750407), (2545, 0.009482632816575742), (2655, 0.009475701278911711), (435, 0.009475620875335315), (1048, 0.009458923196348598), (2197, 0.009455476819261895), (1338, 0.009451461834874667), (4025, 0.009443207423906514), (970, 0.009443064597665212), (3536, 0.00944234102786497), (1124, 0.009437500907882736), (2744, 0.009426311216030677), (3689, 0.009415046395123248), (1279, 0.009412228144621096), (78, 0.009397173042042612), (1382, 0.009394666719229502), (2029, 0.00938036398577857), (1494, 0.009377709318111702), (2075, 0.009370535700295434), (4444, 0.009367822218197508), (472, 0.009366890414647645), (2279, 0.00936283819867074), (1860, 0.009360580676070512), (631, 0.009358661913482951), (3215, 0.00934950394904934), (4442, 0.00932037962771842), (2977, 0.009319795905380002), (1936, 0.009302681428387834), (4192, 0.009300530122222251), (1077, 0.009295071052046409), (2789, 0.009292678914698529), (2080, 0.009283747030182952), (1182, 0.009283153423297958), (1688, 0.00928143257666984), (850, 0.009266801822032393), (1087, 0.009254192603329083), (3643, 0.009247635096052819), (668, 0.009245498243877926), (353, 0.009244338896377099), (4546, 0.009243876395046141), (2798, 0.009242331279122627), (396, 0.009233506596306125), (2277, 0.009226579302817405), (2255, 0.009226016145214068), (3386, 0.00922282217876644), (1582, 0.009221523456452196), (2948, 0.009208658253193116), (2752, 0.009190532785068607), (2193, 0.009184186666602982), (2144, 0.009182280671690189), (182, 0.009175522474944355), (1854, 0.009173789783737793), (897, 0.009171838437299639), (2886, 0.00916790471674079), (104, 0.009160524632407404), (2228, 0.009150395048975524), (3171, 0.00914013531143543), (697, 0.009135742741585467), (1160, 0.009119963359362913), (2831, 0.009110351005248606), (3293, 0.009092388104031672), (434, 0.009082596196851896), (3346, 0.009078911541517512), (828, 0.009074769852004751), (79, 0.009072835937894489), (1612, 0.009063572738125768), (939, 0.009062742973754225), (4511, 0.009051611167236628), (346, 0.009044873946597174), (4710, 0.009039245201957757), (3596, 0.009008438324494349), (3941, 0.009005481879560953), (1948, 0.008997263136735873), (3067, 0.008992111118019185), (3237, 0.008990717891901777), (464, 0.008990029161015017), (1620, 0.008985568753898495), (2463, 0.00894431484049082), (4685, 0.008933877806444059), (119, 0.008929709861920392), (1807, 0.008927953865785473), (111, 0.00892652849967147), (2980, 0.008925441615324901), (2600, 0.008921319707731933), (3046, 0.008917635613385898), (3638, 0.008915355895922156), (948, 0.008904873483619328), (2087, 0.008902153644669317), (3667, 0.00889851812926829), (3120, 0.008894725828620841), (96, 0.00889323376086285), (4612, 0.00888868675653521), (1900, 0.008885246843343523), (446, 0.008879566454402799), (2698, 0.008868188043115496), (2103, 0.008863719986775525), (558, 0.008859862587734382), (1096, 0.008855266539414817), (2581, 0.008835691424541091), (4660, 0.008818717471166365), (1701, 0.00881578340736312), (3521, 0.008809053181739798), (817, 0.008808280646156496), (4336, 0.008791253126991966), (651, 0.00878415262511154), (4122, 0.008783377700348259), (19, 0.008781565216679353), (4502, 0.008775716196406009), (3826, 0.008748908321423512), (2363, 0.008740383441643209), (1020, 0.008730904025170023), (3246, 0.008726497275995037), (2188, 0.008725871707208472), (3123, 0.008722545226178173), (1446, 0.008721911352812743), (3418, 0.008719782532628992), (1276, 0.00871707602154927), (782, 0.00871591914209748), (3267, 0.008715313265991498), (2879, 0.008704759065204144), (2459, 0.008702389662542463), (2143, 0.008702232252064426), (285, 0.008700387002079727), (2309, 0.00869441002923986), (1387, 0.008674700708754566), (3151, 0.008669974746671173), (3733, 0.008667975438856765), (2473, 0.008664923971154894), (3784, 0.008663669369434898), (164, 0.008661448052102437), (2778, 0.008644338134629212), (2065, 0.008631619735596691), (962, 0.008630367134002066), (2077, 0.008625860724926788), (3901, 0.008623033223781596), (1710, 0.008618318629058085), (2572, 0.008612634205067311), (1429, 0.008597107840202496), (197, 0.008594295146554711), (966, 0.008593232317089673), (3954, 0.008590883803870023), (2303, 0.008583848178416205), (2812, 0.008577206540756555), (4257, 0.008569079513913131), (3956, 0.008565412007204112), (307, 0.008537904786678596), (2264, 0.008536883182110374), (1793, 0.00853129300327308), (734, 0.008525059555155146), (4664, 0.008515952766218509), (1206, 0.008508026003351835), (3399, 0.00850284253483693), (368, 0.008490354505391602), (4603, 0.00849029805234121), (4490, 0.008479024329197157), (921, 0.008470253671344206), (838, 0.008464021982241068), (1776, 0.008460903842967776), (3829, 0.008458837456509515), (1650, 0.008433262341887753), (1514, 0.008418482393049084), (851, 0.008417710120769969), (1920, 0.008416393291015553), (2089, 0.00840149319139038), (1968, 0.00839731046782219), (1477, 0.008389642724935635), (461, 0.008375549928733171), (4412, 0.00837167010398667), (3389, 0.008370031337236872), (1875, 0.008358502421545963), (4649, 0.008357018895379544), (1308, 0.008350618235533572), (4232, 0.00834770623287308), (183, 0.008346125441528043), (3329, 0.008316484220613677), (2427, 0.008306926716449165), (1730, 0.008296334494406987), (4163, 0.008290795777905906), (2635, 0.008286813598432244), (443, 0.008271233831428223), (2265, 0.008262907984926526), (1538, 0.008260199415924607), (2236, 0.008259462631579312), (1540, 0.008259447581692819), (2158, 0.008246658276082957), (449, 0.008231929174795026), (1690, 0.00819994784902828), (2285, 0.00818652009110156), (1050, 0.008185957305042927), (597, 0.008180806529631482), (1924, 0.008169723171409184), (1971, 0.00814503858450332), (4205, 0.008130781688473128), (1762, 0.008118340224504283), (1539, 0.008116451952548441), (107, 0.00810857444908497), (3960, 0.008106655908776527), (2076, 0.008102917939281126), (2881, 0.008098868247997573), (1507, 0.00809760155733676), (4092, 0.008090584206913078), (3680, 0.008083180090780611), (38, 0.00808057228173493), (4494, 0.008075136236699062), (2587, 0.008073709118332615), (4699, 0.00806771076660286), (705, 0.008058382427588379), (4335, 0.008054930345349251), (1553, 0.008033789222653284), (1489, 0.00803375784700023), (3196, 0.008019577245660025), (3032, 0.008004328693054945), (1078, 0.008002482878636816), (436, 0.008001691155987683), (3, 0.007997107993253032), (2975, 0.007993584245708805), (32, 0.007979921821539176), (2840, 0.007975700770592854), (729, 0.007974587137633216), (1136, 0.00797426804800454), (4593, 0.007951780061281883), (1498, 0.00794991520444433), (2854, 0.007939827335572488), (4105, 0.007939117815869003), (139, 0.007933445288131169), (924, 0.007925138452989304), (1960, 0.007917618548496423), (688, 0.007916226552052373), (3096, 0.007911361948988737), (4707, 0.007903531050123914), (2304, 0.007902515404218947), (2428, 0.007890224504974733), (1260, 0.007888729644288441), (1764, 0.0078854088072016), (242, 0.00788120907353944), (2942, 0.007876027923174763), (1371, 0.00785476878586192), (1454, 0.007852213638625736), (4046, 0.0078398375845231), (385, 0.007829920738268294), (4601, 0.007827855950236908), (1790, 0.007827084651374954), (816, 0.007821359528543213), (3192, 0.0078114513115353865), (1866, 0.007808839651500064), (4133, 0.0077966969412009215), (1833, 0.007794692665268067), (4522, 0.007792776984283689), (445, 0.007791401958306554), (60, 0.007786714716505551), (350, 0.007785315841595126), (3453, 0.007778090887043665), (3516, 0.007777237387418715), (4013, 0.007776373915234981), (3579, 0.007769826110486738), (162, 0.007766178335216814), (1743, 0.00774789429512753), (3771, 0.007740921573436002), (582, 0.007734235517491508), (2933, 0.007729834245377657), (3704, 0.007727960157899424), (2477, 0.007724519723922784), (1806, 0.007720306303298781), (403, 0.007714785911349826), (1674, 0.007714058689548403), (728, 0.00771304399258807), (4579, 0.007707858385986937), (3899, 0.007699444066923885), (3634, 0.007694956487392467), (3112, 0.007688595532251619), (1312, 0.007681642671111493), (991, 0.007671707417662748), (1140, 0.0076571239434726586), (1537, 0.007656077129804142), (3256, 0.0076527764269407675), (4431, 0.007647843550257581), (4038, 0.007642837009285629), (2603, 0.007640972585692147), (2949, 0.007640779158981592), (2104, 0.007637695154520428), (3456, 0.007634532965367959), (3821, 0.007633933187767649), (1071, 0.007631289944179729), (3780, 0.007629933135195803), (4118, 0.007626862555681054), (4656, 0.007625333544560643), (2211, 0.007617652091368712), (3586, 0.007610440385975453), (1014, 0.007606813285263285), (493, 0.007592772684387614), (930, 0.007591041097740895), (616, 0.00758575567871859), (3618, 0.007579852403336081), (1705, 0.007574157609658028), (4094, 0.007573001906634706), (2714, 0.007568180159531299), (1484, 0.00756472117620993), (180, 0.007556834962923359), (1282, 0.007553863558447871), (1918, 0.007553253904010909), (1225, 0.007543263564234869), (10, 0.007537423456081893), (1400, 0.007532366431275542), (2563, 0.0075281637823284685), (4289, 0.007527054219814051), (2510, 0.007526778038465962), (1571, 0.007525408685161009), (441, 0.007520067470572614), (2844, 0.00751746430535343), (1902, 0.007511621986657138), (1643, 0.007507343111035561), (1188, 0.0075060905253613135), (4557, 0.007502935880415538), (4624, 0.0074991763343750725), (3464, 0.007491796623668207), (716, 0.0074907847301011275), (4233, 0.007489738150668479), (2088, 0.007487775574889032), (4430, 0.007487447402488042), (255, 0.007486732501968535), (843, 0.007486189014961045), (845, 0.0074848994243793526), (113, 0.007483142206035116), (3905, 0.007480858014239902), (580, 0.007471709519292272), (4045, 0.007470877357528646), (1229, 0.007466060622115912), (3514, 0.007465913884804613), (660, 0.007463735683908493), (3259, 0.007459101712155945), (2339, 0.0074572268487209815), (2873, 0.007457003985811663), (4089, 0.007446730876024524), (1083, 0.007440544890376436), (34, 0.007434320846824846), (474, 0.0074313641118422405), (4629, 0.007430638236737447), (3039, 0.007427536008294643), (3349, 0.007419009777624061), (1950, 0.007417321583712833), (143, 0.00741615918411162), (1037, 0.007403077602170547), (3666, 0.007399603264529745), (156, 0.007393986197594439), (980, 0.007390758591485795), (3945, 0.007386765434605505), (3018, 0.007386427540630165), (606, 0.007384808677526398), (3623, 0.007377267052212131), (4470, 0.007372640201462768), (4249, 0.007371867281170383), (3233, 0.007356031839988), (1536, 0.007354539060145528), (224, 0.007349437831956891), (4390, 0.007349070985823267), (743, 0.0073487278788488125), (1069, 0.00734435916995532), (3008, 0.0073397458077296375), (509, 0.007331504852344902), (4098, 0.007330360984416457), (3410, 0.0073252763207246625), (3571, 0.007310793764290811), (1174, 0.007305352979187167), (1931, 0.007303881642716194), (2519, 0.007293727802561642), (1735, 0.0072931879361726295), (238, 0.007291188590068063), (2843, 0.007290962702504882), (3653, 0.0072900332112130675), (750, 0.007285575794450024), (3303, 0.007268741989545284), (3501, 0.007268424901814764), (1144, 0.007254404954515301), (869, 0.0072508557336399245), (2091, 0.007249169116007209), (63, 0.007244055113148642), (3645, 0.007242866778907124), (2061, 0.007241705135923254), (309, 0.007240060633334055), (4077, 0.0072342836284113), (1138, 0.007234267449168641), (42, 0.007232963783437152), (4093, 0.007229476941882239), (1486, 0.007228702332912397), (1472, 0.00722852555399992), (4677, 0.007227476000026492), (908, 0.007225590894706429), (636, 0.0072224000853762516), (2244, 0.007220552293273935), (3227, 0.00721006808168677), (2444, 0.0072057616784892324), (2606, 0.007199022199466542), (696, 0.007197917543387684), (3436, 0.007197660338019816), (4517, 0.007194306028025057), (1583, 0.007192468552321871), (3125, 0.007186588679065197), (2101, 0.00718245717900571), (1191, 0.007179441122049503), (256, 0.007179195469234028), (1223, 0.00717904749535889), (4226, 0.007177253649655997), (363, 0.0071697769894684725), (4715, 0.00716976972764173), (1488, 0.007169423447060775), (4061, 0.007168234624932582), (2344, 0.007165760467093298), (1179, 0.007149020172561967), (4196, 0.007146183686970358), (3245, 0.007145989735896199), (4581, 0.007138918244446507), (3515, 0.0071376416873367), (159, 0.007123778523079957), (2994, 0.007118444015209564), (494, 0.007104036636032505), (1388, 0.007103144655635525), (3152, 0.0071027895851825985), (4184, 0.0071007110858064375), (1811, 0.007092232191685494), (3727, 0.007088772378286678), (3624, 0.00708484070354971), (1747, 0.007083730626318676), (3435, 0.00708149059921559), (232, 0.0070692550800929045), (769, 0.007057932204094798), (340, 0.007054454927644087), (880, 0.007048206014578614), (4351, 0.0070409744607046), (3195, 0.0070354244604883525), (3570, 0.007028506934031496), (727, 0.007026234360940121), (2069, 0.007026089574786771), (3499, 0.007025405800544258), (4284, 0.00701528533635286), (413, 0.007010885912789829), (81, 0.007005469126899119), (1504, 0.007003687571046612), (3316, 0.007001563961472865), (3457, 0.00699979909758076), (3185, 0.006999465790252705), (1737, 0.006997994725379615), (2825, 0.0069853741223374795), (50, 0.00698490872994317), (4299, 0.0069803569298127355), (4309, 0.006979641837961648), (1653, 0.006973088246151604), (748, 0.0069663989132718205), (4652, 0.006956954998735171), (301, 0.006945480470166515), (1330, 0.0069388725731180205), (1044, 0.00692778447852), (539, 0.006917888383839167), (600, 0.006908846662246733), (4182, 0.006905327325248961), (3696, 0.006896117023782614), (1421, 0.006893122370013268), (217, 0.006891872915791567), (923, 0.006884245334551804), (1718, 0.006880296291173353), (3487, 0.006874696961867999), (503, 0.006874508250378905), (752, 0.0068710298232129464), (3531, 0.006859292296609688), (4670, 0.006850200849347881), (4523, 0.006841266975612459), (386, 0.006835781567345975), (2691, 0.006831101258545185), (1841, 0.006828251414365533), (3149, 0.006822308911966008), (3122, 0.006819626325097828), (1911, 0.0068179749676884095), (1076, 0.006817050957055292), (1001, 0.006814830769050293), (4008, 0.00681382723691286), (3035, 0.006807431678905792), (1375, 0.0067966755276919226), (1125, 0.006795899925823497), (1123, 0.006794508833770599), (2816, 0.006793407800475643), (644, 0.006793292922773635), (3648, 0.006792738343522405), (4467, 0.006782300447022705), (2726, 0.006779304874994202), (671, 0.006779284976622661), (1231, 0.006775709621544909), (367, 0.006774029439661603), (3265, 0.006765686351799119), (778, 0.006756890149853826), (2897, 0.006755716920586252), (4388, 0.006746295464131237), (3734, 0.006744313632264615), (2348, 0.006735528664241921), (1177, 0.006735199420404096), (2962, 0.006730298441182569), (31, 0.006725984912835914), (2899, 0.006721646383489117), (1738, 0.00671436553520446), (1041, 0.006712424321140881), (1111, 0.006708581831446705), (3632, 0.006706378149541579), (1250, 0.006691915252540325), (2708, 0.006691494739702764), (2496, 0.006687273843048959), (56, 0.006683765336270742), (422, 0.006680971767429374), (2732, 0.006679942383222694), (1425, 0.006676870511132637), (3452, 0.00666876449384652), (283, 0.006661676802997868), (1819, 0.006661435827691112), (4210, 0.006658795550928385), (1555, 0.006656760608439849), (1433, 0.006653350630099636), (131, 0.006651001998013721), (4591, 0.006650530772256953), (2184, 0.006643509282351941), (3342, 0.006638909277163166), (868, 0.006638899940989039), (311, 0.0066383304861760565), (1306, 0.006634365348775323), (2335, 0.006623655924668327), (758, 0.006616144585585), (744, 0.006609967475879832), (1760, 0.0066090480315779306), (1448, 0.006607972586302011), (1908, 0.006597058660502844), (4282, 0.006582495300381381), (4001, 0.006577069524548823), (3926, 0.006575565610042868), (3460, 0.006575293328783014), (1374, 0.0065703979358204025), (3876, 0.006563963640057143), (4099, 0.006562751878749881), (1172, 0.006562436771513315), (4738, 0.006562031725384386), (3033, 0.00656143748150691), (1462, 0.006559379435809105), (1644, 0.006558219399207338), (1501, 0.00655759657071266), (1345, 0.0065509234136658274), (910, 0.006546638800804234), (2324, 0.006546166653767278), (3594, 0.006539871717148309), (745, 0.0065377069603310516), (863, 0.006535946681235271), (1065, 0.006535417822450328), (22, 0.00651832757149033), (1238, 0.006517587385582889), (122, 0.0065135506239126385), (834, 0.0065119420287227505), (996, 0.006510843401355896), (2503, 0.006510362408982171), (3474, 0.006497699914732971), (1692, 0.006496370588431404), (1892, 0.006493323473862622), (1987, 0.006492217369211328), (1867, 0.006483908056539938), (608, 0.006482377813252725), (1329, 0.006479543888064386), (1913, 0.006478081222935035), (3705, 0.006468944026979516), (1849, 0.006462482310903227), (4154, 0.006461942174945884), (1964, 0.006461932018111247), (2031, 0.006453175549998006), (563, 0.006448537109309245), (581, 0.006440623294100469), (3842, 0.006437571042867493), (981, 0.006433122719372889), (804, 0.006432151087480164), (1094, 0.006425650515851374), (3288, 0.006423405122592901), (3066, 0.006414762637107579), (3841, 0.0064117090094482935), (2424, 0.006410567825553075), (2239, 0.006398111968218074), (230, 0.006394183591997741), (2580, 0.006385044780031433), (1414, 0.006378689811214356), (1816, 0.006375553346139509), (940, 0.006370875107449393), (4367, 0.006362612386948832), (2724, 0.006354092660303779), (1267, 0.006345548712105603), (2095, 0.006340811314014147), (4217, 0.0063387875026320135), (4661, 0.0063294919124721495), (2056, 0.006326631766185276), (3998, 0.006324768501592969), (521, 0.006320921575312854), (4564, 0.006320803089554709), (200, 0.006317612284159944), (4459, 0.006316717962714711), (1608, 0.006312322231655674), (2833, 0.00630330477759729), (4303, 0.006302717910904423), (497, 0.0062863597682323155), (1552, 0.006275545469947418), (3910, 0.006274339153572962), (1526, 0.006274003215171162), (3309, 0.006265036951881207), (4432, 0.006259055449409207), (300, 0.006255311189467946), (4691, 0.006248858388868653), (4666, 0.006246539234530124), (1327, 0.006241956257486742), (3458, 0.006235684571501694), (2388, 0.00622899134789625), (1818, 0.006222019095273654), (1664, 0.006217144754900061), (1213, 0.006213181810609136), (263, 0.0062096503096037365), (835, 0.006207877394789377), (1797, 0.0061996173486110195), (3864, 0.006196292086192719), (2202, 0.006182394941246958), (1307, 0.006178629666845839), (2160, 0.0061770878671140745), (642, 0.006176613445581014), (3566, 0.0061626639372945905), (862, 0.006161657592980232), (861, 0.006145991358806023), (2205, 0.006140055638516893), (1903, 0.006139334676876918), (1746, 0.006127734638138645), (3909, 0.006125811289157019), (1939, 0.0061240783210446586), (3721, 0.006121556713310682), (568, 0.006089286720586349), (1627, 0.006087936410014649), (9, 0.006075828686028814), (248, 0.0060727978581684465), (4236, 0.006071288936832992), (4009, 0.006065871212865581), (3114, 0.00606498079386409), (2175, 0.0060613995297080035), (35, 0.0060581174852089), (1356, 0.006052483806988759), (4342, 0.006048527830867267), (617, 0.006036684608339063), (3975, 0.006013661032582721), (3244, 0.006012974412244662), (821, 0.006012683683407), (2203, 0.006008105786383101), (4537, 0.00600568300472494), (958, 0.006001242336893325), (4733, 0.0059665533777458), (2355, 0.005962040724005924), (16, 0.005960607396343428), (3331, 0.005958515010033624), (3715, 0.005953837337249255), (583, 0.0059523268083488045), (3658, 0.00594213792758209), (4219, 0.005931915092973305), (1214, 0.005929913929160048), (3825, 0.005927671217231039), (4055, 0.005921166659110751), (2058, 0.005918459692534257), (2426, 0.005907112739157795), (1316, 0.005907101420132071), (1981, 0.005905601624630257), (4646, 0.005882947361283956), (2185, 0.005881846769872645), (1715, 0.005879131370930073), (4464, 0.005866343180844627), (3865, 0.005853995540923438), (2156, 0.0058460872158321055), (4057, 0.005835305633453929), (4047, 0.005831618019992751), (2935, 0.005829456386553241), (4110, 0.005826872605012063), (3598, 0.00581161292706977), (3844, 0.005781985269657228), (4208, 0.005773493512131341), (953, 0.005756421937673414), (1684, 0.00575055793968186), (4674, 0.005743307933289462), (3049, 0.005729618588111411), (1344, 0.005718614154553434), (4385, 0.00571097676231024), (3509, 0.005696135134915508), (3748, 0.005680720145351435), (3588, 0.005669433442512668), (1863, 0.0056686954038999236), (2328, 0.005663592685418085), (3391, 0.005655985968858646), (4653, 0.00564163155833405), (3942, 0.00562529483592975), (2291, 0.005625092402087647), (3744, 0.005614614069994444), (2098, 0.005613029722686767), (4518, 0.0056001713372558996), (177, 0.005596950944960781), (3448, 0.0055965798416332275), (3502, 0.0055825265073112095), (4514, 0.005580653371720075), (3752, 0.00557762174191232), (4698, 0.0055637921729217435), (3164, 0.005559628748679904), (1941, 0.00552326632584621), (571, 0.005512137972587133), (512, 0.005484474988787779), (2567, 0.005475956832695783), (4642, 0.005445659370678632), (2273, 0.005445358014824878), (562, 0.005423956377582744), (4285, 0.005415047111067978), (369, 0.005413255679377677), (2665, 0.00540577575092033), (3940, 0.005400271174304958), (1940, 0.005392914450382175), (2439, 0.005390288281066806), (3022, 0.0053679796207178184), (3440, 0.005359996912727463), (4726, 0.005354557851618203), (2809, 0.0053398060704116295), (4331, 0.005314679312563479), (1695, 0.005314302952442836), (4162, 0.005310633530131382), (4527, 0.0053054174209496464), (380, 0.0053008539547485896), (1381, 0.005295429100893553), (3117, 0.005288227731095847), (1453, 0.005282731020389084), (855, 0.005268833017991668), (4261, 0.005247305587634177), (2774, 0.005243307761923613), (2181, 0.0052380358446777325), (477, 0.005236791608852772), (425, 0.005234247839026053), (2576, 0.005220475305202086), (4462, 0.005212109826630412), (2022, 0.005204964180473137), (3168, 0.005195674633993829), (666, 0.005192916916736786), (2700, 0.005183547292063965), (4307, 0.0051803120350525245), (3158, 0.005171786751314767), (4630, 0.00516753912534725), (168, 0.0051602298144695575), (1158, 0.005154513012072216), (4120, 0.005142913624300544), (4043, 0.00514269674545968), (1332, 0.005140411881590919), (1962, 0.005139355179408205), (2113, 0.005137874544878056), (1391, 0.00513700339089759), (4515, 0.005134852033345962), (3180, 0.005133105575999054), (4119, 0.005128805193412154), (2733, 0.00512572638858989), (2683, 0.005123491408098076), (687, 0.005119907755328597), (128, 0.0051160805784799005), (2231, 0.005099091382601142), (550, 0.005095999494393042), (1554, 0.005080784613957381), (2314, 0.005076212937706028), (595, 0.005071160168153301), (4091, 0.005070010109269584), (3604, 0.005067462692122109), (69, 0.005066246182114847), (2626, 0.005057705187405454), (1167, 0.005055120343723598), (3802, 0.005052053375311197), (3787, 0.005051844459159095), (802, 0.005048705993091666), (831, 0.005048184162858082), (102, 0.005041378147581851), (4240, 0.0050376438689202505), (3263, 0.005026501616950384), (3163, 0.00502224911327732), (1829, 0.0050214215439091416), (513, 0.005016136655076276), (514, 0.005004131956061587), (303, 0.005003316178676498), (3938, 0.005003205705527151), (2136, 0.0050008790876138005), (4595, 0.004992654293383984), (2599, 0.004987188835747639), (2084, 0.0049788491837118795), (1150, 0.004974546585233512), (3468, 0.004972442070408584), (4090, 0.004972072224789034), (4076, 0.004969860141750222), (1661, 0.004968686515388494), (1724, 0.004967450020591534), (1952, 0.004966888265409118), (6, 0.004964719261560631), (420, 0.004961516237789198), (3584, 0.004955131362968972), (4312, 0.004954271849196962), (3451, 0.004944925892446923), (3782, 0.004942289872385327), (4373, 0.004941708118460421), (3774, 0.0049409951922840395), (1575, 0.0049402720917831305), (3131, 0.004937012546168667), (1614, 0.00493668620552214), (992, 0.004936555922330533), (1732, 0.004931760665120943), (414, 0.004929556296587875), (3438, 0.004924348118460936), (1659, 0.004918042940270682), (2283, 0.004917453834071954), (1280, 0.004913913474765976), (4719, 0.004913744632844538), (3997, 0.004912372550028778), (1791, 0.004912206344103636), (3710, 0.004904873871881211), (2044, 0.0049015110126798475), (239, 0.004894324651534151), (2208, 0.0048908206027751915), (1426, 0.004888162035669361), (3897, 0.004888136391154098), (4384, 0.004887395747293326), (2819, 0.004883838961976753), (3205, 0.004883185563060337), (1904, 0.0048798898237699916), (220, 0.004878515423597653), (1452, 0.004877359195952701), (765, 0.0048764779837910995), (1531, 0.004874341339683662), (1502, 0.004872631630776047), (2330, 0.004868824612496972), (1380, 0.0048667537768168675), (1859, 0.004865705511407602), (891, 0.004860406633660755), (1975, 0.004859008890104321), (4392, 0.004858869039280729), (2959, 0.004857782392036435), (1449, 0.0048567509820071205), (2790, 0.00485080709069151), (561, 0.004840275825407747), (320, 0.004835654378988935), (3513, 0.004833529224958838), (2064, 0.004832515951738518), (4639, 0.004827896874058334), (1881, 0.004826771279841946), (3769, 0.004823473069640812), (1588, 0.0048207959603960415), (4621, 0.0048204750255679794), (2015, 0.004818206726118679), (3134, 0.004815628040906632), (4586, 0.004802995440825156), (27, 0.00479292508663117), (793, 0.00479206751559909), (3124, 0.004790039825221754), (3907, 0.0047873977458993385), (4275, 0.0047840450116637045), (4552, 0.004782937503052692), (3995, 0.004782918694170827), (189, 0.004778037309534107), (1469, 0.004777222258029788), (3398, 0.004757520371590471), (3191, 0.00475065479542049), (95, 0.004745728592617813), (685, 0.004740331772362674), (3179, 0.0047377936162793345), (4377, 0.004735012960596698), (118, 0.004734899919912577), (902, 0.00473376716889423), (4251, 0.004730422256573652), (2947, 0.004729646641284114), (1901, 0.004728230182079872), (4376, 0.004725465948119756), (1431, 0.004724570253248521), (1435, 0.004717297161558464), (4678, 0.0047164277880471055), (2960, 0.004706488480954462), (336, 0.0047061107193377095), (3815, 0.0047039942482993554), (1587, 0.00469672744462328), (3404, 0.004694585860069698), (919, 0.00468830883586947), (3576, 0.004686408721699831), (3833, 0.004685726142851507), (2278, 0.004681399687599573), (3932, 0.004679244099162002), (811, 0.004678327852827551), (3908, 0.004674286807960299), (2991, 0.004673220526106927), (3520, 0.004671034382469687), (1998, 0.004666130432436928), (2130, 0.004664657065509676), (1930, 0.004664307755741686), (3005, 0.00466401135854948), (30, 0.004649969542452416), (4103, 0.004639784728170557), (4360, 0.004638585616125247), (451, 0.004634435162359304), (39, 0.004631570917264915), (4383, 0.004630425737832128), (347, 0.0046300764338442785), (2506, 0.004628137848432687), (315, 0.004626817623714663), (3367, 0.00462193723432552), (4310, 0.004618621886371571), (1566, 0.004614798722416453), (849, 0.004611546765731095), (135, 0.004610470717121074), (305, 0.004605511226088799), (2246, 0.004602480053510158), (389, 0.004593360550753845), (460, 0.00459290083608793), (619, 0.004591959269492988), (4248, 0.004586411016467143), (3432, 0.0045793679849906775), (4708, 0.004575418565359401), (4665, 0.004575287980149253), (375, 0.0045601837895567435), (4744, 0.004555700234484428), (233, 0.004554319062353291), (3161, 0.004551462047176448), (2847, 0.004551287024062676), (3443, 0.004550538838479348), (467, 0.004548848376064198), (4264, 0.0045446204371539485), (1573, 0.0045442556452648985), (1857, 0.004541891771590281), (3602, 0.0045372997700755075), (1127, 0.004536083472593736), (634, 0.004532680211581933), (1082, 0.0045313321856508895), (4211, 0.00452933551189308), (927, 0.004526085282660265), (1635, 0.004525246200972134), (633, 0.004519475706894791), (1622, 0.004518256964439496), (90, 0.004511519636707322), (2232, 0.004507767083650593), (4039, 0.004497886733621626), (1933, 0.00449781905799969), (1846, 0.004485379171908438), (1953, 0.004483108352975232), (152, 0.004481005108434727), (3583, 0.0044784535134185), (3555, 0.0044708681326777145), (1347, 0.004457083374857694), (3011, 0.004454800183359448), (2432, 0.004447715910027843), (2245, 0.004443299791427758), (3664, 0.00443484092030298), (310, 0.004433187267054585), (3886, 0.0044314392238196205), (1632, 0.004424223908118782), (4438, 0.004423883712803827), (3126, 0.004418982142934435), (93, 0.004418840794536373), (3970, 0.004413431013321283), (1633, 0.004408616695424004), (1207, 0.0044080331322181865), (1993, 0.004405774264202949), (3824, 0.004403324848557071), (3881, 0.00440019195175711), (4587, 0.004397547026264118), (2711, 0.004390528609083117), (2787, 0.004387639112358658), (4441, 0.004383197395134182), (1631, 0.004377888998566407), (260, 0.004376980797247938), (1428, 0.004373432751383414), (1211, 0.004372001995865972), (3361, 0.004367768306667946), (4071, 0.004365872455354256), (4151, 0.004358573334327107), (3723, 0.004354600220009082), (4292, 0.004347324574780403), (3823, 0.004338686225894137), (3133, 0.004336950850863178), (1914, 0.004336039859985765), (1451, 0.004334338509405417), (2139, 0.004330646268013207), (661, 0.004328658170343762), (3135, 0.004318220849563468), (4585, 0.004317819406069579), (974, 0.004316587566507271), (426, 0.004315974965897642), (3788, 0.004312465062431271), (810, 0.004311155498916548), (3100, 0.004310013838535995), (4328, 0.004309347521446515), (2682, 0.004305164700303126), (3966, 0.004303565588698362), (3136, 0.004303556030469461), (3338, 0.004293115678455459), (690, 0.004292793619524335), (2442, 0.0042905363933839315), (1480, 0.004289132524474602), (4697, 0.004287984216865141), (2660, 0.00428718385190048), (3143, 0.004285766241948728), (316, 0.004274333807183495), (1562, 0.00427392318208252), (1623, 0.004272864987382942), (3079, 0.004252652984856597), (306, 0.004251437521853927), (1197, 0.0042424188202834666), (94, 0.004236879074695134), (2984, 0.004236246952475966), (4274, 0.004230776280506062), (80, 0.004226653112371987), (4322, 0.004225051208069549), (397, 0.004216780370272854), (4339, 0.004214004459859566), (1281, 0.004209158798174978), (1840, 0.004197542929010782), (4193, 0.0041959361016616695), (1784, 0.0041898743796854), (3534, 0.004189488934407768), (4044, 0.004186638300046611), (3247, 0.0041724248123209745), (4290, 0.004163246875368998), (893, 0.004159799306080647), (898, 0.004152735070219333), (997, 0.0041492847671873116), (2678, 0.004131637738624133), (323, 0.004127232358143418), (932, 0.004124162315226605), (803, 0.004120749244755375), (191, 0.004116864511359973), (4582, 0.004115861769246535), (1154, 0.004113210419394421), (559, 0.004110884657843901), (3495, 0.0041019728090436105), (611, 0.004075734376969202), (4365, 0.004064157582140783), (2299, 0.004056622113362604), (3160, 0.004053078571106192), (756, 0.0040518019330569935), (3619, 0.004048093879137459), (187, 0.004046897371282231), (4571, 0.004030857300595598), (1925, 0.004028322242563564), (4468, 0.004027792981236371), (1590, 0.004023404587507122), (3178, 0.004007261481661032), (1772, 0.004003850742863733), (1559, 0.003993164338929318), (1699, 0.003990363923790213), (4426, 0.003979373863168686), (3339, 0.003970879441299586), (625, 0.003970557643251554), (234, 0.003970290020150292), (1546, 0.003969394968882899), (1753, 0.003965939805057766), (2801, 0.003958251209419109), (3776, 0.003951802329823379), (1309, 0.0039424444573518125), (1120, 0.00393414350639377), (3405, 0.003921936609161376), (2541, 0.003914860193400711), (723, 0.0039059379039646388), (1458, 0.0039055769361765864), (1910, 0.003898129947279306), (639, 0.0038947786530188757), (3806, 0.0038927395984268242), (3512, 0.003889858050436961), (2757, 0.003881783413037973), (314, 0.003868235587378317), (640, 0.003861475702886053), (3484, 0.0038373745690224977), (4555, 0.0038230115268632387), (4513, 0.003816891168057483), (469, 0.0038132926137805848), (2998, 0.0038066964206415563), (738, 0.0037999799609455946), (2573, 0.0037821622259310564), (3925, 0.003776375745618464), (76, 0.00376433795048116), (290, 0.0037631302042346474), (295, 0.0037629948416696896), (1164, 0.0037519407836058443), (3944, 0.003719205414446996), (3989, 0.0037175279424554947), (1395, 0.003713463768279834), (289, 0.003700920582472791), (1576, 0.0036959244187825726), (4607, 0.003683615595661366), (2529, 0.003681855876849656), (294, 0.0036728324699961995), (2078, 0.0036696070702431087), (2379, 0.0036600411214509562), (2490, 0.0036562275100431685), (2937, 0.0036426039416414505), (3523, 0.0036367460772101768), (4705, 0.0036266978734747603), (2326, 0.003623283284563067), (3051, 0.00361747632391704), (2764, 0.003614421124095596), (3672, 0.0036048036275453292), (2137, 0.003595551485703433), (2858, 0.0035955144498697857), (3139, 0.0035912325443885834), (4082, 0.0035779806767918727), (2189, 0.0035608383249221076), (2722, 0.0035586283027761786), (4202, 0.0035464524681036104), (3040, 0.0035400418325508922), (2989, 0.0035349558564713793), (2251, 0.003528931129185891), (3166, 0.0035180428513534373), (2349, 0.0035111730054264777), (1145, 0.0035078057323266088), (2407, 0.0035053570054155857), (3990, 0.0035012873812721645), (2889, 0.0034919788207026406), (2537, 0.003480177562619098), (77, 0.0034772026648120066), (3052, 0.0034652712289531848), (735, 0.0034640042169773676), (4704, 0.003461394843111309), (3055, 0.003451894890640579), (2404, 0.0034498635913775585), (2775, 0.0034438391148148982), (4017, 0.003442629449346551), (3561, 0.003438979683468611), (3042, 0.0034369604876670974), (3030, 0.003436321263359603), (627, 0.003435264934354816), (2870, 0.003434971486186327), (2883, 0.0034327120780844786), (2923, 0.003418182695568109), (3291, 0.003408272713082332), (2731, 0.00340514284677463), (4222, 0.003401689052920654), (4529, 0.0034007433580452487), (2310, 0.003391827908156935), (4221, 0.003389118373102822), (3479, 0.0033868603342598713), (4484, 0.0033825015703950506), (4611, 0.003381156554016577), (3939, 0.0033787130144427853), (2673, 0.0033738422172975833), (2861, 0.0033626077732508124), (1210, 0.0033547128103041156), (4172, 0.0033539650524771064), (2559, 0.0033350421281434523), (3878, 0.0033340984068686193), (4418, 0.0033313957084914305), (2832, 0.0033292163778013513), (4696, 0.0033216150708045397), (2628, 0.003320790661906304), (4407, 0.003316296364739097), (3219, 0.003314956099492906), (2448, 0.0033132056543160207), (3292, 0.003310144977857053), (3762, 0.0033032469282573904), (2199, 0.0033023661645080822), (2392, 0.003300747760801657), (3892, 0.0032977616939394425), (4423, 0.00328901783931558), (3282, 0.003288988897392127), (2425, 0.0032874678097511755), (2643, 0.003280867004971939), (4019, 0.0032757173473315616), (2257, 0.0032661324501727733), (889, 0.0032650157214999193), (3322, 0.0032649238489678317), (3262, 0.003263737628289622), (2350, 0.0032591878779827453), (2901, 0.0032561716718112663), (4230, 0.003250374296639226), (4142, 0.0032429655887587752), (2286, 0.0032420696087378884), (2838, 0.003242025586411955), (1153, 0.0032352223242597916), (1208, 0.003234196268817834), (4400, 0.0032337238822411603), (4102, 0.003221086701517574), (3848, 0.0032177738974575646), (3015, 0.003214682215831236), (4606, 0.0032117216006529344), (3128, 0.003197556467756254), (3239, 0.0031968063010481313), (2423, 0.0031963743563923025), (3140, 0.0031924212400380792), (526, 0.0031901146513899988), (3354, 0.003189434107783659), (475, 0.0031819709139851863), (1711, 0.00318094635836336), (1121, 0.003178550412505129), (3687, 0.003168501372964184), (4692, 0.0031667370380616382), (4521, 0.0031663229880766323), (3363, 0.003163633281026694), (4544, 0.0031606349429875737), (3616, 0.003154519588501942), (3357, 0.0031535974650587118), (2834, 0.003146960696434314), (2557, 0.0031452673598957124), (2438, 0.0031400106581977285), (3537, 0.003139834969086648), (3159, 0.003139654284933792), (3429, 0.003137283431542703), (4306, 0.0031358576238944068), (3577, 0.0031351403033116577), (4107, 0.003132121523215943), (3922, 0.003131600370719592), (2857, 0.0031311665656706526), (3613, 0.0031289686515370238), (2266, 0.0031228917350261446), (4572, 0.003113497589081583), (4298, 0.003112010941227746), (326, 0.0031069751504844817), (3074, 0.0031056679346515717), (2797, 0.0031043286006467706), (2957, 0.003103627430675118), (3874, 0.0031007550650905004), (2488, 0.0031005417934458213), (3031, 0.0030988771408304925), (3832, 0.0030969107359465585), (4723, 0.0030935978103759313), (2848, 0.0030926975524480276), (3302, 0.0030907710431566362), (3620, 0.0030890552569014873), (4147, 0.0030887012489569004), (3544, 0.003087411631393899), (2966, 0.0030837988884880488), (3358, 0.003079991641173294), (3020, 0.0030797137071707325), (2415, 0.0030781923061883594), (1593, 0.003069990078254939), (3206, 0.003069225620248232), (2454, 0.0030629103586015762), (3257, 0.00305653066726399), (2619, 0.0030551156720080787), (777, 0.0030491647165416056), (3413, 0.003047291751971641), (1168, 0.0030465706471702906), (2993, 0.003041830720924062), (2895, 0.003036436589103426), (489, 0.003035003299923228), (2434, 0.0030327101891109987), (3911, 0.0030308153813618714), (4458, 0.0030222090293774047), (1049, 0.0030079851920682887), (4280, 0.0030057458790461477), (2772, 0.0030048324262653458), (3308, 0.0030034738059568893), (2986, 0.003000645209538424), (4717, 0.002995380388358431), (2738, 0.0029938675418817924), (431, 0.0029916929067447676), (3763, 0.002989933012863385), (3935, 0.002989221150606903), (4632, 0.002988969868300242), (2613, 0.0029884271789779975), (4416, 0.0029857141290288154), (2378, 0.0029852276769483355), (3081, 0.002985214844754427), (3621, 0.002985155964003424), (2570, 0.002984561570774713), (3745, 0.0029843264224973316), (4584, 0.002981299993716542), (4633, 0.0029811127478967777), (1792, 0.0029803126141638285), (4694, 0.0029801305079396453), (1187, 0.0029800847636325505), (4145, 0.0029800401945281572), (2707, 0.0029772505050016567), (518, 0.002973674575950578), (2720, 0.002973201766869646), (1748, 0.002970066728635172), (4030, 0.0029691526576370113), (1169, 0.0029691465010494153), (4589, 0.00296910069944998), (4075, 0.00295995654098772), (2142, 0.00295879144472796), (3540, 0.0029584420849277536), (1547, 0.0029546316853414603), (3359, 0.0029522434481411776), (4126, 0.0029519034795314663), (3884, 0.0029514840769090584), (2544, 0.002951452319425168), (2320, 0.00294883588922323), (3072, 0.002948473954987451), (2696, 0.0029481538009263333), (3307, 0.0029467384755531385), (4002, 0.0029459264154079196), (1947, 0.0029441328708469106), (2269, 0.0029427674691634253), (3754, 0.0029415751334756555), (2924, 0.0029412862990187633), (3729, 0.002939715706923941), (3425, 0.002938285588785171), (4713, 0.0029365698467065508), (2884, 0.0029285040439907756), (3364, 0.002928343511227427), (2987, 0.0029283103845066704), (3419, 0.002927656400628453), (448, 0.0029275063187594263), (3337, 0.0029271900140469226), (3506, 0.002925917277564067), (3396, 0.0029256309353680164), (3230, 0.002925180822199736), (3866, 0.0029243282476095317), (4650, 0.0029233093766469253), (2872, 0.002920201168524516), (3355, 0.0029185962340368267), (4369, 0.0029181472592923734), (925, 0.00291682267944577), (508, 0.0029160571205629816), (4507, 0.002914070452022372), (3165, 0.002913629933257914), (2478, 0.002912233035099831), (4267, 0.002911641861828628), (4516, 0.00290905320542948), (614, 0.002908759553428204), (1656, 0.0029084621817631016), (3952, 0.0029080876623445865), (3639, 0.002903333323401081), (2796, 0.0029027417561925885), (985, 0.0029021897722316453), (3651, 0.0029016612322593253), (2702, 0.0028985744158802956), (4295, 0.002895384242583907), (1497, 0.002894466647830362), (739, 0.0028939023980349256), (4117, 0.00289241082153843), (4243, 0.0028878558995519897), (3772, 0.00288701404719488), (3296, 0.0028845147818241774), (2223, 0.0028827640299131847), (3611, 0.0028821592392893835), (2302, 0.002881478242586523), (2629, 0.0028792982310835886), (2437, 0.002879273504551976), (1909, 0.0028778398463881927), (998, 0.00287605804692296), (3186, 0.0028760320853788227), (1887, 0.0028750905203887302), (999, 0.0028736437545156565), (2411, 0.0028723959519005994), (3148, 0.0028722409890823333), (2623, 0.002871721601539106), (478, 0.0028699830621739873), (2400, 0.0028689587115184496), (2914, 0.0028660431187533517), (235, 0.0028635868753648145), (3013, 0.0028618109881197525), (576, 0.0028596038516995317), (3274, 0.0028583223988395265), (419, 0.0028570526526054516), (1349, 0.002856336492611465), (3587, 0.0028563335493269172), (4333, 0.0028543148299365836), (4368, 0.0028512074095766874), (813, 0.002849105215319255), (3962, 0.0028487403608232313), (2974, 0.002848086691420826), (3560, 0.0028474857038248364), (922, 0.0028462569273355696), (4718, 0.002844734993959239), (596, 0.0028423730737058817), (2916, 0.0028413937894003092), (1862, 0.002841254961315221), (1594, 0.0028400322131227145), (3414, 0.0028397111888560536), (4535, 0.002839541221996147), (2134, 0.00283694991842722), (308, 0.0028367450061546236), (2356, 0.0028360582785950574), (4401, 0.00283455256975591), (3593, 0.0028311064480580302), (3737, 0.002830230065798454), (4051, 0.0028301107205515245), (3804, 0.002829905134535626), (1474, 0.00282888053195296), (444, 0.0028264749994890742), (3877, 0.00282441833918003), (3273, 0.002824318666566569), (2585, 0.0028239371298665822), (2830, 0.002823191101194051), (4397, 0.002823163472733316), (41, 0.0028228785300201923), (3003, 0.002818002624144479), (4259, 0.002817905718980827), (4706, 0.0028177198021747383), (2108, 0.0028145629549200025), (1890, 0.0028127175650408975), (3062, 0.002812372324821853), (1109, 0.0028120828069079875), (4138, 0.0028120709166871457), (4113, 0.002811660019219652), (2535, 0.002807566602713779), (2592, 0.0028072087600682547), (3026, 0.0028030185670327857), (3101, 0.002802851524904621), (3967, 0.0028020299750558114), (4042, 0.0028017524019936205), (857, 0.0028014856502936642), (2176, 0.002800583594301889), (1580, 0.0027992392654003877), (2890, 0.002799217276809293), (2159, 0.0027971797880166327), (4263, 0.0027942645186666477), (3417, 0.0027939710655222987), (587, 0.002789886116416595), (3116, 0.002786539961295472), (476, 0.0027848025826004686), (3677, 0.0027839332276833697), (4446, 0.002782920268246209), (1479, 0.002781640642271239), (4308, 0.0027815230640468726), (1733, 0.002781487388564062), (2390, 0.0027799404008817274), (2410, 0.0027798225032133585), (3183, 0.0027779954738236926), (2624, 0.0027758495254066825), (253, 0.002773577805054222), (3234, 0.0027725923150484057), (4130, 0.0027725463404891936), (3714, 0.0027724593115820177), (3497, 0.002771963390828062), (4140, 0.002771751489034272), (318, 0.0027715067971310317), (4101, 0.0027690568399058703), (3813, 0.002767891995996982), (3749, 0.0027658530890080713), (1905, 0.0027658194310373205), (4732, 0.002765627647506377), (2293, 0.00276532248595497), (3044, 0.0027651044499033186), (1805, 0.002763668575631345), (3064, 0.002760217451031235), (499, 0.0027590538992814323), (887, 0.0027582005945398025), (3258, 0.002758001996271549), (2748, 0.0027577693875377356), (4087, 0.0027573599315564557), (2882, 0.0027566379248489164), (2507, 0.002755361327557064), (3915, 0.002755168970006699), (4528, 0.002754961736875327), (8, 0.0027548823624813415), (2595, 0.002751637388649263), (3889, 0.00275132797449327), (2888, 0.002748029677008784), (2705, 0.002746742853782314), (1959, 0.00274425399902679), (4545, 0.002744212545406419), (192, 0.0027439371429135782), (3269, 0.0027434347172961048), (4734, 0.0027414601205889796), (3449, 0.0027411456545570626), (3271, 0.002741137774303041), (3893, 0.0027403569505840314), (4024, 0.0027394345464370746), (3757, 0.0027365739831970853), (2190, 0.002734187763497613), (2776, 0.002731520930853572), (1518, 0.0027310385532398336), (1848, 0.0027306365456363775), (4132, 0.0027301631942084495), (1907, 0.0027299135089475964), (4161, 0.002729201731979272), (4657, 0.002728114503821596), (2475, 0.002727998104533), (1995, 0.002727713045573586), (4245, 0.0027257020583670117), (791, 0.002725285163784151), (4540, 0.0027251203537721072), (3184, 0.0027242434011841054), (2661, 0.002723198863465484), (3496, 0.002722687346091156), (395, 0.002721670169642964), (1637, 0.0027210233734102445), (3781, 0.0027174408509506747), (4495, 0.0027172657582062174), (4574, 0.0027160653543906077), (872, 0.002715804026445225), (4111, 0.002715409376697548), (2786, 0.0027151445687225383), (1683, 0.002714677615683768), (1409, 0.0027140336500665815), (2725, 0.00271314574176188), (2260, 0.0027131323571154835), (3873, 0.002712817367931959), (4680, 0.0027116352708889146), (2940, 0.002710988899192846), (4269, 0.002710248465368599), (3007, 0.0027094872651465124), (2391, 0.002709126440830478), (12, 0.0027090912444646884), (2393, 0.0027073589488500567), (2609, 0.0027055611367540885), (1324, 0.0027054030101357797), (3601, 0.0027048502635766605), (3235, 0.0027043031068555512), (4357, 0.002704253420205787), (2970, 0.002704102184130514), (2664, 0.0027038699412838354), (4355, 0.0027027752909523565), (4169, 0.002702093880514578), (3987, 0.00270197647856884), (2105, 0.002701106904202922), (3434, 0.0026986562206758134), (74, 0.0026982144928071384), (246, 0.0026975603892470516), (680, 0.0026973687100152756), (826, 0.0026952306476138903), (3590, 0.0026946965222654634), (623, 0.002694635646709245), (2821, 0.002693011556486258), (3678, 0.0026913923192659313), (4489, 0.0026906754351386035), (3084, 0.0026905155922350237), (4054, 0.002690246066183302), (4471, 0.0026896964399555873), (3314, 0.0026896562368749675), (612, 0.0026894607070615576), (2361, 0.0026894582477769817), (1896, 0.0026887360657925764), (456, 0.002687538342591896), (4505, 0.0026848997745710697), (4575, 0.0026842086926799043), (2288, 0.0026831308374061177), (2953, 0.0026827343711233243), (2792, 0.002682420777215974), (2755, 0.002682404761416066), (4286, 0.0026817242487021894), (2610, 0.002680872923330148), (4318, 0.0026805444422270497), (3037, 0.00267760215321646), (3406, 0.0026773810143771067), (1822, 0.0026770869586424566), (4, 0.002676741641980565), (1893, 0.002675508291993454), (4420, 0.0026749397560377145), (4566, 0.002674219451388669), (2878, 0.002674048138740403), (1916, 0.0026728898223094583), (783, 0.002672313319062457), (2385, 0.0026713514943111144), (1007, 0.0026706150154975706), (1670, 0.0026697565882376497), (3882, 0.0026696021959811554), (3187, 0.00266948082772908), (3388, 0.0026693561982251168), (178, 0.002668530036377302), (3654, 0.0026680145232789816), (1570, 0.0026678100046201142), (2419, 0.0026651204479563517), (262, 0.0026650822096615013), (3372, 0.002664239376637142), (3242, 0.002663228111287048), (4225, 0.0026627631790715578), (1402, 0.002659678104236848), (564, 0.0026575926501915797), (1439, 0.002656260786139867), (4497, 0.002655860164895465), (3493, 0.0026553858531405965), (4363, 0.0026542534185335556), (2083, 0.002654037184025995), (3150, 0.002653697806146215), (20, 0.0026530044838657067), (3770, 0.0026525861575274275), (2926, 0.0026524939703034675), (211, 0.002650940633362236), (1660, 0.0026497734216442037), (4448, 0.0026489850917881625), (4083, 0.002648583388077936), (3241, 0.002646504131270002), (3845, 0.0026457440131512767), (717, 0.0026455274045580615), (890, 0.0026452272671233065), (4419, 0.002644532055986048), (2561, 0.002644083980362063), (2531, 0.0026437033531340193), (23, 0.002643338847549239), (2370, 0.0026421681673811266), (3224, 0.0026411278800326098), (4136, 0.0026404856229363355), (1851, 0.002640090997581997), (3902, 0.0026392486278072514), (4361, 0.0026392286255933436), (884, 0.0026392059365777467), (2405, 0.002638401024979246), (2904, 0.002638209018481039), (3353, 0.002637457886765007), (2911, 0.0026369783347910142), (588, 0.002636254639449983), (1364, 0.0026341460616542286), (4625, 0.002633922479703713), (4262, 0.0026332495349149533), (987, 0.002630964823617919), (4079, 0.0026297044539074273), (2148, 0.002629402014420005), (2072, 0.0026288425067485803), (3920, 0.0026273102429688814), (11, 0.00262691743252904), (2319, 0.002625811919655668), (3517, 0.0026254133659847786), (1703, 0.002624923963088172), (4340, 0.0026238456199144406), (1765, 0.002622720061140784), (3527, 0.00262214261725643), (4334, 0.0026221405600788785), (4422, 0.00262128552286608), (4287, 0.0026200219760683123), (2863, 0.0026154903727163697), (3198, 0.002614214541108241), (3636, 0.002614181072374851), (377, 0.0026131335872377616), (1516, 0.0026125824448267427), (1717, 0.0026123746356574488), (3290, 0.002608564054627594), (1768, 0.002608378523987415), (4643, 0.0026078052368778675), (1946, 0.0026065002142100823), (871, 0.0026060850095206097), (2230, 0.0026051380180711), (2466, 0.0026051197677107217), (865, 0.0026045768521409615), (3016, 0.002604115264866454), (2894, 0.002603352568522052), (1294, 0.0026015522652949276), (4563, 0.0026002737037532156), (3289, 0.002599873267882632), (3225, 0.0025995873524024085), (3809, 0.002599039383124156), (71, 0.0025984840570045745), (1355, 0.00259803299312561), (3445, 0.002597595974245687), (3526, 0.0025960223871890693), (4273, 0.0025957851953606528), (3542, 0.0025953438969216003), (115, 0.0025935634194844443), (933, 0.002590408999035621), (1176, 0.0025895187462490195), (2386, 0.0025886134963145433), (969, 0.0025885953978610618), (3113, 0.002587465618228187), (3606, 0.0025864756118016575), (2073, 0.0025852567514258566), (4197, 0.0025841071547458216), (3182, 0.0025840308040832476), (3283, 0.002583550517517805), (2292, 0.002583053086938867), (1122, 0.002582520047964959), (3707, 0.0025818845993258333), (2397, 0.002579902941133831), (3792, 0.0025798255296946055), (2746, 0.002579131117706565), (2313, 0.0025754925045550674), (4049, 0.002574519803504972), (1204, 0.0025737664084751672), (198, 0.002573554944527777), (1533, 0.0025734777254873106), (2430, 0.0025732888609284635), (4135, 0.0025725452941292963), (579, 0.0025715525135902783), (1476, 0.0025688617653708335), (4014, 0.0025666411650901427), (2652, 0.002564626813784429), (1410, 0.0025640412312170767), (3739, 0.002563869372977274), (4391, 0.0025635136897035433), (4501, 0.002563034882751688), (1722, 0.00256172894547362), (3335, 0.0025610890331330266), (3551, 0.0025604350970936406), (1706, 0.0025599800375612), (4266, 0.0025598014547102386), (1574, 0.002559719488794914), (2396, 0.002559719232594161), (2554, 0.0025591316422471436), (848, 0.002558335629817354), (993, 0.0025553723997118537), (2192, 0.0025544184742126224), (2783, 0.0025531387815947845), (2169, 0.0025531203084402285), (2492, 0.002552193609858092), (504, 0.002552171968345235), (2533, 0.002551480426871012), (2826, 0.002550125338833704), (4604, 0.0025498720581547574), (2067, 0.0025490750759160326), (378, 0.002547502954853662), (3491, 0.0025467966867539723), (3564, 0.002546656206774722), (1131, 0.002545261045808532), (3341, 0.002543668985959193), (2340, 0.002543183801534866), (1170, 0.0025398060338109765), (2354, 0.0025394967746734096), (4686, 0.002539061868330615), (749, 0.002538544168171133), (114, 0.002538529703522522), (4330, 0.00253805140151113), (3478, 0.0025367934985776495), (2495, 0.0025367486150904995), (226, 0.002536599277109085), (1304, 0.0025353182907724738), (4427, 0.0025337073586213536), (1378, 0.0025326043326421746), (66, 0.0025319641992466576), (2195, 0.002530207829523784), (2387, 0.0025299049766839463), (4320, 0.002529880747060525), (2900, 0.002528632238991988), (2943, 0.00252764586179885), (3673, 0.0025258027481498474), (3216, 0.0025243551530955855), (2853, 0.002523817251534716), (4056, 0.0025231836626151377), (1163, 0.0025226243395743554), (2999, 0.0025222183658351474), (4409, 0.002521491435377671), (2289, 0.0025190817392671066), (4394, 0.0025172516843226128), (1298, 0.002516697972541326), (3441, 0.0025160655825822746), (3477, 0.00251518816808925), (1891, 0.0025143447213788576), (400, 0.0025134137573267564), (1072, 0.0025123687547433933), (490, 0.0025119861491244206), (348, 0.0025113104924149956), (4520, 0.0025111482325366457), (2060, 0.002510932679959165), (3565, 0.002510565793016409), (1831, 0.0025083117438891122), (466, 0.002507820947995172), (247, 0.0025069090213806844), (1411, 0.0025069034552865337), (3381, 0.0025062870083036276), (2569, 0.0025039975383813395), (1598, 0.0025018825091160293), (1666, 0.002501345549205218), (1550, 0.0025012483099619695), (4228, 0.002500407087378676), (1313, 0.0024998462055378632), (973, 0.0024989770659083195), (2416, 0.002498942248203721), (4487, 0.002498817237235911), (3173, 0.0024983881046195845), (3093, 0.0024965381936425893), (2946, 0.002496402664486173), (1100, 0.002494736489656506), (3906, 0.0024946603834587002), (3647, 0.0024944579194656944), (1110, 0.0024936419174172385), (169, 0.002492517470650274), (215, 0.002491004989601789), (1319, 0.002488874171897395), (4020, 0.0024887578311778577), (3557, 0.0024875809518446657), (1026, 0.002487416098025906), (3827, 0.0024871724439266304), (1286, 0.0024871280909956614), (3379, 0.002486312299519589), (1084, 0.0024856659397104394), (1882, 0.002484739703781173), (2111, 0.0024844878809292406), (98, 0.002484167579450015), (2945, 0.0024826725253160784), (26, 0.002482161269760257), (4530, 0.002480955564292477), (4687, 0.0024804344301909147), (2226, 0.0024803189971477207), (3220, 0.0024794105578830453), (4036, 0.0024787604360847993), (1617, 0.0024763952966570585), (3719, 0.0024760004960444294), (3706, 0.002475780187315917), (3069, 0.002474230894392132), (2909, 0.002473908557712475), (4743, 0.0024737399970248836), (3412, 0.0024728043734466285), (1350, 0.0024710817116524275), (3402, 0.0024707363554725224), (127, 0.0024699179651755127), (1422, 0.0024696150201178983), (1284, 0.0024679989688350845), (1408, 0.0024670669993922824), (755, 0.0024654230993874796), (2401, 0.0024651582710985952), (3765, 0.002464316817118226), (959, 0.002464126464317279), (3075, 0.002463781158329122), (1813, 0.002462666521756918), (2422, 0.0024625506256862753), (4183, 0.0024605658391605692), (349, 0.0024598247797449693), (2461, 0.0024596918499305495), (4381, 0.002459513436128688), (4573, 0.0024590746796298094), (4550, 0.0024581839102769155), (4693, 0.002457921756722749), (4129, 0.002455374424312247), (3348, 0.002454987531094543), (541, 0.0024539730340713065), (488, 0.0024536204693736768), (3890, 0.0024534416450440926), (4472, 0.002451863839475863), (2571, 0.0024510918793794853), (3298, 0.002450563166143708), (1247, 0.002450152885629975), (2268, 0.0024500405300755877), (4069, 0.002449888368661924), (1645, 0.00244979079753445), (4139, 0.002449732022549064), (3641, 0.0024492411998456205), (2612, 0.0024489557294917965), (1969, 0.0024475417708642476), (1463, 0.002445981592010511), (2642, 0.002444154979903761), (1597, 0.002443005489718847), (4461, 0.0024421395611580092), (3917, 0.002440133375429412), (646, 0.0024393309064953475), (3900, 0.0024390387916119363), (1117, 0.0024369263699172204), (4729, 0.002436688023764338), (2131, 0.002436261313572843), (3503, 0.0024325503227259453), (2117, 0.0024314543604302104), (1034, 0.0024292445411459632), (487, 0.002428406858278738), (1027, 0.0024257725522204994), (731, 0.002425622093351474), (2367, 0.0024236891401093964), (883, 0.0024235283745257657), (4536, 0.002423397911442021), (1416, 0.002423149860994398), (4155, 0.0024228712468591478), (2779, 0.0024215025361300764), (3214, 0.002421311038221518), (3268, 0.0024211706395962664), (854, 0.002420816736573535), (2141, 0.002420722389469275), (798, 0.0024206810442454524), (1877, 0.00242053698239348), (1744, 0.002419940779810924), (4567, 0.002419861331677402), (1929, 0.0024184782494503436), (3390, 0.0024170322271648836), (1002, 0.0024161775720232424), (157, 0.0024160234301880503), (1273, 0.002414411792373698), (3691, 0.002413344519022063), (4085, 0.00241331152702222), (3170, 0.002413309137842201), (984, 0.0024131963981660156), (4213, 0.002412198675129666), (2242, 0.002411133741456318), (221, 0.0024110756229565686), (2765, 0.0024110129998482287), (2068, 0.0024106248382975456), (505, 0.002409860804709301), (2965, 0.002409536666966656), (4428, 0.0024088177568829822), (2892, 0.002408074939200149), (4206, 0.0024076981407014056), (3898, 0.0024072327037058883), (4345, 0.0024058553949128257), (767, 0.0024054854967863947), (3799, 0.0024045112561034156), (373, 0.0024036927688715235), (2679, 0.0024004327867484803), (698, 0.002399978866891759), (2651, 0.0023987461831079335), (3646, 0.0023985265541848376), (1742, 0.0023984157862719374), (1404, 0.0023980629552325322), (2997, 0.002397670011396849), (325, 0.0023971329669548003), (1032, 0.0023960828902630502), (3014, 0.0023948279096132016), (388, 0.002394727438242496), (3194, 0.0023945194632242683), (2800, 0.0023942817695379523), (1036, 0.0023922197198893397), (3811, 0.0023910774471996676), (1663, 0.002389764265772941), (3615, 0.0023886952011948565), (2525, 0.0023885180864626366), (2166, 0.0023875531977041197), (2004, 0.002384313826044642), (3300, 0.0023839576953957014), (4011, 0.002382544378746649), (1693, 0.002382037821140943), (4254, 0.002381798059521199), (507, 0.0023817580694799004), (154, 0.0023807592788333437), (3057, 0.0023798143619469785), (1372, 0.0023793019051377975), (886, 0.0023782622791622306), (140, 0.0023763682528973773), (3071, 0.00237601599549392), (3243, 0.0023759539749746866), (941, 0.002375773973422763), (975, 0.002374875757921391), (4059, 0.0023723034870052973), (2552, 0.002371684420955791), (1884, 0.0023707492541289164), (2099, 0.0023707144762588135), (2634, 0.002370291246227567), (655, 0.0023689655920833257), (471, 0.0023686714575239802), (4634, 0.0023668364925044398), (229, 0.0023642047472585363), (2862, 0.0023639397522633044), (372, 0.0023636643993710776), (598, 0.002363565437478464), (659, 0.002362329935265262), (3725, 0.002362068026572103), (3147, 0.0023617537813022524), (944, 0.0023601645401541698), (2201, 0.002359956451465977), (410, 0.0023596789735116), (1558, 0.002357209001379595), (4356, 0.0023565161087874867), (2528, 0.0023560444379801472), (2446, 0.0023560208259790264), (1456, 0.0023537329412126017), (3500, 0.002353536478703738), (2907, 0.0023527026702214173), (1641, 0.0023522430840173733), (2556, 0.0023512921079399), (589, 0.002351024857100662), (399, 0.0023504957998513256), (2129, 0.002350430526196545), (2317, 0.0023473456852492703), (3627, 0.00234718763523622), (1642, 0.002347020293303283), (805, 0.0023457801424878037), (4616, 0.0023433400590324484), (136, 0.0023424495548269647), (2735, 0.0023419918524975134), (2399, 0.002341682120978594), (2593, 0.002340400043443562), (3369, 0.002339465166018327), (324, 0.0023383171388262638), (2482, 0.002338177984377662), (1357, 0.0023377820309473506), (355, 0.0023373127821983805), (1543, 0.0023366999975278006), (4479, 0.0023361719043084594), (1814, 0.002335787386509294), (2845, 0.002334902154469411), (4174, 0.0023343145258607986), (4348, 0.0023329759526090252), (907, 0.002332915792841503), (1079, 0.0023327880786218258), (2453, 0.0023313145440636827), (121, 0.0023305896955008332), (3455, 0.0023291581533964093), (457, 0.0023284358369388197), (524, 0.0023273653490786883), (359, 0.0023261003098852436), (4326, 0.0023257134365003568), (2674, 0.002324838501988096), (3050, 0.0023241462043678825), (4277, 0.0023235667934124564), (416, 0.0023222832726237587), (1672, 0.002321822921720919), (1628, 0.002320826522903085), (624, 0.0023203182763109446), (1782, 0.00231993801855232), (3742, 0.002317159972513963), (4620, 0.0023171458471597916), (2954, 0.0023161700049641686), (1434, 0.0023160233197884136), (4359, 0.002315717259110245), (4638, 0.002314130972440743), (3563, 0.0023117686319377843), (759, 0.002309599346717978), (2728, 0.0023086942798758578), (3953, 0.0023079190922033793), (3278, 0.002306751620420068), (1528, 0.0023041059904820855), (1503, 0.002300180884628672), (2402, 0.0022973325192624286), (3304, 0.0022968738514186774), (1869, 0.0022957623990042613), (473, 0.0022948006566341607), (3311, 0.002294723559090403), (3614, 0.0022943718708791846), (1827, 0.002294017968592749), (1826, 0.0022938876537086845), (2338, 0.002292011396407544), (1605, 0.002291870344734914), (1161, 0.0022898720956568306), (1719, 0.0022893323391152405), (2323, 0.0022892653985641435), (1366, 0.002287843379732015), (4350, 0.0022862895680532676), (4712, 0.0022850149792276557), (2741, 0.00228405363782175), (1080, 0.0022829221154272643), (4074, 0.0022829004199866683), (3986, 0.002282567434993338), (3336, 0.002281978623523976), (3027, 0.0022818677297344117), (2457, 0.002281296564221241), (1625, 0.0022811505013303375), (4143, 0.0022802275103952405), (3863, 0.002279610061231675), (722, 0.0022792362183650084), (4304, 0.002276818026112036), (2591, 0.0022759961602686193), (158, 0.002275452524008866), (1980, 0.002275402646999944), (1219, 0.0022753515686569346), (1808, 0.0022750176972205017), (3327, 0.002274639726283268), (4080, 0.0022739090570189757), (1004, 0.0022736545295731613), (2976, 0.0022721557261236544), (3795, 0.0022688233469577287), (594, 0.0022674929028694032), (1921, 0.0022670535336150608), (815, 0.002266018599761226), (856, 0.0022639689762435117), (2163, 0.0022635677605173155), (1318, 0.002262569606739555), (268, 0.0022622689471257095), (2213, 0.002262134394871934), (1392, 0.002255522421723931), (703, 0.0022533785415212526), (3380, 0.0022518403168983406), (1423, 0.002251440915332381), (132, 0.0022489233751096915), (1830, 0.002247812567014709), (1394, 0.0022473423039682293), (1954, 0.0022463755588129856), (1251, 0.0022443663407833167), (4343, 0.0022437834324925744), (495, 0.0022436501850380355), (3755, 0.002241926892041755), (2047, 0.002241804973446067), (712, 0.0022409023928180822), (1199, 0.0022379768555542356), (4220, 0.002237698754961657), (2502, 0.0022374808732399574), (184, 0.002233209283994238), (92, 0.002232618336926285), (605, 0.002232372251118264), (2753, 0.002231612098848259), (4247, 0.0022293932880584743), (1616, 0.002229374571767044), (4066, 0.0022277984088191413), (97, 0.0022261570565011457), (2240, 0.002226084993827913), (647, 0.0022258641397515386), (480, 0.0022256741378938547), (3894, 0.00222487060143365), (249, 0.002224439493005172), (1301, 0.00221571535496737), (4296, 0.0022095637267620307), (4473, 0.0022094493568974014), (1943, 0.002208089103071816), (2721, 0.0022039694324709736), (4429, 0.0022025281171953767), (1217, 0.0022021070982795655), (2520, 0.0021990446149611595), (2747, 0.002197349143774687), (103, 0.002197240088507873), (3211, 0.0021961053501467014), (165, 0.0021927344127994504), (2270, 0.002191715704766276), (357, 0.0021890560062665996), (1828, 0.0021887129245835085), (4386, 0.0021878188367847546), (1370, 0.002187315567338388), (1450, 0.0021852331208486917), (278, 0.002184104183515913), (3238, 0.0021828963013949217), (2527, 0.0021817366301587556), (3393, 0.002179891373763277), (2611, 0.0021763729243614235), (286, 0.002176132846889634), (3569, 0.002174791717455717), (2743, 0.00217467517757783), (4411, 0.0021733664849438415), (2382, 0.0021731191564474555), (4476, 0.0021707971344679653), (1088, 0.0021678875188270792), (2146, 0.0021678833005469456), (1691, 0.0021644755139397574), (432, 0.002157657264687222), (3200, 0.002155274814662151), (1352, 0.0021545498267255955), (1340, 0.002154331203020268), (2758, 0.0021533468790771925), (3855, 0.0021525503190357926), (3669, 0.00214984713956268), (267, 0.002149729923654874), (626, 0.0021496208099635416), (3668, 0.002146839160645121), (1565, 0.0021467849203430315), (951, 0.0021407326120379626), (3657, 0.0021402907895078016), (4636, 0.002139246487716936), (2039, 0.0021330734854514504), (707, 0.002132432189026508), (195, 0.0021322832417998744), (196, 0.0021305863785471453), (1801, 0.002130514942845812), (2127, 0.002129490448621263), (3347, 0.0021290519766525083), (3928, 0.002118903759972143), (1042, 0.0021186051150904237), (2132, 0.0021179111619618832), (2359, 0.0021167652666150938), (2287, 0.0021162384248043587), (1209, 0.0021139732315619037), (3252, 0.0021136693207462415), (3056, 0.0021014618244941437), (901, 0.002100697967033013), (3024, 0.0020984037986955116), (1305, 0.002096777487839328), (4200, 0.0020967334420729845), (2034, 0.0020898638111463536), (3548, 0.002085384664611821), (2509, 0.002084826630846407), (4015, 0.002083718128040616), (1427, 0.0020794930512143517), (1415, 0.0020785227263602304), (2526, 0.0020756302824938245), (645, 0.002071384581917924), (1624, 0.0020630242562274725), (4311, 0.0020609206457597525), (2441, 0.00205358895373931), (4626, 0.002050900379981166), (3575, 0.0020487676061100852), (3431, 0.0020370342176442425), (194, 0.0020354459671143156), (3538, 0.0020227465865242556), (2766, 0.00201264500296835), (1677, 0.0019958400865912516), (2010, 0.001994179536478847), (4598, 0.001990121426051078), (3301, 0.0019863632945185893), (1040, 0.001981316411836354), (3199, 0.001964295195754685), (607, 0.0019547708570014292), (3626, 0.0019453414536031257), (351, 0.0019334419217725484), (453, 0.0019326474421960758), (228, 0.0019211881568034367), (2636, 0.0019044354247534322), (4445, 0.0019043157572844205), (1277, 0.0018969310588431239), (3546, 0.0018924428691338472), (4301, 0.0018819746142858193), (2902, 0.0018658462759865192), (293, 0.0018028034339156937), (4171, 0.00179271839024649), (3365, 0.0017885788684720203), (129, 0.0017714031834387028), (740, 0.0017018213370374963), (3392, 0.0016851111558466695), (202, 0.0016645800267318322), (24, 0.0016566604493134796), (1780, 0.0016545691689785614), (3608, 0.0016522643526606928), (2534, 0.0011293143803617971), (1, 0.0), (2, 0.0), (14, 0.0), (17, 0.0), (28, 0.0), (36, 0.0), (37, 0.0), (49, 0.0), (53, 0.0), (54, 0.0), (55, 0.0), (58, 0.0), (59, 0.0), (64, 0.0), (73, 0.0), (91, 0.0), (100, 0.0), (101, 0.0), (117, 0.0), (133, 0.0), (134, 0.0), (141, 0.0), (146, 0.0), (150, 0.0), (151, 0.0), (153, 0.0), (163, 0.0), (171, 0.0), (186, 0.0), (188, 0.0), (205, 0.0), (214, 0.0), (219, 0.0), (223, 0.0), (225, 0.0), (237, 0.0), (245, 0.0), (258, 0.0), (259, 0.0), (264, 0.0), (265, 0.0), (272, 0.0), (275, 0.0), (297, 0.0), (298, 0.0), (299, 0.0), (302, 0.0), (312, 0.0), (319, 0.0), (331, 0.0), (335, 0.0), (337, 0.0), (338, 0.0), (339, 0.0), (344, 0.0), (352, 0.0), (361, 0.0), (362, 0.0), (365, 0.0), (366, 0.0), (376, 0.0), (379, 0.0), (382, 0.0), (390, 0.0), (391, 0.0), (392, 0.0), (393, 0.0), (394, 0.0), (401, 0.0), (404, 0.0), (405, 0.0), (411, 0.0), (415, 0.0), (423, 0.0), (427, 0.0), (439, 0.0), (440, 0.0), (454, 0.0), (484, 0.0), (486, 0.0), (491, 0.0), (492, 0.0), (498, 0.0), (506, 0.0), (516, 0.0), (517, 0.0), (520, 0.0), (525, 0.0), (528, 0.0), (529, 0.0), (531, 0.0), (535, 0.0), (536, 0.0), (546, 0.0), (548, 0.0), (549, 0.0), (552, 0.0), (554, 0.0), (556, 0.0), (557, 0.0), (565, 0.0), (567, 0.0), (569, 0.0), (570, 0.0), (572, 0.0), (573, 0.0), (574, 0.0), (575, 0.0), (577, 0.0), (585, 0.0), (591, 0.0), (592, 0.0), (599, 0.0), (601, 0.0), (602, 0.0), (603, 0.0), (610, 0.0), (630, 0.0), (649, 0.0), (650, 0.0), (656, 0.0), (658, 0.0), (662, 0.0), (663, 0.0), (665, 0.0), (674, 0.0), (679, 0.0), (681, 0.0), (686, 0.0), (699, 0.0), (700, 0.0), (702, 0.0), (704, 0.0), (708, 0.0), (709, 0.0), (711, 0.0), (713, 0.0), (714, 0.0), (718, 0.0), (720, 0.0), (724, 0.0), (725, 0.0), (726, 0.0), (730, 0.0), (736, 0.0), (741, 0.0), (746, 0.0), (747, 0.0), (751, 0.0), (754, 0.0), (764, 0.0), (770, 0.0), (771, 0.0), (772, 0.0), (773, 0.0), (780, 0.0), (781, 0.0), (784, 0.0), (785, 0.0), (786, 0.0), (789, 0.0), (797, 0.0), (807, 0.0), (819, 0.0), (820, 0.0), (822, 0.0), (837, 0.0), (839, 0.0), (840, 0.0), (841, 0.0), (846, 0.0), (859, 0.0), (881, 0.0), (882, 0.0), (892, 0.0), (909, 0.0), (912, 0.0), (913, 0.0), (914, 0.0), (920, 0.0), (926, 0.0), (938, 0.0), (943, 0.0), (945, 0.0), (946, 0.0), (950, 0.0), (954, 0.0), (955, 0.0), (956, 0.0), (960, 0.0), (961, 0.0), (964, 0.0), (965, 0.0), (971, 0.0), (972, 0.0), (977, 0.0), (978, 0.0), (982, 0.0), (983, 0.0), (990, 0.0), (995, 0.0), (1008, 0.0), (1010, 0.0), (1011, 0.0), (1013, 0.0), (1016, 0.0), (1022, 0.0), (1025, 0.0), (1028, 0.0), (1029, 0.0), (1031, 0.0), (1038, 0.0), (1039, 0.0), (1051, 0.0), (1055, 0.0), (1056, 0.0), (1062, 0.0), (1066, 0.0), (1067, 0.0), (1073, 0.0), (1081, 0.0), (1086, 0.0), (1089, 0.0), (1091, 0.0), (1093, 0.0), (1097, 0.0), (1101, 0.0), (1103, 0.0), (1105, 0.0), (1106, 0.0), (1108, 0.0), (1113, 0.0), (1126, 0.0), (1130, 0.0), (1133, 0.0), (1135, 0.0), (1139, 0.0), (1142, 0.0), (1143, 0.0), (1147, 0.0), (1149, 0.0), (1151, 0.0), (1155, 0.0), (1156, 0.0), (1159, 0.0), (1165, 0.0), (1166, 0.0), (1171, 0.0), (1178, 0.0), (1180, 0.0), (1189, 0.0), (1190, 0.0), (1193, 0.0), (1196, 0.0), (1198, 0.0), (1200, 0.0), (1201, 0.0), (1212, 0.0), (1218, 0.0), (1221, 0.0), (1222, 0.0), (1227, 0.0), (1228, 0.0), (1233, 0.0), (1235, 0.0), (1240, 0.0), (1242, 0.0), (1244, 0.0), (1246, 0.0), (1253, 0.0), (1256, 0.0), (1258, 0.0), (1263, 0.0), (1265, 0.0), (1268, 0.0), (1269, 0.0), (1271, 0.0), (1285, 0.0), (1287, 0.0), (1288, 0.0), (1289, 0.0), (1291, 0.0), (1295, 0.0), (1296, 0.0), (1297, 0.0), (1299, 0.0), (1315, 0.0), (1321, 0.0), (1322, 0.0), (1323, 0.0), (1326, 0.0), (1328, 0.0), (1333, 0.0), (1336, 0.0), (1346, 0.0), (1353, 0.0), (1354, 0.0), (1368, 0.0), (1373, 0.0), (1390, 0.0), (1399, 0.0), (1424, 0.0), (1437, 0.0), (1441, 0.0), (1444, 0.0), (1447, 0.0), (1457, 0.0), (1459, 0.0), (1460, 0.0), (1466, 0.0), (1467, 0.0), (1468, 0.0), (1470, 0.0), (1473, 0.0), (1485, 0.0), (1487, 0.0), (1490, 0.0), (1491, 0.0), (1495, 0.0), (1496, 0.0), (1508, 0.0), (1511, 0.0), (1517, 0.0), (1520, 0.0), (1521, 0.0), (1522, 0.0), (1524, 0.0), (1525, 0.0), (1529, 0.0), (1532, 0.0), (1534, 0.0), (1535, 0.0), (1541, 0.0), (1545, 0.0), (1548, 0.0), (1549, 0.0), (1556, 0.0), (1557, 0.0), (1561, 0.0), (1563, 0.0), (1564, 0.0), (1569, 0.0), (1577, 0.0), (1578, 0.0), (1581, 0.0), (1584, 0.0), (1586, 0.0), (1589, 0.0), (1592, 0.0), (1596, 0.0), (1599, 0.0), (1600, 0.0), (1601, 0.0), (1602, 0.0), (1603, 0.0), (1604, 0.0), (1606, 0.0), (1607, 0.0), (1610, 0.0), (1611, 0.0), (1613, 0.0), (1615, 0.0), (1618, 0.0), (1626, 0.0), (1636, 0.0), (1638, 0.0), (1639, 0.0), (1640, 0.0), (1646, 0.0), (1649, 0.0), (1651, 0.0), (1668, 0.0), (1669, 0.0), (1673, 0.0), (1679, 0.0), (1686, 0.0), (1689, 0.0), (1697, 0.0), (1698, 0.0), (1700, 0.0), (1704, 0.0), (1709, 0.0), (1725, 0.0), (1726, 0.0), (1728, 0.0), (1729, 0.0), (1731, 0.0), (1734, 0.0), (1745, 0.0), (1751, 0.0), (1755, 0.0), (1756, 0.0), (1758, 0.0), (1766, 0.0), (1767, 0.0), (1769, 0.0), (1771, 0.0), (1775, 0.0), (1777, 0.0), (1778, 0.0), (1783, 0.0), (1785, 0.0), (1786, 0.0), (1794, 0.0), (1800, 0.0), (1803, 0.0), (1804, 0.0), (1810, 0.0), (1820, 0.0), (1823, 0.0), (1824, 0.0), (1825, 0.0), (1834, 0.0), (1835, 0.0), (1836, 0.0), (1839, 0.0), (1842, 0.0), (1844, 0.0), (1855, 0.0), (1856, 0.0), (1879, 0.0), (1883, 0.0), (1888, 0.0), (1889, 0.0), (1894, 0.0), (1898, 0.0), (1899, 0.0), (1912, 0.0), (1915, 0.0), (1917, 0.0), (1926, 0.0), (1928, 0.0), (1932, 0.0), (1938, 0.0), (1944, 0.0), (1955, 0.0), (1956, 0.0), (1961, 0.0), (1963, 0.0), (1965, 0.0), (1966, 0.0), (1972, 0.0), (1974, 0.0), (1978, 0.0), (1979, 0.0), (1984, 0.0), (2001, 0.0), (2002, 0.0), (2003, 0.0), (2006, 0.0), (2007, 0.0), (2009, 0.0), (2017, 0.0), (2019, 0.0), (2021, 0.0), (2025, 0.0), (2028, 0.0), (2030, 0.0), (2032, 0.0), (2033, 0.0), (2036, 0.0), (2038, 0.0), (2041, 0.0), (2042, 0.0), (2043, 0.0), (2046, 0.0), (2050, 0.0), (2054, 0.0), (2059, 0.0), (2063, 0.0), (2071, 0.0), (2079, 0.0), (2081, 0.0), (2085, 0.0), (2086, 0.0), (2090, 0.0), (2092, 0.0), (2106, 0.0), (2107, 0.0), (2115, 0.0), (2118, 0.0), (2120, 0.0), (2124, 0.0), (2125, 0.0), (2128, 0.0), (2135, 0.0), (2138, 0.0), (2140, 0.0), (2150, 0.0), (2152, 0.0), (2153, 0.0), (2164, 0.0), (2165, 0.0), (2168, 0.0), (2170, 0.0), (2171, 0.0), (2172, 0.0), (2179, 0.0), (2180, 0.0), (2182, 0.0), (2183, 0.0), (2186, 0.0), (2194, 0.0), (2200, 0.0), (2204, 0.0), (2215, 0.0), (2217, 0.0), (2218, 0.0), (2219, 0.0), (2220, 0.0), (2222, 0.0), (2225, 0.0), (2227, 0.0), (2233, 0.0), (2234, 0.0), (2238, 0.0), (2241, 0.0), (2243, 0.0), (2247, 0.0), (2249, 0.0), (2253, 0.0), (2256, 0.0), (2259, 0.0), (2261, 0.0), (2262, 0.0), (2263, 0.0), (2267, 0.0), (2271, 0.0), (2272, 0.0), (2274, 0.0), (2281, 0.0), (2282, 0.0), (2296, 0.0), (2297, 0.0), (2300, 0.0), (2305, 0.0), (2307, 0.0), (2311, 0.0), (2312, 0.0), (2315, 0.0), (2322, 0.0), (2325, 0.0), (2327, 0.0), (2329, 0.0), (2331, 0.0), (2332, 0.0), (2333, 0.0), (2337, 0.0), (2341, 0.0), (2342, 0.0), (2345, 0.0), (2351, 0.0), (2352, 0.0), (2357, 0.0), (2360, 0.0), (2364, 0.0), (2369, 0.0), (2372, 0.0), (2373, 0.0), (2377, 0.0), (2380, 0.0), (2381, 0.0), (2384, 0.0), (2389, 0.0), (2395, 0.0), (2398, 0.0), (2409, 0.0), (2414, 0.0), (2420, 0.0), (2431, 0.0), (2433, 0.0), (2435, 0.0), (2445, 0.0), (2450, 0.0), (2451, 0.0), (2452, 0.0), (2455, 0.0), (2456, 0.0), (2458, 0.0), (2462, 0.0), (2465, 0.0), (2470, 0.0), (2471, 0.0), (2472, 0.0), (2479, 0.0), (2483, 0.0), (2485, 0.0), (2491, 0.0), (2493, 0.0), (2497, 0.0), (2498, 0.0), (2499, 0.0), (2500, 0.0), (2504, 0.0), (2508, 0.0), (2511, 0.0), (2514, 0.0), (2515, 0.0), (2516, 0.0), (2518, 0.0), (2521, 0.0), (2523, 0.0), (2532, 0.0), (2536, 0.0), (2539, 0.0), (2542, 0.0), (2543, 0.0), (2547, 0.0), (2548, 0.0), (2549, 0.0), (2551, 0.0), (2562, 0.0), (2564, 0.0), (2566, 0.0), (2574, 0.0), (2575, 0.0), (2577, 0.0), (2578, 0.0), (2583, 0.0), (2584, 0.0), (2586, 0.0), (2588, 0.0), (2589, 0.0), (2590, 0.0), (2594, 0.0), (2596, 0.0), (2597, 0.0), (2604, 0.0), (2605, 0.0), (2608, 0.0), (2615, 0.0), (2616, 0.0), (2620, 0.0), (2627, 0.0), (2631, 0.0), (2637, 0.0), (2641, 0.0), (2648, 0.0), (2656, 0.0), (2657, 0.0), (2658, 0.0), (2659, 0.0), (2662, 0.0), (2663, 0.0), (2666, 0.0), (2667, 0.0), (2669, 0.0), (2670, 0.0), (2671, 0.0), (2672, 0.0), (2675, 0.0), (2676, 0.0), (2677, 0.0), (2681, 0.0), (2684, 0.0), (2685, 0.0), (2686, 0.0), (2690, 0.0), (2693, 0.0), (2701, 0.0), (2703, 0.0), (2704, 0.0), (2709, 0.0), (2715, 0.0), (2717, 0.0), (2719, 0.0), (2729, 0.0), (2730, 0.0), (2734, 0.0), (2737, 0.0), (2749, 0.0), (2750, 0.0), (2754, 0.0), (2756, 0.0), (2763, 0.0), (2770, 0.0), (2773, 0.0), (2781, 0.0), (2785, 0.0), (2793, 0.0), (2794, 0.0), (2799, 0.0), (2804, 0.0), (2806, 0.0), (2810, 0.0), (2811, 0.0), (2813, 0.0), (2814, 0.0), (2817, 0.0), (2818, 0.0), (2824, 0.0), (2827, 0.0), (2828, 0.0), (2829, 0.0), (2835, 0.0), (2836, 0.0), (2837, 0.0), (2839, 0.0), (2842, 0.0), (2850, 0.0), (2851, 0.0), (2852, 0.0), (2855, 0.0), (2856, 0.0), (2860, 0.0), (2864, 0.0), (2865, 0.0), (2866, 0.0), (2875, 0.0), (2877, 0.0), (2880, 0.0), (2891, 0.0), (2896, 0.0), (2898, 0.0), (2905, 0.0), (2906, 0.0), (2921, 0.0), (2922, 0.0), (2927, 0.0), (2928, 0.0), (2930, 0.0), (2938, 0.0), (2941, 0.0), (2951, 0.0), (2952, 0.0), (2955, 0.0), (2956, 0.0), (2958, 0.0), (2967, 0.0), (2968, 0.0), (2973, 0.0), (2979, 0.0), (2982, 0.0), (2983, 0.0), (2990, 0.0), (3001, 0.0), (3002, 0.0), (3006, 0.0), (3009, 0.0), (3021, 0.0), (3025, 0.0), (3029, 0.0), (3034, 0.0), (3038, 0.0), (3041, 0.0), (3047, 0.0), (3048, 0.0), (3054, 0.0), (3058, 0.0), (3059, 0.0), (3060, 0.0), (3061, 0.0), (3063, 0.0), (3073, 0.0), (3077, 0.0), (3078, 0.0), (3080, 0.0), (3082, 0.0), (3087, 0.0), (3088, 0.0), (3089, 0.0), (3090, 0.0), (3092, 0.0), (3103, 0.0), (3104, 0.0), (3105, 0.0), (3106, 0.0), (3107, 0.0), (3109, 0.0), (3115, 0.0), (3121, 0.0), (3130, 0.0), (3132, 0.0), (3138, 0.0), (3141, 0.0), (3145, 0.0), (3162, 0.0), (3169, 0.0), (3172, 0.0), (3175, 0.0), (3176, 0.0), (3177, 0.0), (3181, 0.0), (3188, 0.0), (3189, 0.0), (3190, 0.0), (3193, 0.0), (3197, 0.0), (3201, 0.0), (3202, 0.0), (3204, 0.0), (3207, 0.0), (3208, 0.0), (3212, 0.0), (3217, 0.0), (3221, 0.0), (3223, 0.0), (3229, 0.0), (3231, 0.0), (3236, 0.0), (3250, 0.0), (3251, 0.0), (3261, 0.0), (3266, 0.0), (3270, 0.0), (3272, 0.0), (3277, 0.0), (3281, 0.0), (3286, 0.0), (3287, 0.0), (3305, 0.0), (3310, 0.0), (3320, 0.0), (3321, 0.0), (3323, 0.0), (3324, 0.0), (3332, 0.0), (3333, 0.0), (3340, 0.0), (3343, 0.0), (3350, 0.0), (3366, 0.0), (3368, 0.0), (3371, 0.0), (3378, 0.0), (3383, 0.0), (3394, 0.0), (3397, 0.0), (3400, 0.0), (3401, 0.0), (3411, 0.0), (3415, 0.0), (3422, 0.0), (3424, 0.0), (3439, 0.0), (3442, 0.0), (3444, 0.0), (3454, 0.0), (3459, 0.0), (3461, 0.0), (3467, 0.0), (3472, 0.0), (3473, 0.0), (3475, 0.0), (3476, 0.0), (3481, 0.0), (3482, 0.0), (3485, 0.0), (3489, 0.0), (3490, 0.0), (3494, 0.0), (3505, 0.0), (3510, 0.0), (3519, 0.0), (3522, 0.0), (3525, 0.0), (3529, 0.0), (3530, 0.0), (3532, 0.0), (3533, 0.0), (3539, 0.0), (3543, 0.0), (3545, 0.0), (3547, 0.0), (3549, 0.0), (3550, 0.0), (3554, 0.0), (3562, 0.0), (3567, 0.0), (3568, 0.0), (3578, 0.0), (3581, 0.0), (3585, 0.0), (3589, 0.0), (3591, 0.0), (3592, 0.0), (3595, 0.0), (3600, 0.0), (3603, 0.0), (3607, 0.0), (3609, 0.0), (3610, 0.0), (3617, 0.0), (3622, 0.0), (3625, 0.0), (3628, 0.0), (3631, 0.0), (3633, 0.0), (3644, 0.0), (3649, 0.0), (3650, 0.0), (3662, 0.0), (3663, 0.0), (3671, 0.0), (3676, 0.0), (3681, 0.0), (3682, 0.0), (3683, 0.0), (3685, 0.0), (3686, 0.0), (3690, 0.0), (3693, 0.0), (3695, 0.0), (3697, 0.0), (3698, 0.0), (3700, 0.0), (3702, 0.0), (3703, 0.0), (3709, 0.0), (3712, 0.0), (3716, 0.0), (3717, 0.0), (3718, 0.0), (3722, 0.0), (3724, 0.0), (3726, 0.0), (3730, 0.0), (3732, 0.0), (3735, 0.0), (3736, 0.0), (3738, 0.0), (3740, 0.0), (3743, 0.0), (3758, 0.0), (3759, 0.0), (3760, 0.0), (3761, 0.0), (3764, 0.0), (3783, 0.0), (3785, 0.0), (3786, 0.0), (3789, 0.0), (3790, 0.0), (3791, 0.0), (3796, 0.0), (3798, 0.0), (3800, 0.0), (3803, 0.0), (3805, 0.0), (3808, 0.0), (3812, 0.0), (3816, 0.0), (3817, 0.0), (3818, 0.0), (3820, 0.0), (3830, 0.0), (3831, 0.0), (3834, 0.0), (3836, 0.0), (3837, 0.0), (3838, 0.0), (3840, 0.0), (3843, 0.0), (3846, 0.0), (3847, 0.0), (3851, 0.0), (3856, 0.0), (3858, 0.0), (3859, 0.0), (3869, 0.0), (3870, 0.0), (3879, 0.0), (3885, 0.0), (3887, 0.0), (3896, 0.0), (3912, 0.0), (3914, 0.0), (3918, 0.0), (3921, 0.0), (3929, 0.0), (3930, 0.0), (3931, 0.0), (3933, 0.0), (3936, 0.0), (3937, 0.0), (3943, 0.0), (3948, 0.0), (3950, 0.0), (3964, 0.0), (3965, 0.0), (3968, 0.0), (3969, 0.0), (3971, 0.0), (3972, 0.0), (3977, 0.0), (3979, 0.0), (3980, 0.0), (3981, 0.0), (3982, 0.0), (3985, 0.0), (3988, 0.0), (3991, 0.0), (3994, 0.0), (3996, 0.0), (4003, 0.0), (4006, 0.0), (4010, 0.0), (4018, 0.0), (4021, 0.0), (4022, 0.0), (4026, 0.0), (4027, 0.0), (4029, 0.0), (4031, 0.0), (4034, 0.0), (4037, 0.0), (4040, 0.0), (4041, 0.0), (4058, 0.0), (4063, 0.0), (4065, 0.0), (4067, 0.0), (4070, 0.0), (4072, 0.0), (4073, 0.0), (4078, 0.0), (4084, 0.0), (4086, 0.0), (4097, 0.0), (4100, 0.0), (4108, 0.0), (4109, 0.0), (4112, 0.0), (4114, 0.0), (4115, 0.0), (4125, 0.0), (4127, 0.0), (4131, 0.0), (4144, 0.0), (4146, 0.0), (4150, 0.0), (4153, 0.0), (4157, 0.0), (4159, 0.0), (4166, 0.0), (4167, 0.0), (4168, 0.0), (4170, 0.0), (4173, 0.0), (4179, 0.0), (4180, 0.0), (4181, 0.0), (4185, 0.0), (4186, 0.0), (4188, 0.0), (4190, 0.0), (4191, 0.0), (4194, 0.0), (4198, 0.0), (4199, 0.0), (4201, 0.0), (4204, 0.0), (4207, 0.0), (4212, 0.0), (4214, 0.0), (4215, 0.0), (4218, 0.0), (4223, 0.0), (4224, 0.0), (4229, 0.0), (4234, 0.0), (4237, 0.0), (4238, 0.0), (4239, 0.0), (4241, 0.0), (4250, 0.0), (4253, 0.0), (4256, 0.0), (4258, 0.0), (4260, 0.0), (4270, 0.0), (4271, 0.0), (4276, 0.0), (4278, 0.0), (4279, 0.0), (4291, 0.0), (4297, 0.0), (4300, 0.0), (4302, 0.0), (4305, 0.0), (4313, 0.0), (4315, 0.0), (4316, 0.0), (4317, 0.0), (4319, 0.0), (4323, 0.0), (4324, 0.0), (4327, 0.0), (4329, 0.0), (4332, 0.0), (4338, 0.0), (4341, 0.0), (4346, 0.0), (4347, 0.0), (4352, 0.0), (4353, 0.0), (4358, 0.0), (4364, 0.0), (4370, 0.0), (4372, 0.0), (4393, 0.0), (4404, 0.0), (4405, 0.0), (4406, 0.0), (4408, 0.0), (4410, 0.0), (4413, 0.0), (4414, 0.0), (4415, 0.0), (4417, 0.0), (4421, 0.0), (4424, 0.0), (4425, 0.0), (4433, 0.0), (4434, 0.0), (4437, 0.0), (4439, 0.0), (4447, 0.0), (4449, 0.0), (4451, 0.0), (4453, 0.0), (4454, 0.0), (4455, 0.0), (4457, 0.0), (4460, 0.0), (4463, 0.0), (4478, 0.0), (4480, 0.0), (4483, 0.0), (4485, 0.0), (4491, 0.0), (4493, 0.0), (4496, 0.0), (4498, 0.0), (4499, 0.0), (4500, 0.0), (4506, 0.0), (4508, 0.0), (4509, 0.0), (4519, 0.0), (4525, 0.0), (4526, 0.0), (4532, 0.0), (4539, 0.0), (4541, 0.0), (4542, 0.0), (4547, 0.0), (4549, 0.0), (4556, 0.0), (4558, 0.0), (4559, 0.0), (4560, 0.0), (4561, 0.0), (4562, 0.0), (4565, 0.0), (4568, 0.0), (4569, 0.0), (4570, 0.0), (4577, 0.0), (4578, 0.0), (4580, 0.0), (4592, 0.0), (4597, 0.0), (4599, 0.0), (4600, 0.0), (4609, 0.0), (4613, 0.0), (4615, 0.0), (4618, 0.0), (4622, 0.0), (4628, 0.0), (4631, 0.0), (4635, 0.0), (4644, 0.0), (4647, 0.0), (4648, 0.0), (4651, 0.0), (4654, 0.0), (4655, 0.0), (4662, 0.0), (4667, 0.0), (4671, 0.0), (4672, 0.0), (4675, 0.0), (4676, 0.0), (4681, 0.0), (4683, 0.0), (4688, 0.0), (4690, 0.0), (4700, 0.0), (4702, 0.0), (4711, 0.0), (4714, 0.0), (4716, 0.0), (4720, 0.0), (4725, 0.0), (4728, 0.0), (4730, 0.0), (4736, 0.0), (4737, 0.0), (4740, 0.0), (4741, 0.0), (4742, 0.0)]\n"
          ]
        }
      ]
    },
    {
      "cell_type": "code",
      "source": [
        "print(\"Top 30 Movies Suggested for You: \\n\")\n",
        "\n",
        "i=1\n",
        "for movie in ssm:\n",
        "  index=movie[0]\n",
        "  tfi=df[df.index==index][\"Movie_Title\"].values[0]\n",
        "  if (i<51):\n",
        "    print(i,\".\",tfi)\n",
        "    i+=1"
      ],
      "metadata": {
        "colab": {
          "base_uri": "https://localhost:8080/"
        },
        "id": "OvBPmRG_G9jl",
        "outputId": "401c2da0-953a-430e-eec8-1ccaba7e5251"
      },
      "execution_count": null,
      "outputs": [
        {
          "output_type": "stream",
          "name": "stdout",
          "text": [
            "Top 30 Movies Suggested for You: \n",
            "\n",
            "1 . Niagara\n",
            "2 . Caravans\n",
            "3 . My Week with Marilyn\n",
            "4 . Brokeback Mountain\n",
            "5 . Harry Brown\n",
            "6 . Night of the Living Dead\n",
            "7 . The Curse of Downers Grove\n",
            "8 . The Boy Next Door\n",
            "9 . Back to the Future\n",
            "10 . The Juror\n",
            "11 . Some Like It Hot\n",
            "12 . Enough\n",
            "13 . The Kentucky Fried Movie\n",
            "14 . Eye for an Eye\n",
            "15 . Welcome to the Sticks\n",
            "16 . Alice Through the Looking Glass\n",
            "17 . Superman III\n",
            "18 . The Misfits\n",
            "19 . Premium Rush\n",
            "20 . Duel in the Sun\n",
            "21 . Sabotage\n",
            "22 . Small Soldiers\n",
            "23 . All That Jazz\n",
            "24 . Camping Sauvage\n",
            "25 . The Raid\n",
            "26 . Beyond the Black Rainbow\n",
            "27 . To Kill a Mockingbird\n",
            "28 . World Trade Center\n",
            "29 . The Dark Knight Rises\n",
            "30 . Tora! Tora! Tora!\n",
            "31 . We Are Your Friends\n",
            "32 . Edge of Darkness\n",
            "33 . Minority Report\n",
            "34 . Out of Time\n",
            "35 . Savages\n",
            "36 . Mad Max 2: The Road Warrior\n",
            "37 . Man of Steel\n",
            "38 . The Other Woman\n",
            "39 . Dallas Buyers Club\n",
            "40 . Master and Commander: The Far Side of the World\n",
            "41 . The Lazarus Effect\n",
            "42 . Source Code\n",
            "43 . Broken Vessels\n",
            "44 . Butch Cassidy and the Sundance Kid\n",
            "45 . Song One\n",
            "46 . Mission: Impossible\n",
            "47 . Mad Hot Ballroom\n",
            "48 . The Change-Up\n",
            "49 . The Lost Weekend\n",
            "50 . Man on Wire\n"
          ]
        }
      ]
    },
    {
      "cell_type": "code",
      "source": [
        "mn=input(\"Enter your Favourite Movie: \")\n",
        "lot=df[\"Movie_Title\"].tolist()\n",
        "fcm=difflib.get_close_matches(mn,lot)\n",
        "cm=fcm[0]\n",
        "iom=df[df.Movie_Title==cm][\"Movie_ID\"].values[0]\n",
        "rs=list(enumerate(ss[icm]))\n",
        "ssm=sorted(rs,key=lambda x:x[1],reverse=True)\n",
        "print(\"Top 10 Movies Suggested for You: \\n\")\n",
        "\n",
        "i=1\n",
        "for movie in ssm:\n",
        "  index=movie[0]\n",
        "  tfi=df[df.index==index][\"Movie_Title\"].values[0]\n",
        "  if (i<11):\n",
        "    print(i,\".\",tfi)\n",
        "    i+=1"
      ],
      "metadata": {
        "colab": {
          "base_uri": "https://localhost:8080/"
        },
        "id": "Agv_Z-RkHg-Y",
        "outputId": "48577571-127c-428c-d6c2-cef42ee25cca"
      },
      "execution_count": null,
      "outputs": [
        {
          "output_type": "stream",
          "name": "stdout",
          "text": [
            "Enter your Favourite Movie: Avatar\n",
            "Top 10 Movies Suggested for You: \n",
            "\n",
            "1 . Niagara\n",
            "2 . Caravans\n",
            "3 . My Week with Marilyn\n",
            "4 . Brokeback Mountain\n",
            "5 . Harry Brown\n",
            "6 . Night of the Living Dead\n",
            "7 . The Curse of Downers Grove\n",
            "8 . The Boy Next Door\n",
            "9 . Back to the Future\n",
            "10 . The Juror\n"
          ]
        }
      ]
    }
  ]
}